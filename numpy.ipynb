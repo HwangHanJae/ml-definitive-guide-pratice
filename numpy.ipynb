{
  "nbformat": 4,
  "nbformat_minor": 0,
  "metadata": {
    "colab": {
      "name": "numpy.ipynb",
      "provenance": [],
      "collapsed_sections": [],
      "authorship_tag": "ABX9TyNzWg/uk9g0IY7mzL48C1A4",
      "include_colab_link": true
    },
    "kernelspec": {
      "name": "python3",
      "display_name": "Python 3"
    },
    "language_info": {
      "name": "python"
    }
  },
  "cells": [
    {
      "cell_type": "markdown",
      "metadata": {
        "id": "view-in-github",
        "colab_type": "text"
      },
      "source": [
        "<a href=\"https://colab.research.google.com/github/HwangHanJae/ml-definitive-guide-pratice/blob/main/numpy.ipynb\" target=\"_parent\"><img src=\"https://colab.research.google.com/assets/colab-badge.svg\" alt=\"Open In Colab\"/></a>"
      ]
    },
    {
      "cell_type": "markdown",
      "source": [
        "라이브러리 로드"
      ],
      "metadata": {
        "id": "PPGtmxSLcZ_V"
      }
    },
    {
      "cell_type": "code",
      "metadata": {
        "id": "G6GYtEWEyXGA"
      },
      "source": [
        "#라이브러리 로드\n",
        "import numpy as np"
      ],
      "execution_count": 1,
      "outputs": []
    },
    {
      "cell_type": "markdown",
      "source": [
        "ndarray 확인"
      ],
      "metadata": {
        "id": "n5myccFmcbbd"
      }
    },
    {
      "cell_type": "code",
      "metadata": {
        "colab": {
          "base_uri": "https://localhost:8080/"
        },
        "id": "1oYUihtMye1U",
        "outputId": "7dc0789b-f32f-4e3e-b070-88df5732e614"
      },
      "source": [
        "#shape 변수로 ndarray의 크기 확인\n",
        "array1 = np.array([1,2,3])\n",
        "print(\"array1 type: \", type(array1))\n",
        "print(\"array1 type 형태: \", array1.shape)\n",
        "print(array1)\n",
        "\n",
        "array2 = np.array([[1,2,3,],\n",
        "                   [2,3,4]])\n",
        "\n",
        "print(\"array2 type: \", type(array2))\n",
        "print(\"array2 type 형태: \", array2.shape)\n",
        "print(array2)\n",
        "\n",
        "array3 = np.array([[1,2,3]])\n",
        "\n",
        "print(\"array3 type: \", type(array3))\n",
        "print(\"array3 type 형태: \", array3.shape)\n",
        "print(array3)"
      ],
      "execution_count": 3,
      "outputs": [
        {
          "output_type": "stream",
          "name": "stdout",
          "text": [
            "array1 type:  <class 'numpy.ndarray'>\n",
            "array1 type 형태:  (3,)\n",
            "[1 2 3]\n",
            "array2 type:  <class 'numpy.ndarray'>\n",
            "array2 type 형태:  (2, 3)\n",
            "[[1 2 3]\n",
            " [2 3 4]]\n",
            "array3 type:  <class 'numpy.ndarray'>\n",
            "array3 type 형태:  (1, 3)\n",
            "[[1 2 3]]\n"
          ]
        }
      ]
    },
    {
      "cell_type": "code",
      "metadata": {
        "colab": {
          "base_uri": "https://localhost:8080/"
        },
        "id": "7frbq4XjzI0U",
        "outputId": "df815427-15f4-4e05-bfda-aa5d55e53388"
      },
      "source": [
        "#각 차원을 ndarray.ndim을 이용해 확인\n",
        "print(\"array1 : {:0}차원, array2 : {:1}차원, array3 : {:2}차원\".format(array1.ndim, array2.ndim, array3.ndim))"
      ],
      "execution_count": null,
      "outputs": [
        {
          "output_type": "stream",
          "name": "stdout",
          "text": [
            "array1 : 1차원, array2 : 2차원, array3 :  2차원\n"
          ]
        }
      ]
    },
    {
      "cell_type": "code",
      "metadata": {
        "colab": {
          "base_uri": "https://localhost:8080/"
        },
        "id": "tHldhK9wzzpr",
        "outputId": "34ac3a92-708e-4711-c2ab-5ef3d693c6b9"
      },
      "source": [
        "#dtype 속성으로 확인\n",
        "\n",
        "list1 = [1,2,3]\n",
        "\n",
        "print(type(list1))\n",
        "array1 = np.array(list1)\n",
        "print()\n",
        "print(type(array1))\n",
        "print(array1, array1.dtype)"
      ],
      "execution_count": 5,
      "outputs": [
        {
          "output_type": "stream",
          "name": "stdout",
          "text": [
            "<class 'list'>\n",
            "\n",
            "<class 'numpy.ndarray'>\n",
            "[1 2 3] int64\n"
          ]
        }
      ]
    },
    {
      "cell_type": "code",
      "metadata": {
        "colab": {
          "base_uri": "https://localhost:8080/"
        },
        "id": "obRJ_yKt0O08",
        "outputId": "7dd7ff27-a1cb-4278-e68b-3d70469cdb80"
      },
      "source": [
        "#int, string 리스트, int float 리스트 ndarray로 변경후 데이터 타입 확인\n",
        "list2 = [1,2,\"test\"]\n",
        "array2 = np.array(list2)\n",
        "print(array2, array2.dtype)\n",
        "\n",
        "list3 = [1,2,3.0]\n",
        "array3 = np.array(list3)\n",
        "print(array3, array3.dtype)"
      ],
      "execution_count": 6,
      "outputs": [
        {
          "output_type": "stream",
          "name": "stdout",
          "text": [
            "['1' '2' 'test'] <U21\n",
            "[1. 2. 3.] float64\n"
          ]
        }
      ]
    },
    {
      "cell_type": "code",
      "metadata": {
        "colab": {
          "base_uri": "https://localhost:8080/"
        },
        "id": "8N3CWjIb0u9j",
        "outputId": "34ff98f5-a23e-4075-f980-8067c6ec0bf3"
      },
      "source": [
        "#int32 type -> float64 type , float64 type -> int32 type\n",
        "\n",
        "array_int = np.array([1,2,3])\n",
        "array_float = array_int.astype(\"float64\")\n",
        "print(array_float, array_float.dtype)\n",
        "\n",
        "\n",
        "array_int1 = array_float.astype(\"int32\")\n",
        "print(array_int1, array_int1.dtype)\n",
        "\n",
        "array_float1 = np.array([1.1,2.1,3.1])\n",
        "array_int2 = array_float1.astype(\"int32\")\n",
        "print(array_int2, array_int2.dtype)"
      ],
      "execution_count": 7,
      "outputs": [
        {
          "output_type": "stream",
          "name": "stdout",
          "text": [
            "[1. 2. 3.] float64\n",
            "[1 2 3] int32\n",
            "[1 2 3] int32\n"
          ]
        }
      ]
    },
    {
      "cell_type": "markdown",
      "source": [
        "ndarray 생성"
      ],
      "metadata": {
        "id": "kVcK5mz3ckaE"
      }
    },
    {
      "cell_type": "code",
      "metadata": {
        "colab": {
          "base_uri": "https://localhost:8080/"
        },
        "id": "fBO_P4ZB12pM",
        "outputId": "ddaa9cf6-6737-4d10-c240-133d61d59236"
      },
      "source": [
        "#arange() 함수 사용 0부터 순차적으로 ndarray 생성\n",
        "#start, stop 인자값이 존재\n",
        "sequence_array = np.arange(10)\n",
        "print(sequence_array)\n",
        "print(sequence_array.dtype, sequence_array.shape)"
      ],
      "execution_count": 8,
      "outputs": [
        {
          "output_type": "stream",
          "name": "stdout",
          "text": [
            "[0 1 2 3 4 5 6 7 8 9]\n",
            "int64 (10,)\n"
          ]
        }
      ]
    },
    {
      "cell_type": "code",
      "metadata": {
        "colab": {
          "base_uri": "https://localhost:8080/"
        },
        "id": "MtRI7m1n2PXb",
        "outputId": "a23dd8e0-540e-4595-eec5-82fb054b0d69"
      },
      "source": [
        "#zeros(), ones() 함수 사용 \n",
        "#default float64\n",
        "zero_array = np.zeros((3,2), dtype=\"int32\")\n",
        "print(zero_array)\n",
        "print(zero_array.dtype, zero_array.shape)\n",
        "\n",
        "one_array = np.ones((3,2))\n",
        "print(one_array)\n",
        "print(one_array.dtype, one_array.shape)"
      ],
      "execution_count": 9,
      "outputs": [
        {
          "output_type": "stream",
          "name": "stdout",
          "text": [
            "[[0 0]\n",
            " [0 0]\n",
            " [0 0]]\n",
            "int32 (3, 2)\n",
            "[[1. 1.]\n",
            " [1. 1.]\n",
            " [1. 1.]]\n",
            "float64 (3, 2)\n"
          ]
        }
      ]
    },
    {
      "cell_type": "markdown",
      "source": [
        "ndarray reshape"
      ],
      "metadata": {
        "id": "JmcvmPXHcnsT"
      }
    },
    {
      "cell_type": "code",
      "metadata": {
        "colab": {
          "base_uri": "https://localhost:8080/"
        },
        "id": "zcHAL4I_2y9d",
        "outputId": "c52d65b0-8347-4302-bfaa-f93617f5561d"
      },
      "source": [
        "#reshape() : ndarray의 차원의 크기를 변경\n",
        "\n",
        "#0~9까지의 1차원 ndarray를 2x5, 5x2로 변경\n",
        "\n",
        "array1 =  np.arange(10)\n",
        "print(\"array1\\n\", array1)\n",
        "\n",
        "array2 = array1.reshape(2,5)\n",
        "print(\"array2\\n\", array2)\n",
        "\n",
        "array3 = array1.reshape(5,2)\n",
        "print(\"array3\\n\", array3)"
      ],
      "execution_count": 10,
      "outputs": [
        {
          "output_type": "stream",
          "name": "stdout",
          "text": [
            "array1\n",
            " [0 1 2 3 4 5 6 7 8 9]\n",
            "array2\n",
            " [[0 1 2 3 4]\n",
            " [5 6 7 8 9]]\n",
            "array3\n",
            " [[0 1]\n",
            " [2 3]\n",
            " [4 5]\n",
            " [6 7]\n",
            " [8 9]]\n"
          ]
        }
      ]
    },
    {
      "cell_type": "code",
      "metadata": {
        "colab": {
          "base_uri": "https://localhost:8080/"
        },
        "id": "Ho1zDiiV3L6y",
        "outputId": "257b4b7f-9293-4bdf-9ca1-604a8a1be991"
      },
      "source": [
        "#가장 보편적으로 사용하는 reshape() 인자값에 -1넣기\n",
        "array1= np.arange(10)\n",
        "print(\"array1 shape : \", array1.shape)\n",
        "print(array1)\n",
        "array2 = array1.reshape(-1, 5)\n",
        "print(\"array2 shape : \", array2.shape)\n",
        "print(array2)\n",
        "array3 = array1.reshape(5,-1)\n",
        "print(\"array3 shape : \", array3.shape)\n",
        "print(array3)"
      ],
      "execution_count": 12,
      "outputs": [
        {
          "output_type": "stream",
          "name": "stdout",
          "text": [
            "array1 shape :  (10,)\n",
            "[0 1 2 3 4 5 6 7 8 9]\n",
            "array2 shape :  (2, 5)\n",
            "[[0 1 2 3 4]\n",
            " [5 6 7 8 9]]\n",
            "array3 shape :  (5, 2)\n",
            "[[0 1]\n",
            " [2 3]\n",
            " [4 5]\n",
            " [6 7]\n",
            " [8 9]]\n"
          ]
        }
      ]
    },
    {
      "cell_type": "code",
      "source": [
        "#reshape(-1,1)\n",
        "#원본형태가 어떤형태라도 2차원이고 여러개의 로우를 가지되 반드시 1개의 컬럼을 가진\n",
        "#ndararry로 변환됨을 보장\n",
        "\n",
        "array1 = np.arange(8)\n",
        "array3d = array1.reshape((2,2,2))\n",
        "print(\"array3d shape : \", array3d.shape)\n",
        "print(\"array3d:\\n\", array3d.tolist())\n",
        "#3차원 ndarray를 2차원 ndarray로 변환\n",
        "array5 = array3d.reshape(-1,1)\n",
        "print('array5:\\n ', array5.tolist())\n",
        "print(\"array5 shape:\", array5.shape)\n",
        "#1차원 ndarray를 2차원 ndarray로 변환\n",
        "array6 = array1.reshape(-1,1)\n",
        "print(\"array6:\\n\", array6.tolist())\n",
        "print(\"array6 shape ; \", array6.shape)"
      ],
      "metadata": {
        "colab": {
          "base_uri": "https://localhost:8080/"
        },
        "id": "k3X9wbcVWPYx",
        "outputId": "3825cd01-17ac-4dde-971e-6f0591b13987"
      },
      "execution_count": 19,
      "outputs": [
        {
          "output_type": "stream",
          "name": "stdout",
          "text": [
            "array3d shape :  (2, 2, 2)\n",
            "array3d:\n",
            " [[[0, 1], [2, 3]], [[4, 5], [6, 7]]]\n",
            "array5:\n",
            "  [[0], [1], [2], [3], [4], [5], [6], [7]]\n",
            "array5 shape: (8, 1)\n",
            "array6:\n",
            " [[0], [1], [2], [3], [4], [5], [6], [7]]\n",
            "array6 shape ;  (8, 1)\n"
          ]
        }
      ]
    },
    {
      "cell_type": "markdown",
      "source": [
        "ndarray 인덱싱"
      ],
      "metadata": {
        "id": "sypE1Q3Vasrw"
      }
    },
    {
      "cell_type": "code",
      "source": [
        "#1부터 9까지의 1차원 ndarray 생성\n",
        "array1 = np.arange(start=1, stop=10)\n",
        "print(\"array1 : \", array1)\n",
        "#index는 0부터 시작하므로 array1[2]는 3번째 index 위치의 데이터값을 의미\n",
        "value = array1[2]\n",
        "print(\"value\", value)\n",
        "print(type(value))"
      ],
      "metadata": {
        "colab": {
          "base_uri": "https://localhost:8080/"
        },
        "id": "2_hSQ6nzctdB",
        "outputId": "7a0faa18-ae90-4185-8763-3dc4bb531058"
      },
      "execution_count": 22,
      "outputs": [
        {
          "output_type": "stream",
          "name": "stdout",
          "text": [
            "array1 :  [1 2 3 4 5 6 7 8 9]\n",
            "value 3\n",
            "<class 'numpy.int64'>\n"
          ]
        }
      ]
    },
    {
      "cell_type": "code",
      "source": [
        "print(\"array1 : \", array1)\n",
        "print('맨 뒤의 값:', array1[-1], \" 맨 뒤에서 두 번째 값:\", array1[-2])"
      ],
      "metadata": {
        "colab": {
          "base_uri": "https://localhost:8080/"
        },
        "id": "ZM6ec-ewdLOz",
        "outputId": "24f1e1bd-bdab-47f0-ac81-7e7dd3cdb6d0"
      },
      "execution_count": 24,
      "outputs": [
        {
          "output_type": "stream",
          "name": "stdout",
          "text": [
            "array1 :  [1 2 3 4 5 6 7 8 9]\n",
            "맨 뒤의 값: 9  맨 뒤에서 두 번째 값: 8\n"
          ]
        }
      ]
    },
    {
      "cell_type": "code",
      "source": [
        "#단일 인덱스를 이용해 ndarray 내의 데이터값 수정\n",
        "array1 = np.arange(1,10)\n",
        "print(\"array1 : \", array1)\n",
        "print(\"수정전 array1[0] : \", array1[0])\n",
        "array1[0] = 9\n",
        "print(\"수정후 array1[0] : \", array1[0])\n",
        "print()\n",
        "print(\"수정전 array1[8] : \", array1[8])\n",
        "array1[8] = 0\n",
        "print(\"수정후 array1[8] : \", array1[8])\n",
        "print()\n",
        "print(\"array1 : \", array1)"
      ],
      "metadata": {
        "colab": {
          "base_uri": "https://localhost:8080/"
        },
        "id": "-tBnJWs4dokm",
        "outputId": "f84179df-e733-4aac-e8d8-9027521648e6"
      },
      "execution_count": 28,
      "outputs": [
        {
          "output_type": "stream",
          "name": "stdout",
          "text": [
            "array1 :  [1 2 3 4 5 6 7 8 9]\n",
            "수정전 array1[0] :  1\n",
            "수정후 array1[0] :  9\n",
            "\n",
            "수정전 array1[8] :  9\n",
            "수정후 array1[8] :  0\n",
            "\n",
            "array1 :  [9 2 3 4 5 6 7 8 0]\n"
          ]
        }
      ]
    },
    {
      "cell_type": "code",
      "source": [
        "#2차원 ndarray에서의 데이터 접근은 콤마(,)로 분리된\n",
        "#로우와 칼럼의 위치의 인덱스를 통해 접근\n",
        "\n",
        "array1d = np.arange(start=1, stop=10)\n",
        "print(\"array1d : \", array1d)\n",
        "array2d = array1d.reshape(3,3)\n",
        "print(\"array2d :\\n\", array2d)\n",
        "\n",
        "print(\"(row=0, col=0) index 가리키는 값:\", array2d[0,0])\n",
        "print(\"(row=0, col=1) index 가리키는 값:\", array2d[0,1])\n",
        "print(\"(row=1, col=0) index 가리키는 값:\", array2d[1,0])\n",
        "print(\"(row=2, col=2) index 가리키는 값:\", array2d[2,2])"
      ],
      "metadata": {
        "colab": {
          "base_uri": "https://localhost:8080/"
        },
        "id": "KgqwUC57ehwR",
        "outputId": "46b7579c-dce9-453a-9c30-b30f1954042a"
      },
      "execution_count": 34,
      "outputs": [
        {
          "output_type": "stream",
          "name": "stdout",
          "text": [
            "array1d :  [1 2 3 4 5 6 7 8 9]\n",
            "array2d :\n",
            " [[1 2 3]\n",
            " [4 5 6]\n",
            " [7 8 9]]\n",
            "(row=0, col=0) index 가리키는 값: 1\n",
            "(row=0, col=1) index 가리키는 값: 2\n",
            "(row=1, col=0) index 가리키는 값: 4\n",
            "(row=2, col=2) index 가리키는 값: 9\n"
          ]
        }
      ]
    },
    {
      "cell_type": "code",
      "source": [
        "#슬라이싱(:) 기호를 이용해 연속한 데이터를 슬라이싱해서 추출\n",
        "#시작인덱스에서 종료인덱스-1의 위치에 있는 데이터를 반환\n",
        "\n",
        "array1= np.arange(start=1, stop=10)\n",
        "print(\"array1 : \", array1)\n",
        "array3 = array1[0:3]\n",
        "print(array3)\n",
        "print(type(array3))"
      ],
      "metadata": {
        "colab": {
          "base_uri": "https://localhost:8080/"
        },
        "id": "FEEwMoILf0Wu",
        "outputId": "6f812ea6-eabd-44a0-ac7e-6d9c09c8ac22"
      },
      "execution_count": 35,
      "outputs": [
        {
          "output_type": "stream",
          "name": "stdout",
          "text": [
            "array1 :  [1 2 3 4 5 6 7 8 9]\n",
            "[1 2 3]\n",
            "<class 'numpy.ndarray'>\n"
          ]
        }
      ]
    },
    {
      "cell_type": "code",
      "source": [
        "# \":\" 기호 앞에 시작 인덱스를 생략하면 맨 처음 인덱스인 0으로 간주\n",
        "# \":\" 기호 뒤에 종료 인덱스를 생략하면 맨 마지막 인덱스로 간주\n",
        "\n",
        "array1 = np.arange(start=1, stop=10)\n",
        "array4 = array1[:3]\n",
        "print(\"array4 : \", array4)\n",
        "\n",
        "array5 = array1[3:]\n",
        "print(\"array5 : \", array5)\n",
        "\n",
        "array6 = array1[:]\n",
        "print(\"array6 : \", array6)"
      ],
      "metadata": {
        "colab": {
          "base_uri": "https://localhost:8080/"
        },
        "id": "XVJacR65hJj0",
        "outputId": "998f4da9-7714-4406-95e5-810034e18bb3"
      },
      "execution_count": 38,
      "outputs": [
        {
          "output_type": "stream",
          "name": "stdout",
          "text": [
            "array4 :  [1 2 3]\n",
            "array5 :  [4 5 6 7 8 9]\n",
            "array6 :  [1 2 3 4 5 6 7 8 9]\n"
          ]
        }
      ]
    },
    {
      "cell_type": "code",
      "source": [
        "#2차원 ndarray 슬라이싱(:)\n",
        "array1d = np.arange(start=1, stop=10)\n",
        "array2d = array1d.reshape(3,3)\n",
        "print(\"array2d :\\n\", array2d)\n",
        "\n",
        "print(\"array2d[0:2, 0:2] : \\n\", array2d[0:2, 0:2])\n",
        "print(\"array2d[1:3, 0:3] : \\n\", array2d[1:3, 0:3])\n",
        "print(\"array2d[1:3, :] : \\n\", array2d[1:3, :] )\n",
        "print(\"array2d[:, :] : \\n\", array2d[:, :])\n",
        "print(\"array2d[:2, 1:] : \\n\", array2d[:2, 1:])\n",
        "print(\"array2d[:2, 0] : \\n\", array2d[:2, 0])"
      ],
      "metadata": {
        "colab": {
          "base_uri": "https://localhost:8080/"
        },
        "id": "4NQxhKKfh-Zq",
        "outputId": "5fea04be-7528-4fdc-9ec3-3291069d3af8"
      },
      "execution_count": 40,
      "outputs": [
        {
          "output_type": "stream",
          "name": "stdout",
          "text": [
            "array2d :\n",
            " [[1 2 3]\n",
            " [4 5 6]\n",
            " [7 8 9]]\n",
            "array2d[0:2, 0:2] : \n",
            " [[1 2]\n",
            " [4 5]]\n",
            "array2d[1:3, 0:3] : \n",
            " [[4 5 6]\n",
            " [7 8 9]]\n",
            "array2d[1:3, :] : \n",
            " [[4 5 6]\n",
            " [7 8 9]]\n",
            "array2d[:, :] : \n",
            " [[1 2 3]\n",
            " [4 5 6]\n",
            " [7 8 9]]\n",
            "array2d[:2, 1:] : \n",
            " [[2 3]\n",
            " [5 6]]\n",
            "array2d[:2, 0] : \n",
            " [1 4]\n"
          ]
        }
      ]
    },
    {
      "cell_type": "code",
      "source": [
        "#2차원에서 뒤에 오는 인덱스를 없애면 로우 축(axis0)의 첫번째 ndarray를 반환\n",
        "#3차원에서는 뒤에 오는 인덳를 없애면 2차원 ndarray를 반환\n",
        "print(\"array2d : \\n\", array2d)\n",
        "print(\"array2d[0] : \",array2d[0])\n",
        "print(\"array2d[1] : \", array2d[1])"
      ],
      "metadata": {
        "colab": {
          "base_uri": "https://localhost:8080/"
        },
        "id": "n3Eps1HoiX1P",
        "outputId": "f323db12-f5d2-4b02-959e-3e7aa7872e82"
      },
      "execution_count": 41,
      "outputs": [
        {
          "output_type": "stream",
          "name": "stdout",
          "text": [
            "array2d : \n",
            " [[1 2 3]\n",
            " [4 5 6]\n",
            " [7 8 9]]\n",
            "array2d[0] :  [1 2 3]\n",
            "array2d[1] :  [4 5 6]\n"
          ]
        }
      ]
    },
    {
      "cell_type": "code",
      "source": [
        "#팬시 인덱싱(Fancy Indexing)은 리스트나 ndarray로 인덱스 집합을 지정\n",
        "#해당 위치의 인덱스에 해당하는 ndarray를 반환하는 인덱싱 방식\n",
        "\n",
        "array1d = np.arange(start=1, stop=10)\n",
        "array2d = array1d.reshape(3,3)\n",
        "print(\"array2d : \\n\", array2d)\n",
        "print(\"array2d[[0,1],2] : \",array2d[[0,1], 2])\n",
        "print(\"array2d[[0,1],0:2] : \\n\",array2d[[0,1], 0:2])\n",
        "print(\"array2d[[0,1]] : \\n \", array2d[[0,1]])"
      ],
      "metadata": {
        "colab": {
          "base_uri": "https://localhost:8080/"
        },
        "id": "aDNdtP5IjyEf",
        "outputId": "47a1be6a-e233-4bec-c6c5-db8c63fff1cf"
      },
      "execution_count": 45,
      "outputs": [
        {
          "output_type": "stream",
          "name": "stdout",
          "text": [
            "array2d : \n",
            " [[1 2 3]\n",
            " [4 5 6]\n",
            " [7 8 9]]\n",
            "array2d[[0,1],2] :  [3 6]\n",
            "array2d[[0,1],0:2] : \n",
            " [[1 2]\n",
            " [4 5]]\n",
            "array2d[[0,1]] : \n",
            "  [[1 2 3]\n",
            " [4 5 6]]\n"
          ]
        }
      ]
    },
    {
      "cell_type": "code",
      "source": [
        "#불린 인덱싱(Boolean indexing) 조건 필터링\n",
        "#불린 인덱싱을 이용하면 for loop / if else 문 보다 훨씬 간단하게 이를 구현\n",
        "#[]내에 조건문을 그래도 기재\n",
        "\n",
        "array1d = np.arange(start=1, stop=10)\n",
        "#[]안에 array1d > 5 Boolean indexing을 적용\n",
        "print(\"array1d > 5 불린 인덱싱 결과 값 : \", array1d[array1d > 5])"
      ],
      "metadata": {
        "colab": {
          "base_uri": "https://localhost:8080/"
        },
        "id": "a7V2JZ92lfOw",
        "outputId": "d1b283ac-67b0-4411-c72d-4e65777699f8"
      },
      "execution_count": 46,
      "outputs": [
        {
          "output_type": "stream",
          "name": "stdout",
          "text": [
            "array1d > 5 불린 인덱싱 결과 값 :  [6 7 8 9]\n"
          ]
        }
      ]
    },
    {
      "cell_type": "code",
      "source": [
        "array1d > 5"
      ],
      "metadata": {
        "colab": {
          "base_uri": "https://localhost:8080/"
        },
        "id": "Wlg-4Pz5ms54",
        "outputId": "921bd80a-b054-491f-97c2-538c0243b74a"
      },
      "execution_count": 47,
      "outputs": [
        {
          "output_type": "execute_result",
          "data": {
            "text/plain": [
              "array([False, False, False, False, False,  True,  True,  True,  True])"
            ]
          },
          "metadata": {},
          "execution_count": 47
        }
      ]
    },
    {
      "cell_type": "code",
      "source": [
        "boolean_indexes = np.array([False, False, False,False, False,True, True, True, True])\n",
        "print(\"불린 인덱스로 필터링 결과 : \", array1d[boolean_indexes])"
      ],
      "metadata": {
        "colab": {
          "base_uri": "https://localhost:8080/"
        },
        "id": "P2Qzcwwdm2JL",
        "outputId": "60f98fd0-2f00-4c0e-f8ae-297e61c36651"
      },
      "execution_count": 48,
      "outputs": [
        {
          "output_type": "stream",
          "name": "stdout",
          "text": [
            "불린 인덱스로 필터링 결과 :  [6 7 8 9]\n"
          ]
        }
      ]
    },
    {
      "cell_type": "code",
      "source": [
        "indexes = np.array([5,6,7,8])\n",
        "print(\"일반 인덱스로 필터링 결과 : \", array1d[indexes])"
      ],
      "metadata": {
        "colab": {
          "base_uri": "https://localhost:8080/"
        },
        "id": "wLXj0LJ5nRQp",
        "outputId": "21572770-a6d6-4555-95bc-50dd11741156"
      },
      "execution_count": 49,
      "outputs": [
        {
          "output_type": "stream",
          "name": "stdout",
          "text": [
            "일반 인덱스로 필터링 결과 :  [6 7 8 9]\n"
          ]
        }
      ]
    },
    {
      "cell_type": "markdown",
      "source": [
        "행렬의 정렬 - sort(), argsort()"
      ],
      "metadata": {
        "id": "eqT318GUncht"
      }
    },
    {
      "cell_type": "code",
      "source": [
        "org_array = np.array([3,1,9,5])\n",
        "print(\"원본 행렬: \", org_array)\n",
        "#np.sort()로 정렬\n",
        "sort_array1= np.sort(org_array)\n",
        "print(\"np.sort() 호출 후 반환된 정렬 행렬 : \", sort_array1)\n",
        "print(\"np.sort() 호출 후 원본 행렬 : \", org_array)\n",
        "#ndarray.sort()로 정렬\n",
        "sort_array2 = org_array.sort()\n",
        "print(\"org_array.sort() 호출 후 반환된 행렬 : \", sort_array2)\n",
        "print(\"org_array.sort() 호출 후 원본 행렬 : \", org_array)"
      ],
      "metadata": {
        "colab": {
          "base_uri": "https://localhost:8080/"
        },
        "id": "kysx9bGQn2zG",
        "outputId": "7e4fbafe-c6a8-41cb-9b97-202e32105cca"
      },
      "execution_count": 51,
      "outputs": [
        {
          "output_type": "stream",
          "name": "stdout",
          "text": [
            "원본 행렬:  [3 1 9 5]\n",
            "np.sort() 호출 후 반환된 정렬 행렬 :  [1 3 5 9]\n",
            "np.sort() 호출 후 원본 행렬 :  [3 1 9 5]\n",
            "org_array.sort() 호출 후 반환된 행렬 :  None\n",
            "org_array.sort() 호출 후 원본 행렬 :  [1 3 5 9]\n"
          ]
        }
      ]
    },
    {
      "cell_type": "code",
      "source": [
        "#내림차순 정렬 [::-1]\n",
        "sort_array1_desc = np.sort(org_array)[::-1]\n",
        "print(\"내림차순으로 정렬 : \", sort_array1_desc)"
      ],
      "metadata": {
        "colab": {
          "base_uri": "https://localhost:8080/"
        },
        "id": "TjWaNZemoaJY",
        "outputId": "b56bc2ee-6352-4e7a-e118-811ed93aba15"
      },
      "execution_count": 57,
      "outputs": [
        {
          "output_type": "stream",
          "name": "stdout",
          "text": [
            "내림차순으로 정렬 :  [9 5 3 1]\n"
          ]
        }
      ]
    },
    {
      "cell_type": "code",
      "source": [
        "#2차원 행렬 정렬\n",
        "array2d = np.array([[8, 12],\n",
        "                    [7, 1]])\n",
        "print(\"array2d : \\n\", array2d)\n",
        "print()\n",
        "sort_array2d_axis0 = np.sort(array2d, axis=0)\n",
        "print(\"로우 방향으로 정렬 : \\n\", sort_array2d_axis0)\n",
        "sort_array2d_axis1 = np.sort(array2d, axis=1)\n",
        "print(\"칼럼 방향으로 정렬 : \\n\", sort_array2d_axis1)"
      ],
      "metadata": {
        "colab": {
          "base_uri": "https://localhost:8080/"
        },
        "id": "qVJEQjL0phdx",
        "outputId": "ecfe0b91-771b-4e71-9eea-2d09b3b91f2d"
      },
      "execution_count": 58,
      "outputs": [
        {
          "output_type": "stream",
          "name": "stdout",
          "text": [
            "array2d : \n",
            " [[ 8 12]\n",
            " [ 7  1]]\n",
            "\n",
            "로우 방향으로 정렬 : \n",
            " [[ 7  1]\n",
            " [ 8 12]]\n",
            "칼럼 방향으로 정렬 : \n",
            " [[ 8 12]\n",
            " [ 1  7]]\n"
          ]
        }
      ]
    },
    {
      "cell_type": "code",
      "source": [
        "#정렬된 행렬의 인덱스를 반환하기\n",
        "#np.argsort()이용\n",
        "org_array = np.array([3,1,9,5])\n",
        "sort_indices = np.argsort(org_array)\n",
        "print(\"행렬 정렬 시 원본 행렬의 인덱스\", sort_indices)"
      ],
      "metadata": {
        "colab": {
          "base_uri": "https://localhost:8080/"
        },
        "id": "eCb8GPlrrLwW",
        "outputId": "9cc56525-03e2-4103-b03f-501a3efa3682"
      },
      "execution_count": 60,
      "outputs": [
        {
          "output_type": "stream",
          "name": "stdout",
          "text": [
            "행렬 정렬 시 원본 행렬의 인덱스 [1 0 3 2]\n"
          ]
        }
      ]
    },
    {
      "cell_type": "code",
      "source": [
        "#내림차순 정렬시 \n",
        "org_array = np.array([3,1,9,5])\n",
        "sort_indices_desc = np.argsort(org_array)[::-1]\n",
        "print(\"행렬 내림차순 정렬 시 원본 행렬의 인덱스: \", sort_indices_desc)"
      ],
      "metadata": {
        "colab": {
          "base_uri": "https://localhost:8080/"
        },
        "id": "jprW51eYryko",
        "outputId": "8e78d2c1-020b-4072-9b29-05b46b6a190a"
      },
      "execution_count": 61,
      "outputs": [
        {
          "output_type": "stream",
          "name": "stdout",
          "text": [
            "행렬 내림차순 정렬 시 원본 행렬의 인덱스:  [2 3 0 1]\n"
          ]
        }
      ]
    },
    {
      "cell_type": "markdown",
      "source": [
        "선형대수 연산 - 행렬 내적과 전치행렬 구하기"
      ],
      "metadata": {
        "id": "Qji-sVDNtf0r"
      }
    },
    {
      "cell_type": "code",
      "source": [
        "#행렬 내적(행렬 곱)\n",
        "#np.dot() 이용해 계산\n",
        "#2x3 * 3x2 행렬을 연산하면 2x2행렬이 나옴\n",
        "A = np.array([[1,2,3],\n",
        "              [4,5,6]])\n",
        "B = np.array([[7,8],\n",
        "              [9,10],\n",
        "              [11,12]])\n",
        "dot_product = np.dot(A,B)\n",
        "print(\"행렬 내적 결과 : \\n\", dot_product)\n"
      ],
      "metadata": {
        "colab": {
          "base_uri": "https://localhost:8080/"
        },
        "id": "PSfG8f2RslQ2",
        "outputId": "2b9ee5b1-36ec-483e-d97a-e945e8da3bf4"
      },
      "execution_count": 62,
      "outputs": [
        {
          "output_type": "stream",
          "name": "stdout",
          "text": [
            "행렬 내적 결과 : \n",
            " [[ 58  64]\n",
            " [139 154]]\n"
          ]
        }
      ]
    },
    {
      "cell_type": "code",
      "source": [
        "#전치 행렬\n",
        "A = np.array([[1,2],\n",
        "             [3,4]])\n",
        "transpose_mat = np.transpose(A)\n",
        "print(\"A의 전치 행렬 : \\n\", transpose_mat)"
      ],
      "metadata": {
        "colab": {
          "base_uri": "https://localhost:8080/"
        },
        "id": "2RpNwCGtuHRE",
        "outputId": "d9748121-ff44-4dac-fd11-e506a8544a5a"
      },
      "execution_count": 65,
      "outputs": [
        {
          "output_type": "stream",
          "name": "stdout",
          "text": [
            "A의 전치 행렬 : \n",
            " [[1 3]\n",
            " [2 4]]\n"
          ]
        }
      ]
    },
    {
      "cell_type": "code",
      "source": [
        ""
      ],
      "metadata": {
        "id": "IBhQEZVVum0T"
      },
      "execution_count": null,
      "outputs": []
    }
  ]
}