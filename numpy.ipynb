{
  "nbformat": 4,
  "nbformat_minor": 0,
  "metadata": {
    "colab": {
      "name": "numpy.ipynb",
      "provenance": [],
      "collapsed_sections": [],
      "authorship_tag": "ABX9TyMwfLEEQVjSczy4pxW7B33F",
      "include_colab_link": true
    },
    "kernelspec": {
      "name": "python3",
      "display_name": "Python 3"
    },
    "language_info": {
      "name": "python"
    }
  },
  "cells": [
    {
      "cell_type": "markdown",
      "metadata": {
        "id": "view-in-github",
        "colab_type": "text"
      },
      "source": [
        "<a href=\"https://colab.research.google.com/github/HwangHanJae/ml-definitive-guide-pratice/blob/main/numpy.ipynb\" target=\"_parent\"><img src=\"https://colab.research.google.com/assets/colab-badge.svg\" alt=\"Open In Colab\"/></a>"
      ]
    },
    {
      "cell_type": "code",
      "metadata": {
        "id": "G6GYtEWEyXGA"
      },
      "source": [
        "#라이브러리 로드\n",
        "import numpy as np"
      ],
      "execution_count": 1,
      "outputs": []
    },
    {
      "cell_type": "code",
      "metadata": {
        "colab": {
          "base_uri": "https://localhost:8080/"
        },
        "id": "1oYUihtMye1U",
        "outputId": "b584d5f5-78d9-4513-a775-9157788e646a"
      },
      "source": [
        "#shape 변수로 ndarray의 크기 확인\n",
        "array1 = np.array([1,2,3])\n",
        "print(\"array1 type: \", type(array1))\n",
        "print(\"array1 type 형태: \", array1.shape)\n",
        "\n",
        "array2 = np.array([[1,2,3,],\n",
        "                   [2,3,4]])\n",
        "\n",
        "print(\"array2 type: \", type(array2))\n",
        "print(\"array2 type 형태: \", array2.shape)\n",
        "\n",
        "\n",
        "array3 = np.array([[1,2,3]])\n",
        "\n",
        "print(\"array3 type: \", type(array3))\n",
        "print(\"array3 type 형태: \", array3.shape)"
      ],
      "execution_count": 2,
      "outputs": [
        {
          "output_type": "stream",
          "name": "stdout",
          "text": [
            "array1 type:  <class 'numpy.ndarray'>\n",
            "array1 type 형태:  (3,)\n",
            "array2 type:  <class 'numpy.ndarray'>\n",
            "array2 type 형태:  (2, 3)\n",
            "array3 type:  <class 'numpy.ndarray'>\n",
            "array3 type 형태:  (1, 3)\n"
          ]
        }
      ]
    },
    {
      "cell_type": "code",
      "metadata": {
        "colab": {
          "base_uri": "https://localhost:8080/"
        },
        "id": "7frbq4XjzI0U",
        "outputId": "df815427-15f4-4e05-bfda-aa5d55e53388"
      },
      "source": [
        "#각 차원을 ndarray.ndim을 이용해 확인\n",
        "print(\"array1 : {:0}차원, array2 : {:1}차원, array3 : {:2}차원\".format(array1.ndim, array2.ndim, array3.ndim))"
      ],
      "execution_count": 3,
      "outputs": [
        {
          "output_type": "stream",
          "name": "stdout",
          "text": [
            "array1 : 1차원, array2 : 2차원, array3 :  2차원\n"
          ]
        }
      ]
    },
    {
      "cell_type": "code",
      "metadata": {
        "colab": {
          "base_uri": "https://localhost:8080/"
        },
        "id": "tHldhK9wzzpr",
        "outputId": "0b4d812a-cc79-4db8-f579-079ee236c9ee"
      },
      "source": [
        "#dtype 속성으로 확인\n",
        "\n",
        "list1 = [1,2,3]\n",
        "print(type(list1))\n",
        "array1 = np.array(list1)\n",
        "print(type(array1))\n",
        "print(array1, array1.dtype)"
      ],
      "execution_count": 4,
      "outputs": [
        {
          "output_type": "stream",
          "name": "stdout",
          "text": [
            "<class 'list'>\n",
            "<class 'numpy.ndarray'>\n",
            "[1 2 3] int64\n"
          ]
        }
      ]
    },
    {
      "cell_type": "code",
      "metadata": {
        "colab": {
          "base_uri": "https://localhost:8080/"
        },
        "id": "obRJ_yKt0O08",
        "outputId": "49adb4c9-255c-4e46-822d-5d4cbdb36ac4"
      },
      "source": [
        "#int, string 리스트, int float 리스트 ndarray로 변경후 데이터 타입 확인\n",
        "list2 = [1,2,\"test\"]\n",
        "array2 = np.array(list2)\n",
        "print(array2, array2.dtype)\n",
        "\n",
        "list3 = [1,2,3.0]\n",
        "array3 = np.array(list3)\n",
        "print(array3, array3.dtype)"
      ],
      "execution_count": 5,
      "outputs": [
        {
          "output_type": "stream",
          "name": "stdout",
          "text": [
            "['1' '2' 'test'] <U21\n",
            "[1. 2. 3.] float64\n"
          ]
        }
      ]
    },
    {
      "cell_type": "code",
      "metadata": {
        "colab": {
          "base_uri": "https://localhost:8080/"
        },
        "id": "8N3CWjIb0u9j",
        "outputId": "a9a6dd39-0154-4cef-92a8-2404f13f62fb"
      },
      "source": [
        "#int32 type -> float64 type , float64 type -> int32 type\n",
        "\n",
        "array_int = np.array([1,2,3])\n",
        "array_float = array_int.astype(\"float64\")\n",
        "print(array_float, array_float.dtype)\n",
        "\n",
        "\n",
        "array_int1 = array_float.astype(\"int32\")\n",
        "print(array_int1, array_int1.dtype)\n",
        "\n",
        "array_float1 = np.array([1.1,2.1,3.1])\n",
        "array_int2 = array_float1.astype(\"int32\")\n",
        "print(array_int2, array_int2.dtype)"
      ],
      "execution_count": 6,
      "outputs": [
        {
          "output_type": "stream",
          "name": "stdout",
          "text": [
            "[1. 2. 3.] float64\n",
            "[1 2 3] int32\n",
            "[1 2 3] int32\n"
          ]
        }
      ]
    },
    {
      "cell_type": "code",
      "metadata": {
        "colab": {
          "base_uri": "https://localhost:8080/"
        },
        "id": "fBO_P4ZB12pM",
        "outputId": "b2a72800-c274-478a-db52-c0d37c88be48"
      },
      "source": [
        "#arange() 함수 사용 0부터 순차적으로 ndarray 생성\n",
        "#start, stop 인자값이 존재\n",
        "sequence_array = np.arange(10)\n",
        "print(sequence_array)\n",
        "print(sequence_array.dtype, sequence_array.shape)"
      ],
      "execution_count": 7,
      "outputs": [
        {
          "output_type": "stream",
          "name": "stdout",
          "text": [
            "[0 1 2 3 4 5 6 7 8 9]\n",
            "int64 (10,)\n"
          ]
        }
      ]
    },
    {
      "cell_type": "code",
      "metadata": {
        "colab": {
          "base_uri": "https://localhost:8080/"
        },
        "id": "MtRI7m1n2PXb",
        "outputId": "d730693a-215a-4aca-9f99-e4fc1b785f14"
      },
      "source": [
        "#zeros(), ones() 함수 사용 \n",
        "#default float64\n",
        "zero_array = np.zeros((3,2), dtype=\"int32\")\n",
        "print(zero_array)\n",
        "print(zero_array.dtype, zero_array.shape)\n",
        "\n",
        "one_array = np.ones((3,2))\n",
        "print(one_array)\n",
        "print(one_array.dtype, one_array.shape)"
      ],
      "execution_count": 8,
      "outputs": [
        {
          "output_type": "stream",
          "name": "stdout",
          "text": [
            "[[0 0]\n",
            " [0 0]\n",
            " [0 0]]\n",
            "int32 (3, 2)\n",
            "[[1. 1.]\n",
            " [1. 1.]\n",
            " [1. 1.]]\n",
            "float64 (3, 2)\n"
          ]
        }
      ]
    },
    {
      "cell_type": "code",
      "metadata": {
        "colab": {
          "base_uri": "https://localhost:8080/"
        },
        "id": "zcHAL4I_2y9d",
        "outputId": "ce89000e-a951-447b-9ae4-2b5c473fee69"
      },
      "source": [
        "#reshape() : ndarray의 차원의 크기를 변경\n",
        "\n",
        "#0~9까지의 1차원 ndarray를 2x5, 5x2로 변경\n",
        "\n",
        "array1 =  np.arange(10)\n",
        "print(\"array1\\n\", array1)\n",
        "\n",
        "array2 = array1.reshape(2,5)\n",
        "print(\"array2\\n\", array2)\n",
        "\n",
        "array3 = array1.reshape(5,2)\n",
        "print(\"array3\\n\", array3)"
      ],
      "execution_count": 10,
      "outputs": [
        {
          "output_type": "stream",
          "name": "stdout",
          "text": [
            "array1\n",
            " [0 1 2 3 4 5 6 7 8 9]\n",
            "array2\n",
            " [[0 1 2 3 4]\n",
            " [5 6 7 8 9]]\n",
            "array3\n",
            " [[0 1]\n",
            " [2 3]\n",
            " [4 5]\n",
            " [6 7]\n",
            " [8 9]]\n"
          ]
        }
      ]
    },
    {
      "cell_type": "code",
      "metadata": {
        "colab": {
          "base_uri": "https://localhost:8080/"
        },
        "id": "Ho1zDiiV3L6y",
        "outputId": "6a1c8644-6476-4958-fafd-db3e968e96bd"
      },
      "source": [
        "#가장 보편적으로 사용하는 reshape() 인자값에 -1넣기\n",
        "array1= np.arange(10)\n",
        "print(array1)\n",
        "\n",
        "array2 = array1.reshape(-1, 5)\n",
        "print(\"array2 shape : \", array2.shape)\n",
        "print(array2)\n",
        "array3 = array1.reshape(5,-1)\n",
        "print(\"array3 shape : \", array3.shape)\n",
        "print(array3)"
      ],
      "execution_count": 11,
      "outputs": [
        {
          "output_type": "stream",
          "name": "stdout",
          "text": [
            "[0 1 2 3 4 5 6 7 8 9]\n",
            "array2 shape :  (2, 5)\n",
            "[[0 1 2 3 4]\n",
            " [5 6 7 8 9]]\n",
            "array3 shape :  (5, 2)\n",
            "[[0 1]\n",
            " [2 3]\n",
            " [4 5]\n",
            " [6 7]\n",
            " [8 9]]\n"
          ]
        }
      ]
    },
    {
      "cell_type": "code",
      "metadata": {
        "id": "rOUM0OC83455"
      },
      "source": [
        ""
      ],
      "execution_count": null,
      "outputs": []
    }
  ]
}