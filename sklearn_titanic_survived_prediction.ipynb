{
  "nbformat": 4,
  "nbformat_minor": 0,
  "metadata": {
    "colab": {
      "name": "sklearn_titanic_survived_prediction.ipynb",
      "provenance": [],
      "collapsed_sections": [],
      "mount_file_id": "14_jOqhfegSxf4tRh4-UI5MDciHEe-MUw",
      "authorship_tag": "ABX9TyNZWYVK6yaJ28A4D0I6qHkz",
      "include_colab_link": true
    },
    "kernelspec": {
      "name": "python3",
      "display_name": "Python 3"
    },
    "language_info": {
      "name": "python"
    }
  },
  "cells": [
    {
      "cell_type": "markdown",
      "metadata": {
        "id": "view-in-github",
        "colab_type": "text"
      },
      "source": [
        "<a href=\"https://colab.research.google.com/github/HwangHanJae/ml-definitive-guide-pratice/blob/main/sklearn_titanic_survived_prediction.ipynb\" target=\"_parent\"><img src=\"https://colab.research.google.com/assets/colab-badge.svg\" alt=\"Open In Colab\"/></a>"
      ]
    },
    {
      "cell_type": "markdown",
      "source": [
        "타이타닉 탑승자 데이터\n",
        "- Passengerid : 탑승자 데이터 일련번호\n",
        "- Survived : 생존여부, 0=사망, 1=생존\n",
        "- Pclass : 티켓의 선실 등급, 1=일등석, 2=이등석, 3=삼등석\n",
        "- Name : 탑승자 이름\n",
        "- Sex : 탑승자 성별\n",
        "- Age : 탑승자 나이\n",
        "- SibSp : 같이 탑승한 형제자매 또는 배우자 인원수\n",
        "- Parch : 같이 탑승한 부모님 또는 어린이 인원수\n",
        "- Ticket : 티켓 번호\n",
        "- Fare : 요금\n",
        "- Cabin : 선실번호\n",
        "- Embarked : 중간정착항구 C=Cherbourg, Q=Queenstown, S=Southampton"
      ],
      "metadata": {
        "id": "XmgqqjuL6r8A"
      }
    },
    {
      "cell_type": "code",
      "execution_count": 84,
      "metadata": {
        "colab": {
          "base_uri": "https://localhost:8080/",
          "height": 143
        },
        "id": "LjA60wX_6PGM",
        "outputId": "a43fe142-2ae7-49c3-e317-c36d5d265134"
      },
      "outputs": [
        {
          "output_type": "execute_result",
          "data": {
            "text/html": [
              "\n",
              "  <div id=\"df-314e3b34-2014-449e-aaf0-48478dbbd109\">\n",
              "    <div class=\"colab-df-container\">\n",
              "      <div>\n",
              "<style scoped>\n",
              "    .dataframe tbody tr th:only-of-type {\n",
              "        vertical-align: middle;\n",
              "    }\n",
              "\n",
              "    .dataframe tbody tr th {\n",
              "        vertical-align: top;\n",
              "    }\n",
              "\n",
              "    .dataframe thead th {\n",
              "        text-align: right;\n",
              "    }\n",
              "</style>\n",
              "<table border=\"1\" class=\"dataframe\">\n",
              "  <thead>\n",
              "    <tr style=\"text-align: right;\">\n",
              "      <th></th>\n",
              "      <th>PassengerId</th>\n",
              "      <th>Survived</th>\n",
              "      <th>Pclass</th>\n",
              "      <th>Name</th>\n",
              "      <th>Sex</th>\n",
              "      <th>Age</th>\n",
              "      <th>SibSp</th>\n",
              "      <th>Parch</th>\n",
              "      <th>Ticket</th>\n",
              "      <th>Fare</th>\n",
              "      <th>Cabin</th>\n",
              "      <th>Embarked</th>\n",
              "    </tr>\n",
              "  </thead>\n",
              "  <tbody>\n",
              "    <tr>\n",
              "      <th>0</th>\n",
              "      <td>1</td>\n",
              "      <td>0</td>\n",
              "      <td>3</td>\n",
              "      <td>Braund, Mr. Owen Harris</td>\n",
              "      <td>male</td>\n",
              "      <td>22.0</td>\n",
              "      <td>1</td>\n",
              "      <td>0</td>\n",
              "      <td>A/5 21171</td>\n",
              "      <td>7.2500</td>\n",
              "      <td>NaN</td>\n",
              "      <td>S</td>\n",
              "    </tr>\n",
              "    <tr>\n",
              "      <th>1</th>\n",
              "      <td>2</td>\n",
              "      <td>1</td>\n",
              "      <td>1</td>\n",
              "      <td>Cumings, Mrs. John Bradley (Florence Briggs Th...</td>\n",
              "      <td>female</td>\n",
              "      <td>38.0</td>\n",
              "      <td>1</td>\n",
              "      <td>0</td>\n",
              "      <td>PC 17599</td>\n",
              "      <td>71.2833</td>\n",
              "      <td>C85</td>\n",
              "      <td>C</td>\n",
              "    </tr>\n",
              "    <tr>\n",
              "      <th>2</th>\n",
              "      <td>3</td>\n",
              "      <td>1</td>\n",
              "      <td>3</td>\n",
              "      <td>Heikkinen, Miss. Laina</td>\n",
              "      <td>female</td>\n",
              "      <td>26.0</td>\n",
              "      <td>0</td>\n",
              "      <td>0</td>\n",
              "      <td>STON/O2. 3101282</td>\n",
              "      <td>7.9250</td>\n",
              "      <td>NaN</td>\n",
              "      <td>S</td>\n",
              "    </tr>\n",
              "  </tbody>\n",
              "</table>\n",
              "</div>\n",
              "      <button class=\"colab-df-convert\" onclick=\"convertToInteractive('df-314e3b34-2014-449e-aaf0-48478dbbd109')\"\n",
              "              title=\"Convert this dataframe to an interactive table.\"\n",
              "              style=\"display:none;\">\n",
              "        \n",
              "  <svg xmlns=\"http://www.w3.org/2000/svg\" height=\"24px\"viewBox=\"0 0 24 24\"\n",
              "       width=\"24px\">\n",
              "    <path d=\"M0 0h24v24H0V0z\" fill=\"none\"/>\n",
              "    <path d=\"M18.56 5.44l.94 2.06.94-2.06 2.06-.94-2.06-.94-.94-2.06-.94 2.06-2.06.94zm-11 1L8.5 8.5l.94-2.06 2.06-.94-2.06-.94L8.5 2.5l-.94 2.06-2.06.94zm10 10l.94 2.06.94-2.06 2.06-.94-2.06-.94-.94-2.06-.94 2.06-2.06.94z\"/><path d=\"M17.41 7.96l-1.37-1.37c-.4-.4-.92-.59-1.43-.59-.52 0-1.04.2-1.43.59L10.3 9.45l-7.72 7.72c-.78.78-.78 2.05 0 2.83L4 21.41c.39.39.9.59 1.41.59.51 0 1.02-.2 1.41-.59l7.78-7.78 2.81-2.81c.8-.78.8-2.07 0-2.86zM5.41 20L4 18.59l7.72-7.72 1.47 1.35L5.41 20z\"/>\n",
              "  </svg>\n",
              "      </button>\n",
              "      \n",
              "  <style>\n",
              "    .colab-df-container {\n",
              "      display:flex;\n",
              "      flex-wrap:wrap;\n",
              "      gap: 12px;\n",
              "    }\n",
              "\n",
              "    .colab-df-convert {\n",
              "      background-color: #E8F0FE;\n",
              "      border: none;\n",
              "      border-radius: 50%;\n",
              "      cursor: pointer;\n",
              "      display: none;\n",
              "      fill: #1967D2;\n",
              "      height: 32px;\n",
              "      padding: 0 0 0 0;\n",
              "      width: 32px;\n",
              "    }\n",
              "\n",
              "    .colab-df-convert:hover {\n",
              "      background-color: #E2EBFA;\n",
              "      box-shadow: 0px 1px 2px rgba(60, 64, 67, 0.3), 0px 1px 3px 1px rgba(60, 64, 67, 0.15);\n",
              "      fill: #174EA6;\n",
              "    }\n",
              "\n",
              "    [theme=dark] .colab-df-convert {\n",
              "      background-color: #3B4455;\n",
              "      fill: #D2E3FC;\n",
              "    }\n",
              "\n",
              "    [theme=dark] .colab-df-convert:hover {\n",
              "      background-color: #434B5C;\n",
              "      box-shadow: 0px 1px 3px 1px rgba(0, 0, 0, 0.15);\n",
              "      filter: drop-shadow(0px 1px 2px rgba(0, 0, 0, 0.3));\n",
              "      fill: #FFFFFF;\n",
              "    }\n",
              "  </style>\n",
              "\n",
              "      <script>\n",
              "        const buttonEl =\n",
              "          document.querySelector('#df-314e3b34-2014-449e-aaf0-48478dbbd109 button.colab-df-convert');\n",
              "        buttonEl.style.display =\n",
              "          google.colab.kernel.accessAllowed ? 'block' : 'none';\n",
              "\n",
              "        async function convertToInteractive(key) {\n",
              "          const element = document.querySelector('#df-314e3b34-2014-449e-aaf0-48478dbbd109');\n",
              "          const dataTable =\n",
              "            await google.colab.kernel.invokeFunction('convertToInteractive',\n",
              "                                                     [key], {});\n",
              "          if (!dataTable) return;\n",
              "\n",
              "          const docLinkHtml = 'Like what you see? Visit the ' +\n",
              "            '<a target=\"_blank\" href=https://colab.research.google.com/notebooks/data_table.ipynb>data table notebook</a>'\n",
              "            + ' to learn more about interactive tables.';\n",
              "          element.innerHTML = '';\n",
              "          dataTable['output_type'] = 'display_data';\n",
              "          await google.colab.output.renderOutput(dataTable, element);\n",
              "          const docLink = document.createElement('div');\n",
              "          docLink.innerHTML = docLinkHtml;\n",
              "          element.appendChild(docLink);\n",
              "        }\n",
              "      </script>\n",
              "    </div>\n",
              "  </div>\n",
              "  "
            ],
            "text/plain": [
              "   PassengerId  Survived  Pclass  ...     Fare Cabin  Embarked\n",
              "0            1         0       3  ...   7.2500   NaN         S\n",
              "1            2         1       1  ...  71.2833   C85         C\n",
              "2            3         1       3  ...   7.9250   NaN         S\n",
              "\n",
              "[3 rows x 12 columns]"
            ]
          },
          "metadata": {},
          "execution_count": 84
        }
      ],
      "source": [
        "import pandas as pd\n",
        "import numpy as np\n",
        "import matplotlib.pyplot as plt\n",
        "import seaborn as sns\n",
        "import warnings\n",
        "warnings.filterwarnings('ignore')\n",
        "\n",
        "train_path = \"/content/drive/MyDrive/Colab Notebooks/DataScience/Data/titanic/train.csv\"\n",
        "test_path = \"/content/drive/MyDrive/Colab Notebooks/DataScience/Data/titanic/test.csv\"\n",
        "submission_path = \"/content/drive/MyDrive/Colab Notebooks/DataScience/Data/titanic/gender_submission.csv\"\n",
        "titanic_df = pd.read_csv(train_path)\n",
        "\n",
        "titanic_df.head(3)"
      ]
    },
    {
      "cell_type": "code",
      "source": [
        "#로딩된 데이터 칼럼 타입 확인\n",
        "print(\"\\n ### 학습 데이터 정보 ###\")\n",
        "print(titanic_df.info())"
      ],
      "metadata": {
        "colab": {
          "base_uri": "https://localhost:8080/"
        },
        "id": "WtX_CxVf7f2U",
        "outputId": "434a5182-1d22-4cfe-80e5-b7965b07ac89"
      },
      "execution_count": 4,
      "outputs": [
        {
          "output_type": "stream",
          "name": "stdout",
          "text": [
            "\n",
            " ### 학습 데이터 정보 ###\n",
            "<class 'pandas.core.frame.DataFrame'>\n",
            "RangeIndex: 891 entries, 0 to 890\n",
            "Data columns (total 12 columns):\n",
            " #   Column       Non-Null Count  Dtype  \n",
            "---  ------       --------------  -----  \n",
            " 0   PassengerId  891 non-null    int64  \n",
            " 1   Survived     891 non-null    int64  \n",
            " 2   Pclass       891 non-null    int64  \n",
            " 3   Name         891 non-null    object \n",
            " 4   Sex          891 non-null    object \n",
            " 5   Age          714 non-null    float64\n",
            " 6   SibSp        891 non-null    int64  \n",
            " 7   Parch        891 non-null    int64  \n",
            " 8   Ticket       891 non-null    object \n",
            " 9   Fare         891 non-null    float64\n",
            " 10  Cabin        204 non-null    object \n",
            " 11  Embarked     889 non-null    object \n",
            "dtypes: float64(2), int64(5), object(5)\n",
            "memory usage: 83.7+ KB\n",
            "None\n"
          ]
        }
      ]
    },
    {
      "cell_type": "markdown",
      "source": [
        "891개의 로우와 12개의 칼럼으로 구성\n",
        "\n",
        "2개의 칼럼은 float64, 5개의 칼럼은 int64, 5개의 칼럼은 object로 구성\n",
        "\n",
        "Age, Cabin, Embarked 컬럼은 Null값을 가지고 있음\n",
        "  - 각각 177개, 608개, 2개\n",
        "  "
      ],
      "metadata": {
        "id": "8qZKOKTS82ey"
      }
    },
    {
      "cell_type": "code",
      "source": [
        "#Null값 처리\n",
        "#Age는 평균, 나머지컬럼은 N으로 처리\n",
        "\n",
        "titanic_df['Age'] = titanic_df['Age'].fillna(titanic_df['Age'].mean())\n",
        "titanic_df['Cabin'] = titanic_df['Cabin'].fillna(\"N\")\n",
        "titanic_df['Embarked'] = titanic_df['Embarked'].fillna(\"N\")\n",
        "\n",
        "#다시 Null값 확인\n",
        "print(\"데이터 세트 Null 값 개수 : \", (titanic_df.isnull().sum()).sum())"
      ],
      "metadata": {
        "colab": {
          "base_uri": "https://localhost:8080/"
        },
        "id": "JIuKQ91U8vfW",
        "outputId": "5565a5fe-bd15-487f-f90d-c3ed8cf0f3ad"
      },
      "execution_count": 7,
      "outputs": [
        {
          "output_type": "stream",
          "name": "stdout",
          "text": [
            "데이터 세트 Null 값 개수 :  0\n"
          ]
        }
      ]
    },
    {
      "cell_type": "code",
      "source": [
        "#object타입의 컬럼 5개이지만 그중 Name, Ticket은 이름과 티켓은 id처럼 분포를 알기 힘들기에\n",
        "#Sex, Cabin, Embarked 항목만 분포를 확인\n",
        "\n",
        "print(\"Sex 값 분포 : \\n\", titanic_df['Sex'].value_counts())\n",
        "print(\"\\nCabin 값 분포 : \\n\", titanic_df['Cabin'].value_counts())\n",
        "print(\"\\nEmbarked 값 분포 : \\n\", titanic_df['Embarked'].value_counts())"
      ],
      "metadata": {
        "colab": {
          "base_uri": "https://localhost:8080/"
        },
        "id": "Ni-Im3_Q9uR1",
        "outputId": "9e366cd3-77d8-4612-ac39-e6a385c9d2f9"
      },
      "execution_count": 13,
      "outputs": [
        {
          "output_type": "stream",
          "name": "stdout",
          "text": [
            "Sex 값 분포 : \n",
            " male      577\n",
            "female    314\n",
            "Name: Sex, dtype: int64\n",
            "\n",
            "Cabin 값 분포 : \n",
            " N              687\n",
            "B96 B98          4\n",
            "G6               4\n",
            "C23 C25 C27      4\n",
            "D                3\n",
            "              ... \n",
            "B50              1\n",
            "C128             1\n",
            "C50              1\n",
            "E46              1\n",
            "A34              1\n",
            "Name: Cabin, Length: 148, dtype: int64\n",
            "\n",
            "Embarked 값 분포 : \n",
            " S    644\n",
            "C    168\n",
            "Q     77\n",
            "N      2\n",
            "Name: Embarked, dtype: int64\n"
          ]
        }
      ]
    },
    {
      "cell_type": "markdown",
      "source": [
        "Sex, Embarked 컬럼은 별 문제가 없어보임 \n",
        "\n",
        "하지만 Cabin 컬럼은 N이 687건으로 가장 많은 것으로 특이하며\n",
        "B96 B98, C23 C25 C27 처럼 속성값이 제대로 정리 되지 않음\n",
        "\n",
        "Cabin 컬럼에서 중요한것은 첫번째 단어 B, C, D로 보임\n",
        "\n",
        "이것은 선실의 등급을 나타내는 것으로 지금보다 예전이 더 돈이 많은 사람과 적은 사람의 차별이 더 있을것으로 보임, 생존 확률에도 영향을 줄것으로 예상함\n"
      ],
      "metadata": {
        "id": "10lN8faE_HFR"
      }
    },
    {
      "cell_type": "code",
      "source": [
        "#Cabin의 앞글자만 추출\n",
        "titanic_df['Cabin'] = titanic_df['Cabin'].str[:1]\n",
        "titanic_df['Cabin'].head(3)"
      ],
      "metadata": {
        "colab": {
          "base_uri": "https://localhost:8080/"
        },
        "id": "E6-zhU4N-0ec",
        "outputId": "19526a1c-77c7-4299-ff4d-0f5ee81fbea2"
      },
      "execution_count": 17,
      "outputs": [
        {
          "output_type": "execute_result",
          "data": {
            "text/plain": [
              "0    N\n",
              "1    C\n",
              "2    N\n",
              "Name: Cabin, dtype: object"
            ]
          },
          "metadata": {},
          "execution_count": 17
        }
      ]
    },
    {
      "cell_type": "code",
      "source": [
        "#성별에 따른 생존자 수를 확인\n",
        "titanic_df.groupby([\"Sex\", \"Survived\"])[\"Sex\"].count()"
      ],
      "metadata": {
        "colab": {
          "base_uri": "https://localhost:8080/"
        },
        "id": "Zfqp8ByNAH2o",
        "outputId": "cb780e29-f294-442b-d260-93b61e3b361c"
      },
      "execution_count": 18,
      "outputs": [
        {
          "output_type": "execute_result",
          "data": {
            "text/plain": [
              "Sex     Survived\n",
              "female  0            81\n",
              "        1           233\n",
              "male    0           468\n",
              "        1           109\n",
              "Name: Sex, dtype: int64"
            ]
          },
          "metadata": {},
          "execution_count": 18
        }
      ]
    },
    {
      "cell_type": "markdown",
      "source": [
        "남성에 비하여 여성이 더 생존자수가 많아보임\n",
        "\n",
        "이 당시에는 여성과 아이들, 노약자가 구조대상의 높은 우선순위를 가졌을 것이며 다음은 부자와 유명인일 것으로 추측함\n"
      ],
      "metadata": {
        "id": "kfbCdn5cAgYl"
      }
    },
    {
      "cell_type": "code",
      "source": [
        "#성별에 따른 생존자 수를 보기 쉽게 그래프로 확인\n",
        "sns.barplot(data=titanic_df,x=\"Sex\", y=\"Survived\")"
      ],
      "metadata": {
        "colab": {
          "base_uri": "https://localhost:8080/",
          "height": 297
        },
        "id": "Q2wIj9P5AePr",
        "outputId": "63c3d056-25d5-42f8-be8f-17d06090b12c"
      },
      "execution_count": 20,
      "outputs": [
        {
          "output_type": "execute_result",
          "data": {
            "text/plain": [
              "<matplotlib.axes._subplots.AxesSubplot at 0x7f14543f3110>"
            ]
          },
          "metadata": {},
          "execution_count": 20
        },
        {
          "output_type": "display_data",
          "data": {
            "image/png": "[encoded data removed]",
            "text/plain": [
              "<Figure size 432x288 with 1 Axes>"
            ]
          },
          "metadata": {
            "needs_background": "light"
          }
        }
      ]
    },
    {
      "cell_type": "code",
      "source": [
        "#부자와 가난한사람의 생존사를 비교함\n",
        "#Pclass를 이용하여 부자와 가난한사람을 구분할 수 있음\n",
        "f, ax = plt.subplots(1,2, figsize=(12, 5))\n",
        "\n",
        "sns.barplot(data=titanic_df, x='Pclass', y='Survived', ax=ax[0])\n",
        "sns.barplot(data=titanic_df, x='Pclass', y='Survived', hue='Sex', ax=ax[1])"
      ],
      "metadata": {
        "colab": {
          "base_uri": "https://localhost:8080/",
          "height": 351
        },
        "id": "4KTY-E4ABFWa",
        "outputId": "dc0a3b86-2bd9-493c-c6b3-8feee0a7d7fc"
      },
      "execution_count": 32,
      "outputs": [
        {
          "output_type": "execute_result",
          "data": {
            "text/plain": [
              "<matplotlib.axes._subplots.AxesSubplot at 0x7f144d964790>"
            ]
          },
          "metadata": {},
          "execution_count": 32
        },
        {
          "output_type": "display_data",
          "data": {
            "image/png": "[encoded data removed]",
            "text/plain": [
              "<Figure size 864x360 with 2 Axes>"
            ]
          },
          "metadata": {
            "needs_background": "light"
          }
        }
      ]
    },
    {
      "cell_type": "markdown",
      "source": [
        "왼쪽의 그래프는 Pclass에 따른 생존자이다.\n",
        "- 객실등급순으로 생존확률이 높음\n",
        "  - 1 > 2 > 3\n",
        "\n",
        "오른쪽의 그래프는 Pclass별 성별에 따른 생존자이다.\n",
        "  - 1,2 등급의 객실의 여성이 생존확률이 높으며 3등급의 객실의 여성의 생존확률이 많이 낮은 것을 볼 수 있다."
      ],
      "metadata": {
        "id": "e9YupYp6CQNl"
      }
    },
    {
      "cell_type": "code",
      "source": [
        "#Age에 따른 생존확률을 알아보기\n",
        "\n",
        "#Age 컬럼은 연속형 변수이기 때문에 범주화를 한 후에 그래프로 확인하겠음\n",
        "\n",
        "def get_category(age):\n",
        "  cat = ''\n",
        "  if age <= -1 : cat = \"UnKnown\"\n",
        "  elif age <= 5 : cat = \"Baby\"\n",
        "  elif age <= 12 : cat =\"Child\"\n",
        "  elif age <= 18 : cat = \"Teenager\"\n",
        "  elif age <= 25 : cat = \"Student\"\n",
        "  elif age <= 35 : cat = \"Young Adult\"\n",
        "  elif age <= 60 : cat = \"Adult\"\n",
        "  else : cat = \"Elderly\"\n",
        "\n",
        "  return cat\n",
        "\n",
        "#위에서 만든 함수를 apply함수로 적용해 'Age_cat' 컬럼을 생성\n",
        "titanic_df['Age_cat'] = titanic_df[\"Age\"].apply(lambda x : get_category(x))\n",
        "\n",
        "group_names = [\"UnKnown\",\"Baby\",\"Child\",\"Teenager\",\"Student\",\"Young Adult\", \"Adult\",\"Elderly\"]\n",
        "\n",
        "#그래프로 확인\n",
        "f, ax = plt.subplots(1,2,figsize=(20,6))\n",
        "sns.barplot(data=titanic_df, x='Age_cat', y=\"Survived\",order =group_names, ax=ax[0])\n",
        "sns.barplot(data=titanic_df, x='Age_cat', y=\"Survived\",order =group_names, hue=\"Sex\", ax=ax[1])"
      ],
      "metadata": {
        "colab": {
          "base_uri": "https://localhost:8080/",
          "height": 407
        },
        "id": "CuYClHyqBVla",
        "outputId": "45b8a7eb-cf0a-4933-8d03-0bea27b3e160"
      },
      "execution_count": 37,
      "outputs": [
        {
          "output_type": "execute_result",
          "data": {
            "text/plain": [
              "<matplotlib.axes._subplots.AxesSubplot at 0x7f144d5ab310>"
            ]
          },
          "metadata": {},
          "execution_count": 37
        },
        {
          "output_type": "display_data",
          "data": {
            "image/png": "[encoded data removed]",
            "text/plain": [
              "<Figure size 1440x432 with 2 Axes>"
            ]
          },
          "metadata": {
            "needs_background": "light"
          }
        }
      ]
    },
    {
      "cell_type": "markdown",
      "source": [
        "왼쪽의 그래프는 Age_cat별 생존확률이다.\n",
        "  - Baby의 생존확률이 가장 높은 것을 볼 수 있음\n",
        "  \n",
        "오른쪽의 그래프는 Age_cat별 성별에 따른 생존확률이다.\n",
        "  - 여성 Baby의 경우 생존 확률이 가장 높지만 Child의 경우는 그렇지 않음\n",
        "  - 여성 Elderly의 경우도 역시 생존확률이 높음"
      ],
      "metadata": {
        "id": "ybaOwx2wEmgc"
      }
    },
    {
      "cell_type": "code",
      "source": [
        "#LabelEncoder 클래스를 이용하여 인코딩을 적용\n",
        "from sklearn.preprocessing import LabelEncoder\n",
        "def encode_features(df):\n",
        "  features = [\"Cabin\",\"Sex\",\"Embarked\"]\n",
        "  for feature in features:\n",
        "    encoder = LabelEncoder()\n",
        "    encoder.fit(df[feature])\n",
        "    df[feature] = encoder.transform(df[feature])\n",
        "\n",
        "  return df\n",
        "\n",
        "titanic_df = encode_features(titanic_df)\n",
        "titanic_df.head()"
      ],
      "metadata": {
        "colab": {
          "base_uri": "https://localhost:8080/",
          "height": 206
        },
        "id": "EhjFuYK7DtXN",
        "outputId": "4b1ed388-f5b2-4b73-a454-a70009bc8f75"
      },
      "execution_count": 41,
      "outputs": [
        {
          "output_type": "execute_result",
          "data": {
            "text/html": [
              "\n",
              "  <div id=\"df-58b237b7-f084-4c62-ae2f-312472902857\">\n",
              "    <div class=\"colab-df-container\">\n",
              "      <div>\n",
              "<style scoped>\n",
              "    .dataframe tbody tr th:only-of-type {\n",
              "        vertical-align: middle;\n",
              "    }\n",
              "\n",
              "    .dataframe tbody tr th {\n",
              "        vertical-align: top;\n",
              "    }\n",
              "\n",
              "    .dataframe thead th {\n",
              "        text-align: right;\n",
              "    }\n",
              "</style>\n",
              "<table border=\"1\" class=\"dataframe\">\n",
              "  <thead>\n",
              "    <tr style=\"text-align: right;\">\n",
              "      <th></th>\n",
              "      <th>PassengerId</th>\n",
              "      <th>Survived</th>\n",
              "      <th>Pclass</th>\n",
              "      <th>Name</th>\n",
              "      <th>Sex</th>\n",
              "      <th>Age</th>\n",
              "      <th>SibSp</th>\n",
              "      <th>Parch</th>\n",
              "      <th>Ticket</th>\n",
              "      <th>Fare</th>\n",
              "      <th>Cabin</th>\n",
              "      <th>Embarked</th>\n",
              "      <th>Age_cat</th>\n",
              "    </tr>\n",
              "  </thead>\n",
              "  <tbody>\n",
              "    <tr>\n",
              "      <th>0</th>\n",
              "      <td>1</td>\n",
              "      <td>0</td>\n",
              "      <td>3</td>\n",
              "      <td>Braund, Mr. Owen Harris</td>\n",
              "      <td>1</td>\n",
              "      <td>22.0</td>\n",
              "      <td>1</td>\n",
              "      <td>0</td>\n",
              "      <td>A/5 21171</td>\n",
              "      <td>7.2500</td>\n",
              "      <td>7</td>\n",
              "      <td>3</td>\n",
              "      <td>4</td>\n",
              "    </tr>\n",
              "    <tr>\n",
              "      <th>1</th>\n",
              "      <td>2</td>\n",
              "      <td>1</td>\n",
              "      <td>1</td>\n",
              "      <td>Cumings, Mrs. John Bradley (Florence Briggs Th...</td>\n",
              "      <td>0</td>\n",
              "      <td>38.0</td>\n",
              "      <td>1</td>\n",
              "      <td>0</td>\n",
              "      <td>PC 17599</td>\n",
              "      <td>71.2833</td>\n",
              "      <td>2</td>\n",
              "      <td>0</td>\n",
              "      <td>0</td>\n",
              "    </tr>\n",
              "    <tr>\n",
              "      <th>2</th>\n",
              "      <td>3</td>\n",
              "      <td>1</td>\n",
              "      <td>3</td>\n",
              "      <td>Heikkinen, Miss. Laina</td>\n",
              "      <td>0</td>\n",
              "      <td>26.0</td>\n",
              "      <td>0</td>\n",
              "      <td>0</td>\n",
              "      <td>STON/O2. 3101282</td>\n",
              "      <td>7.9250</td>\n",
              "      <td>7</td>\n",
              "      <td>3</td>\n",
              "      <td>6</td>\n",
              "    </tr>\n",
              "    <tr>\n",
              "      <th>3</th>\n",
              "      <td>4</td>\n",
              "      <td>1</td>\n",
              "      <td>1</td>\n",
              "      <td>Futrelle, Mrs. Jacques Heath (Lily May Peel)</td>\n",
              "      <td>0</td>\n",
              "      <td>35.0</td>\n",
              "      <td>1</td>\n",
              "      <td>0</td>\n",
              "      <td>113803</td>\n",
              "      <td>53.1000</td>\n",
              "      <td>2</td>\n",
              "      <td>3</td>\n",
              "      <td>6</td>\n",
              "    </tr>\n",
              "    <tr>\n",
              "      <th>4</th>\n",
              "      <td>5</td>\n",
              "      <td>0</td>\n",
              "      <td>3</td>\n",
              "      <td>Allen, Mr. William Henry</td>\n",
              "      <td>1</td>\n",
              "      <td>35.0</td>\n",
              "      <td>0</td>\n",
              "      <td>0</td>\n",
              "      <td>373450</td>\n",
              "      <td>8.0500</td>\n",
              "      <td>7</td>\n",
              "      <td>3</td>\n",
              "      <td>6</td>\n",
              "    </tr>\n",
              "  </tbody>\n",
              "</table>\n",
              "</div>\n",
              "      <button class=\"colab-df-convert\" onclick=\"convertToInteractive('df-58b237b7-f084-4c62-ae2f-312472902857')\"\n",
              "              title=\"Convert this dataframe to an interactive table.\"\n",
              "              style=\"display:none;\">\n",
              "        \n",
              "  <svg xmlns=\"http://www.w3.org/2000/svg\" height=\"24px\"viewBox=\"0 0 24 24\"\n",
              "       width=\"24px\">\n",
              "    <path d=\"M0 0h24v24H0V0z\" fill=\"none\"/>\n",
              "    <path d=\"M18.56 5.44l.94 2.06.94-2.06 2.06-.94-2.06-.94-.94-2.06-.94 2.06-2.06.94zm-11 1L8.5 8.5l.94-2.06 2.06-.94-2.06-.94L8.5 2.5l-.94 2.06-2.06.94zm10 10l.94 2.06.94-2.06 2.06-.94-2.06-.94-.94-2.06-.94 2.06-2.06.94z\"/><path d=\"M17.41 7.96l-1.37-1.37c-.4-.4-.92-.59-1.43-.59-.52 0-1.04.2-1.43.59L10.3 9.45l-7.72 7.72c-.78.78-.78 2.05 0 2.83L4 21.41c.39.39.9.59 1.41.59.51 0 1.02-.2 1.41-.59l7.78-7.78 2.81-2.81c.8-.78.8-2.07 0-2.86zM5.41 20L4 18.59l7.72-7.72 1.47 1.35L5.41 20z\"/>\n",
              "  </svg>\n",
              "      </button>\n",
              "      \n",
              "  <style>\n",
              "    .colab-df-container {\n",
              "      display:flex;\n",
              "      flex-wrap:wrap;\n",
              "      gap: 12px;\n",
              "    }\n",
              "\n",
              "    .colab-df-convert {\n",
              "      background-color: #E8F0FE;\n",
              "      border: none;\n",
              "      border-radius: 50%;\n",
              "      cursor: pointer;\n",
              "      display: none;\n",
              "      fill: #1967D2;\n",
              "      height: 32px;\n",
              "      padding: 0 0 0 0;\n",
              "      width: 32px;\n",
              "    }\n",
              "\n",
              "    .colab-df-convert:hover {\n",
              "      background-color: #E2EBFA;\n",
              "      box-shadow: 0px 1px 2px rgba(60, 64, 67, 0.3), 0px 1px 3px 1px rgba(60, 64, 67, 0.15);\n",
              "      fill: #174EA6;\n",
              "    }\n",
              "\n",
              "    [theme=dark] .colab-df-convert {\n",
              "      background-color: #3B4455;\n",
              "      fill: #D2E3FC;\n",
              "    }\n",
              "\n",
              "    [theme=dark] .colab-df-convert:hover {\n",
              "      background-color: #434B5C;\n",
              "      box-shadow: 0px 1px 3px 1px rgba(0, 0, 0, 0.15);\n",
              "      filter: drop-shadow(0px 1px 2px rgba(0, 0, 0, 0.3));\n",
              "      fill: #FFFFFF;\n",
              "    }\n",
              "  </style>\n",
              "\n",
              "      <script>\n",
              "        const buttonEl =\n",
              "          document.querySelector('#df-58b237b7-f084-4c62-ae2f-312472902857 button.colab-df-convert');\n",
              "        buttonEl.style.display =\n",
              "          google.colab.kernel.accessAllowed ? 'block' : 'none';\n",
              "\n",
              "        async function convertToInteractive(key) {\n",
              "          const element = document.querySelector('#df-58b237b7-f084-4c62-ae2f-312472902857');\n",
              "          const dataTable =\n",
              "            await google.colab.kernel.invokeFunction('convertToInteractive',\n",
              "                                                     [key], {});\n",
              "          if (!dataTable) return;\n",
              "\n",
              "          const docLinkHtml = 'Like what you see? Visit the ' +\n",
              "            '<a target=\"_blank\" href=https://colab.research.google.com/notebooks/data_table.ipynb>data table notebook</a>'\n",
              "            + ' to learn more about interactive tables.';\n",
              "          element.innerHTML = '';\n",
              "          dataTable['output_type'] = 'display_data';\n",
              "          await google.colab.output.renderOutput(dataTable, element);\n",
              "          const docLink = document.createElement('div');\n",
              "          docLink.innerHTML = docLinkHtml;\n",
              "          element.appendChild(docLink);\n",
              "        }\n",
              "      </script>\n",
              "    </div>\n",
              "  </div>\n",
              "  "
            ],
            "text/plain": [
              "   PassengerId  Survived  Pclass  ... Cabin  Embarked  Age_cat\n",
              "0            1         0       3  ...     7         3        4\n",
              "1            2         1       1  ...     2         0        0\n",
              "2            3         1       3  ...     7         3        6\n",
              "3            4         1       1  ...     2         3        6\n",
              "4            5         0       3  ...     7         3        6\n",
              "\n",
              "[5 rows x 13 columns]"
            ]
          },
          "metadata": {},
          "execution_count": 41
        }
      ]
    },
    {
      "cell_type": "code",
      "source": [
        "#위에서 했던 작업들을 수행하기 편하게 함수로 정리\n",
        "\n",
        "#Null(결측값)처리\n",
        "def fillna(df):\n",
        "  df[\"Age\"] = df[\"Age\"].fillna(df[\"Age\"].mean())\n",
        "  df[\"Cabin\"] = df['Cabin'].fillna(\"N\")\n",
        "  df[\"Embarked\"] = df[\"Embarked\"].fillna(\"N\")\n",
        "  df[\"Fare\"] = df[\"Fare\"].fillna(0)\n",
        "\n",
        "  return df\n",
        "\n",
        "#불필요한 속성 제거\n",
        "def drop_features(df):\n",
        "  drop_col = [\"PassengerId\", \"Name\", \"Ticket\"]\n",
        "  df.drop(drop_col, axis=1, inplace = True)\n",
        "  return df\n",
        "\n",
        "#LabelEncoding 수행\n",
        "\n",
        "def format_features(df):\n",
        "  from sklearn.preprocessing import LabelEncoder\n",
        "  df[\"Cabin\"] = df[\"Cabin\"].str[:1]\n",
        "  features = [\"Cabin\", \"Sex\",\"Embarked\"]\n",
        "  for feature in features:\n",
        "    encoder = LabelEncoder()\n",
        "    encoder.fit(df[feature])\n",
        "    df[feature] = encoder.transform(df[feature])\n",
        "  return df\n",
        "\n",
        "#위에서 작성한 함수를 실행하는 함수\n",
        "def transform_features(df):\n",
        "  fillna(df)\n",
        "  drop_features(df)\n",
        "  format_features(df)\n",
        "  return df"
      ],
      "metadata": {
        "id": "CN7J0Au3GCDI"
      },
      "execution_count": 85,
      "outputs": []
    },
    {
      "cell_type": "code",
      "source": [
        "#원본 데이터를 다시 추출\n",
        "df = pd.read_csv(train_path)\n",
        "\n",
        "#타겟데이터 분리\n",
        "X = df.drop(\"Survived\", axis=1)\n",
        "y = df[\"Survived\"].copy()\n",
        "\n",
        "#위에서 정리한 데이터 전처리 실행\n",
        "\n",
        "X = transform_features(X)\n",
        "\n",
        "X.head(5)"
      ],
      "metadata": {
        "colab": {
          "base_uri": "https://localhost:8080/",
          "height": 206
        },
        "id": "hqsTIvCfHAGJ",
        "outputId": "e4168641-5ece-4ff4-f66b-d50d42ac8029"
      },
      "execution_count": 86,
      "outputs": [
        {
          "output_type": "execute_result",
          "data": {
            "text/html": [
              "\n",
              "  <div id=\"df-d1c528a1-7e07-48a1-8c09-3c7088a7fec1\">\n",
              "    <div class=\"colab-df-container\">\n",
              "      <div>\n",
              "<style scoped>\n",
              "    .dataframe tbody tr th:only-of-type {\n",
              "        vertical-align: middle;\n",
              "    }\n",
              "\n",
              "    .dataframe tbody tr th {\n",
              "        vertical-align: top;\n",
              "    }\n",
              "\n",
              "    .dataframe thead th {\n",
              "        text-align: right;\n",
              "    }\n",
              "</style>\n",
              "<table border=\"1\" class=\"dataframe\">\n",
              "  <thead>\n",
              "    <tr style=\"text-align: right;\">\n",
              "      <th></th>\n",
              "      <th>Pclass</th>\n",
              "      <th>Sex</th>\n",
              "      <th>Age</th>\n",
              "      <th>SibSp</th>\n",
              "      <th>Parch</th>\n",
              "      <th>Fare</th>\n",
              "      <th>Cabin</th>\n",
              "      <th>Embarked</th>\n",
              "    </tr>\n",
              "  </thead>\n",
              "  <tbody>\n",
              "    <tr>\n",
              "      <th>0</th>\n",
              "      <td>3</td>\n",
              "      <td>1</td>\n",
              "      <td>22.0</td>\n",
              "      <td>1</td>\n",
              "      <td>0</td>\n",
              "      <td>7.2500</td>\n",
              "      <td>7</td>\n",
              "      <td>3</td>\n",
              "    </tr>\n",
              "    <tr>\n",
              "      <th>1</th>\n",
              "      <td>1</td>\n",
              "      <td>0</td>\n",
              "      <td>38.0</td>\n",
              "      <td>1</td>\n",
              "      <td>0</td>\n",
              "      <td>71.2833</td>\n",
              "      <td>2</td>\n",
              "      <td>0</td>\n",
              "    </tr>\n",
              "    <tr>\n",
              "      <th>2</th>\n",
              "      <td>3</td>\n",
              "      <td>0</td>\n",
              "      <td>26.0</td>\n",
              "      <td>0</td>\n",
              "      <td>0</td>\n",
              "      <td>7.9250</td>\n",
              "      <td>7</td>\n",
              "      <td>3</td>\n",
              "    </tr>\n",
              "    <tr>\n",
              "      <th>3</th>\n",
              "      <td>1</td>\n",
              "      <td>0</td>\n",
              "      <td>35.0</td>\n",
              "      <td>1</td>\n",
              "      <td>0</td>\n",
              "      <td>53.1000</td>\n",
              "      <td>2</td>\n",
              "      <td>3</td>\n",
              "    </tr>\n",
              "    <tr>\n",
              "      <th>4</th>\n",
              "      <td>3</td>\n",
              "      <td>1</td>\n",
              "      <td>35.0</td>\n",
              "      <td>0</td>\n",
              "      <td>0</td>\n",
              "      <td>8.0500</td>\n",
              "      <td>7</td>\n",
              "      <td>3</td>\n",
              "    </tr>\n",
              "  </tbody>\n",
              "</table>\n",
              "</div>\n",
              "      <button class=\"colab-df-convert\" onclick=\"convertToInteractive('df-d1c528a1-7e07-48a1-8c09-3c7088a7fec1')\"\n",
              "              title=\"Convert this dataframe to an interactive table.\"\n",
              "              style=\"display:none;\">\n",
              "        \n",
              "  <svg xmlns=\"http://www.w3.org/2000/svg\" height=\"24px\"viewBox=\"0 0 24 24\"\n",
              "       width=\"24px\">\n",
              "    <path d=\"M0 0h24v24H0V0z\" fill=\"none\"/>\n",
              "    <path d=\"M18.56 5.44l.94 2.06.94-2.06 2.06-.94-2.06-.94-.94-2.06-.94 2.06-2.06.94zm-11 1L8.5 8.5l.94-2.06 2.06-.94-2.06-.94L8.5 2.5l-.94 2.06-2.06.94zm10 10l.94 2.06.94-2.06 2.06-.94-2.06-.94-.94-2.06-.94 2.06-2.06.94z\"/><path d=\"M17.41 7.96l-1.37-1.37c-.4-.4-.92-.59-1.43-.59-.52 0-1.04.2-1.43.59L10.3 9.45l-7.72 7.72c-.78.78-.78 2.05 0 2.83L4 21.41c.39.39.9.59 1.41.59.51 0 1.02-.2 1.41-.59l7.78-7.78 2.81-2.81c.8-.78.8-2.07 0-2.86zM5.41 20L4 18.59l7.72-7.72 1.47 1.35L5.41 20z\"/>\n",
              "  </svg>\n",
              "      </button>\n",
              "      \n",
              "  <style>\n",
              "    .colab-df-container {\n",
              "      display:flex;\n",
              "      flex-wrap:wrap;\n",
              "      gap: 12px;\n",
              "    }\n",
              "\n",
              "    .colab-df-convert {\n",
              "      background-color: #E8F0FE;\n",
              "      border: none;\n",
              "      border-radius: 50%;\n",
              "      cursor: pointer;\n",
              "      display: none;\n",
              "      fill: #1967D2;\n",
              "      height: 32px;\n",
              "      padding: 0 0 0 0;\n",
              "      width: 32px;\n",
              "    }\n",
              "\n",
              "    .colab-df-convert:hover {\n",
              "      background-color: #E2EBFA;\n",
              "      box-shadow: 0px 1px 2px rgba(60, 64, 67, 0.3), 0px 1px 3px 1px rgba(60, 64, 67, 0.15);\n",
              "      fill: #174EA6;\n",
              "    }\n",
              "\n",
              "    [theme=dark] .colab-df-convert {\n",
              "      background-color: #3B4455;\n",
              "      fill: #D2E3FC;\n",
              "    }\n",
              "\n",
              "    [theme=dark] .colab-df-convert:hover {\n",
              "      background-color: #434B5C;\n",
              "      box-shadow: 0px 1px 3px 1px rgba(0, 0, 0, 0.15);\n",
              "      filter: drop-shadow(0px 1px 2px rgba(0, 0, 0, 0.3));\n",
              "      fill: #FFFFFF;\n",
              "    }\n",
              "  </style>\n",
              "\n",
              "      <script>\n",
              "        const buttonEl =\n",
              "          document.querySelector('#df-d1c528a1-7e07-48a1-8c09-3c7088a7fec1 button.colab-df-convert');\n",
              "        buttonEl.style.display =\n",
              "          google.colab.kernel.accessAllowed ? 'block' : 'none';\n",
              "\n",
              "        async function convertToInteractive(key) {\n",
              "          const element = document.querySelector('#df-d1c528a1-7e07-48a1-8c09-3c7088a7fec1');\n",
              "          const dataTable =\n",
              "            await google.colab.kernel.invokeFunction('convertToInteractive',\n",
              "                                                     [key], {});\n",
              "          if (!dataTable) return;\n",
              "\n",
              "          const docLinkHtml = 'Like what you see? Visit the ' +\n",
              "            '<a target=\"_blank\" href=https://colab.research.google.com/notebooks/data_table.ipynb>data table notebook</a>'\n",
              "            + ' to learn more about interactive tables.';\n",
              "          element.innerHTML = '';\n",
              "          dataTable['output_type'] = 'display_data';\n",
              "          await google.colab.output.renderOutput(dataTable, element);\n",
              "          const docLink = document.createElement('div');\n",
              "          docLink.innerHTML = docLinkHtml;\n",
              "          element.appendChild(docLink);\n",
              "        }\n",
              "      </script>\n",
              "    </div>\n",
              "  </div>\n",
              "  "
            ],
            "text/plain": [
              "   Pclass  Sex   Age  SibSp  Parch     Fare  Cabin  Embarked\n",
              "0       3    1  22.0      1      0   7.2500      7         3\n",
              "1       1    0  38.0      1      0  71.2833      2         0\n",
              "2       3    0  26.0      0      0   7.9250      7         3\n",
              "3       1    0  35.0      1      0  53.1000      2         3\n",
              "4       3    1  35.0      0      0   8.0500      7         3"
            ]
          },
          "metadata": {},
          "execution_count": 86
        }
      ]
    },
    {
      "cell_type": "code",
      "source": [
        "#학습데이터(80%) / 테스트데이터(20%) 분리\n",
        "from sklearn.model_selection import train_test_split\n",
        "\n",
        "X_train, X_test, y_train, y_test = train_test_split(X, y, test_size=0.2,random_state=11)\n",
        "\n",
        "print(X_train.shape, y_train.shape)\n",
        "print(X_test.shape, y_test.shape)"
      ],
      "metadata": {
        "colab": {
          "base_uri": "https://localhost:8080/"
        },
        "id": "9UGH8pNgIhIk",
        "outputId": "9dc9f750-4d60-42cf-c1d3-5c7d167282a6"
      },
      "execution_count": 87,
      "outputs": [
        {
          "output_type": "stream",
          "name": "stdout",
          "text": [
            "(712, 8) (712,)\n",
            "(179, 8) (179,)\n"
          ]
        }
      ]
    },
    {
      "cell_type": "code",
      "source": [
        "#여러 ML 알고리즘을 사용하여 분류\n",
        "from sklearn.tree import DecisionTreeClassifier\n",
        "from sklearn.ensemble import RandomForestClassifier\n",
        "from sklearn.linear_model import LogisticRegression\n",
        "from sklearn.metrics import accuracy_score\n",
        "\n",
        "#여러 모델 객체생성\n",
        "seed = 11\n",
        "tree = DecisionTreeClassifier(random_state=seed)\n",
        "rf = RandomForestClassifier(random_state=seed)\n",
        "lr = LogisticRegression()\n",
        "\n",
        "#모델을 학습/예측/평가\n",
        "models = [tree, rf, lr]\n",
        "for model in models:\n",
        "  model.fit(X_train, y_train)\n",
        "  predict = model.predict(X_test)\n",
        "  score = accuracy_score(y_test, predict)\n",
        "  print(\"{}의 정확도는 {}\".format(model.__class__.__name__, round(score, 4)))\n",
        "  "
      ],
      "metadata": {
        "colab": {
          "base_uri": "https://localhost:8080/"
        },
        "id": "ABHs6JmnJUOh",
        "outputId": "5e6091b5-56e1-4549-8ab9-5b0fc81dfdb7"
      },
      "execution_count": 88,
      "outputs": [
        {
          "output_type": "stream",
          "name": "stdout",
          "text": [
            "DecisionTreeClassifier의 정확도는 0.7877\n",
            "RandomForestClassifier의 정확도는 0.8547\n",
            "LogisticRegression의 정확도는 0.8492\n"
          ]
        }
      ]
    },
    {
      "cell_type": "markdown",
      "source": [
        "최적화 작업을 진행하지 않고, 데이터 양도 충분하지 않아서 어떤 알고리즘이 가장 성능이 좋다고는 못함\n"
      ],
      "metadata": {
        "id": "8fm_YaEXKwlN"
      }
    },
    {
      "cell_type": "code",
      "source": [
        "#교차검증을 진행(KFold, cross_val_score(), GridSearchCV 모두 진행)\n",
        "#KFold 교차검증을 함수로 만들어 진행\n",
        "def exec_kfold(clf, folds=5):\n",
        "  from sklearn.model_selection import KFold\n",
        "  #폴드 세트를 5개인 KFold 객체를 생성, 폴드 수만큼 예측 결과 저장을 위한 리스트 객체 생성.\n",
        "  kfold = KFold(n_splits=folds)\n",
        "  scores = []\n",
        "  #KFold 교차검증 수행\n",
        "  print(\"{} : \".format(clf.__class__.__name__))\n",
        "  for i,(train_index, val_index) in enumerate(kfold.split(X),1):\n",
        "    #X 데이터에서 교차 검증별로 학습과 검증데이터를 가리키는 index 생성\n",
        "    X_train, X_test = X.values[train_index], X.values[val_index]\n",
        "    y_train, y_test = y.values[train_index], y.values[val_index]\n",
        "\n",
        "    #모델 학습/예측/정확도\n",
        "    clf.fit(X_train, y_train)\n",
        "    predict = clf.predict(X_test)\n",
        "    accuracy = accuracy_score(y_test, predict)\n",
        "    scores.append(accuracy)\n",
        "    print(\"교차 검증{} 정확도 : {}\".format(i, round(accuracy,4)))\n",
        "\n",
        "  print(\"평균 정확도 : \", round(np.mean(scores), 4))"
      ],
      "metadata": {
        "id": "z5u1aihPKb1O"
      },
      "execution_count": 89,
      "outputs": []
    },
    {
      "cell_type": "code",
      "source": [
        "from sklearn.tree import DecisionTreeClassifier\n",
        "seed = 11\n",
        "tree = DecisionTreeClassifier(random_state=seed)\n",
        "exec_kfold(tree)"
      ],
      "metadata": {
        "colab": {
          "base_uri": "https://localhost:8080/"
        },
        "id": "8hn5kUauLdbS",
        "outputId": "bc3c7cd9-d329-4c7e-e68f-108fec7707d0"
      },
      "execution_count": 90,
      "outputs": [
        {
          "output_type": "stream",
          "name": "stdout",
          "text": [
            "DecisionTreeClassifier : \n",
            "교차 검증1 정확도 : 0.7542\n",
            "교차 검증2 정확도 : 0.7809\n",
            "교차 검증3 정확도 : 0.7865\n",
            "교차 검증4 정확도 : 0.7697\n",
            "교차 검증5 정확도 : 0.8202\n",
            "평균 정확도 :  0.7823\n"
          ]
        }
      ]
    },
    {
      "cell_type": "code",
      "source": [
        "from sklearn.ensemble import RandomForestClassifier\n",
        "seed = 11\n",
        "rf = RandomForestClassifier(random_state=seed)\n",
        "exec_kfold(rf)"
      ],
      "metadata": {
        "colab": {
          "base_uri": "https://localhost:8080/"
        },
        "id": "mJzR22TqOCNq",
        "outputId": "40247d19-5f20-4e8c-ea90-53ee259a442d"
      },
      "execution_count": 91,
      "outputs": [
        {
          "output_type": "stream",
          "name": "stdout",
          "text": [
            "RandomForestClassifier : \n",
            "교차 검증1 정확도 : 0.7933\n",
            "교차 검증2 정확도 : 0.809\n",
            "교차 검증3 정확도 : 0.8371\n",
            "교차 검증4 정확도 : 0.7753\n",
            "교차 검증5 정확도 : 0.8596\n",
            "평균 정확도 :  0.8148\n"
          ]
        }
      ]
    },
    {
      "cell_type": "code",
      "source": [
        "from sklearn.linear_model import LogisticRegression\n",
        "lr = LogisticRegression()\n",
        "exec_kfold(lr)"
      ],
      "metadata": {
        "colab": {
          "base_uri": "https://localhost:8080/"
        },
        "id": "2hKh--C4OnZf",
        "outputId": "6b232cc9-8ee4-475d-9ddf-8a333d35646f"
      },
      "execution_count": 92,
      "outputs": [
        {
          "output_type": "stream",
          "name": "stdout",
          "text": [
            "LogisticRegression : \n",
            "교차 검증1 정확도 : 0.8045\n",
            "교차 검증2 정확도 : 0.7809\n",
            "교차 검증3 정확도 : 0.7753\n",
            "교차 검증4 정확도 : 0.7472\n",
            "교차 검증5 정확도 : 0.809\n",
            "평균 정확도 :  0.7834\n"
          ]
        }
      ]
    },
    {
      "cell_type": "code",
      "source": [
        "#cross_val_score() 진행\n",
        "def fun_cross_val_score(clf, X, y, cv=5):\n",
        "  from sklearn.model_selection import cross_val_score\n",
        "  scores = cross_val_score(estimator=clf, X=X, y=y,cv=cv, n_jobs=-1, scoring='accuracy')\n",
        "  print(\"{} : \".format(clf.__class__.__name__))\n",
        "  for i, accuracy in enumerate(scores, 1):\n",
        "    print(\"교차 검증 {} 정확도 : \".format(i, round(accuracy, 4)))\n",
        "\n",
        "  print(\"평균 정확도 : \", round(np.mean(scores),4))"
      ],
      "metadata": {
        "id": "dsWnYDorOxT6"
      },
      "execution_count": 103,
      "outputs": []
    },
    {
      "cell_type": "code",
      "source": [
        "tree = DecisionTreeClassifier(random_state=seed)\n",
        "rf = RandomForestClassifier(random_state=seed)\n",
        "lr = LogisticRegression()\n",
        "\n",
        "models = [tree, rf, lr]\n",
        "for model in models:\n",
        "  fun_cross_val_score(model, X, y)"
      ],
      "metadata": {
        "colab": {
          "base_uri": "https://localhost:8080/"
        },
        "id": "Jpy99zhcQLp0",
        "outputId": "179e02b2-a942-4ef4-bdb9-4d8cb595e5f9"
      },
      "execution_count": 104,
      "outputs": [
        {
          "output_type": "stream",
          "name": "stdout",
          "text": [
            "DecisionTreeClassifier : \n",
            "교차 검증 1 정확도 : \n",
            "교차 검증 2 정확도 : \n",
            "교차 검증 3 정확도 : \n",
            "교차 검증 4 정확도 : \n",
            "교차 검증 5 정확도 : \n",
            "평균 정확도 :  0.7879\n",
            "RandomForestClassifier : \n",
            "교차 검증 1 정확도 : \n",
            "교차 검증 2 정확도 : \n",
            "교차 검증 3 정확도 : \n",
            "교차 검증 4 정확도 : \n",
            "교차 검증 5 정확도 : \n",
            "평균 정확도 :  0.8137\n",
            "LogisticRegression : \n",
            "교차 검증 1 정확도 : \n",
            "교차 검증 2 정확도 : \n",
            "교차 검증 3 정확도 : \n",
            "교차 검증 4 정확도 : \n",
            "교차 검증 5 정확도 : \n",
            "평균 정확도 :  0.7845\n"
          ]
        }
      ]
    },
    {
      "cell_type": "code",
      "source": [
        "#학습데이터(80%) / 테스트데이터(20%) 분리\n",
        "from sklearn.model_selection import train_test_split\n",
        "\n",
        "X_train, X_test, y_train, y_test = train_test_split(X, y, test_size=0.2,random_state=11)\n",
        "\n",
        "print(X_train.shape, y_train.shape)\n",
        "print(X_test.shape, y_test.shape)"
      ],
      "metadata": {
        "colab": {
          "base_uri": "https://localhost:8080/"
        },
        "id": "jF_dUrePRlpg",
        "outputId": "aa8de774-7aaa-44c9-94b1-29356213b8f1"
      },
      "execution_count": 105,
      "outputs": [
        {
          "output_type": "stream",
          "name": "stdout",
          "text": [
            "(712, 8) (712,)\n",
            "(179, 8) (179,)\n"
          ]
        }
      ]
    },
    {
      "cell_type": "code",
      "source": [
        "#GridSearchCV를 사용\n",
        "def grid_search(clf, parameters,cv=5):\n",
        "  from sklearn.model_selection import GridSearchCV\n",
        "  from sklearn.metrics import accuracy_score\n",
        "  grid = GridSearchCV(clf, param_grid = parameters, scoring='accuracy',cv=cv)\n",
        "  grid.fit(X_train, y_train)\n",
        "  print(\"{} : \".format(clf.__class__.__name__))\n",
        "  print(\"GridSearchCV 최적 하이퍼 파라미터 : \", grid.best_params_)\n",
        "  print(\"GridSearchCV 최고 정확도 : {}\".format(round(grid.best_score_,4)))\n",
        "\n",
        "  best_clf = grid.best_estimator_\n",
        "\n",
        "  pred = best_clf.predict(X_test)\n",
        "  accuracy = accuracy_score(y_test, pred)\n",
        "  print(\"테스트 세트에서의 {} 정확도 : {}\".format(clf.__class__.__name__,round(accuracy, 4)))"
      ],
      "metadata": {
        "id": "lEMTYUImQcFp"
      },
      "execution_count": 112,
      "outputs": []
    },
    {
      "cell_type": "code",
      "source": [
        "#tree GridSearchCV 적용\n",
        "tree = DecisionTreeClassifier(random_state=seed)\n",
        "parameters = {\"max_depth\" : [2,3,5,10],\n",
        "              \"min_samples_split\" : [2,3,5],\n",
        "              \"min_samples_leaf\" : [1,5,8]}\n",
        "\n",
        "grid_search(tree, parameters)"
      ],
      "metadata": {
        "colab": {
          "base_uri": "https://localhost:8080/"
        },
        "id": "cJs1Q_RxSG0e",
        "outputId": "2fb21fd6-074d-44a6-9009-11941703e3e5"
      },
      "execution_count": 113,
      "outputs": [
        {
          "output_type": "stream",
          "name": "stdout",
          "text": [
            "DecisionTreeClassifier : \n",
            "GridSearchCV 최적 하이퍼 파라미터 :  {'max_depth': 3, 'min_samples_leaf': 5, 'min_samples_split': 2}\n",
            "GridSearchCV 최고 정확도 : 0.7992\n",
            "테스트 세트에서의 DecisionTreeClassifier 정확도 : 0.8715\n"
          ]
        }
      ]
    },
    {
      "cell_type": "code",
      "source": [
        "rf = RandomForestClassifier(random_state=seed)\n",
        "parameters = {\"max_depth\" : [2,3,5,10],\n",
        "              \"min_samples_split\" : [2,3,5],\n",
        "              \"min_samples_leaf\" : [1,5,8],\n",
        "              \"n_estimators\": [100,500,1000]}\n",
        "\n",
        "grid_search(rf, parameters)"
      ],
      "metadata": {
        "colab": {
          "base_uri": "https://localhost:8080/"
        },
        "id": "aJM3iIIlS7KK",
        "outputId": "70fa9898-3f9e-4aab-88b2-16c8d174033a"
      },
      "execution_count": 117,
      "outputs": [
        {
          "output_type": "stream",
          "name": "stdout",
          "text": [
            "RandomForestClassifier : \n",
            "GridSearchCV 최적 하이퍼 파라미터 :  {'max_depth': 5, 'min_samples_leaf': 1, 'min_samples_split': 2, 'n_estimators': 500}\n",
            "GridSearchCV 최고 정확도 : 0.816\n",
            "테스트 세트에서의 RandomForestClassifier 정확도 : 0.8715\n"
          ]
        }
      ]
    },
    {
      "cell_type": "code",
      "source": [
        "lr = LogisticRegression(n_jobs=-1)\n",
        "parameters = {\"max_iter\" : [100,300,500,1000],\n",
        "              }\n",
        "\n",
        "grid_search(lr, parameters)"
      ],
      "metadata": {
        "colab": {
          "base_uri": "https://localhost:8080/"
        },
        "id": "EAsM5xAYTL5d",
        "outputId": "76ff11d0-f303-440c-a345-337a0550fccf"
      },
      "execution_count": 118,
      "outputs": [
        {
          "output_type": "stream",
          "name": "stdout",
          "text": [
            "LogisticRegression : \n",
            "GridSearchCV 최적 하이퍼 파라미터 :  {'max_iter': 100}\n",
            "GridSearchCV 최고 정확도 : 0.7795\n",
            "테스트 세트에서의 LogisticRegression 정확도 : 0.8492\n"
          ]
        }
      ]
    }
  ]
}