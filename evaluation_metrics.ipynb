{
  "nbformat": 4,
  "nbformat_minor": 0,
  "metadata": {
    "colab": {
      "name": "evaluation_metrics.ipynb",
      "provenance": [],
      "collapsed_sections": [],
      "mount_file_id": "1ZwlOYFhru0O0HWcMWqWK2sEnmnPCRPTh",
      "authorship_tag": "ABX9TyPeuT13KZ88p0fo7Nc6oFtV",
      "include_colab_link": true
    },
    "kernelspec": {
      "name": "python3",
      "display_name": "Python 3"
    },
    "language_info": {
      "name": "python"
    }
  },
  "cells": [
    {
      "cell_type": "markdown",
      "metadata": {
        "id": "view-in-github",
        "colab_type": "text"
      },
      "source": [
        "<a href=\"https://colab.research.google.com/github/HwangHanJae/ml-definitive-guide-pratice/blob/main/evaluation_metrics.ipynb\" target=\"_parent\"><img src=\"https://colab.research.google.com/assets/colab-badge.svg\" alt=\"Open In Colab\"/></a>"
      ]
    },
    {
      "cell_type": "markdown",
      "source": [
        "#분류의 평가방법(분류에 사용되는 평가지표)\n",
        "- 정확도(Accuracy)\n",
        "- 오차행렬(Confusion Matrix)\n",
        "- 정밀도(Precision)\n",
        "- 재현율(Recall)\n",
        "- F1 스코어\n",
        "- ROC AUC\n",
        "\n",
        "6개의 지표모두 이진 분류에서 더욱 중요하게 강조하는 지표"
      ],
      "metadata": {
        "id": "3_8NbmcIE7LQ"
      }
    },
    {
      "cell_type": "markdown",
      "source": [
        "##정확도(Accuracy)\n",
        "\n",
        "$$\\frac{TN+TP}{TP+TN+FN+FP}$$\n",
        "\n",
        "$$ \\frac{예측\\;결과가\\;동일한\\;데이터\\;건수}{전체\\;예측\\;데이터\\;건수}$$\n"
      ],
      "metadata": {
        "id": "zjI3KGDiEdPt"
      }
    },
    {
      "cell_type": "code",
      "source": [
        "#정확도만 사용하면 안되는 경우\n",
        "from sklearn.base import BaseEstimator\n",
        "import numpy as np\n",
        "class MyDummyClassifier(BaseEstimator):\n",
        "  #fit() 메서드는 아무것도 학습하지 않음\n",
        "  def fit(self, X, y=None):\n",
        "    pass\n",
        "  #predict 메서드는 단순히 Sex 피처가 1이면 0, 그렇지 않으면 1로 예측함\n",
        "  def predict(self, X):\n",
        "    pred = np.zeros((X.shape[0],1))\n",
        "    for i in range(X.shape[0]):\n",
        "      if X[\"Sex\"].iloc[i] == 1:\n",
        "        pred[i] =0\n",
        "      else:\n",
        "        pred[i] = 1\n",
        "    return pred"
      ],
      "metadata": {
        "id": "o_BhOSsMFecw"
      },
      "execution_count": null,
      "outputs": []
    },
    {
      "cell_type": "code",
      "source": [
        "#@title\n",
        "#위에서 했던 작업들을 수행하기 편하게 함수로 정리\n",
        "\n",
        "#Null(결측값)처리\n",
        "def fillna(df):\n",
        "  df[\"Age\"] = df[\"Age\"].fillna(df[\"Age\"].mean())\n",
        "  df[\"Cabin\"] = df['Cabin'].fillna(\"N\")\n",
        "  df[\"Embarked\"] = df[\"Embarked\"].fillna(\"N\")\n",
        "  df[\"Fare\"] = df[\"Fare\"].fillna(0)\n",
        "\n",
        "  return df\n",
        "\n",
        "#불필요한 속성 제거\n",
        "def drop_features(df):\n",
        "  drop_col = [\"PassengerId\", \"Name\", \"Ticket\"]\n",
        "  df.drop(drop_col, axis=1, inplace = True)\n",
        "  return df\n",
        "\n",
        "#LabelEncoding 수행\n",
        "\n",
        "def format_features(df):\n",
        "  from sklearn.preprocessing import LabelEncoder\n",
        "  df[\"Cabin\"] = df[\"Cabin\"].str[:1]\n",
        "  features = [\"Cabin\", \"Sex\",\"Embarked\"]\n",
        "  for feature in features:\n",
        "    encoder = LabelEncoder()\n",
        "    encoder.fit(df[feature])\n",
        "    df[feature] = encoder.transform(df[feature])\n",
        "  return df\n",
        "\n",
        "#위에서 작성한 함수를 실행하는 함수\n",
        "def transform_features(df):\n",
        "  fillna(df)\n",
        "  drop_features(df)\n",
        "  format_features(df)\n",
        "  return df"
      ],
      "metadata": {
        "id": "32uB2FTQHoUR",
        "cellView": "form"
      },
      "execution_count": 3,
      "outputs": []
    },
    {
      "cell_type": "code",
      "source": [
        "import pandas as pd\n",
        "from sklearn.model_selection import train_test_split\n",
        "from sklearn.metrics import accuracy_score\n",
        "\n",
        "#원본 데이터 재로딩, 데이터 가공, 학습 데이터/테스트 데이터 분할\n",
        "train_path = \"/content/drive/MyDrive/Colab Notebooks/DataScience/Data/titanic/train.csv\"\n",
        "\n",
        "titanic_df = pd.read_csv(train_path)\n",
        "y = titanic_df[\"Survived\"]\n",
        "X = titanic_df.drop(\"Survived\", axis=1)\n",
        "X = transform_features(X)\n",
        "X_train, X_test, y_train, y_test = train_test_split(X, y, test_size= 0.2, random_state=0)\n",
        "\n",
        "#위에서 생성한 Dummy Classifier를 이용해 학습/예측/평가 수행\n",
        "\n",
        "myclf = MyDummyClassifier()\n",
        "myclf.fit(X_train, y_train)\n",
        "my_pred = myclf.predict(X_test)\n",
        "print(\"Dummy Classifier의 정확도 : {}\".format(accuracy_score(y_test, my_pred).round(4)))"
      ],
      "metadata": {
        "colab": {
          "base_uri": "https://localhost:8080/"
        },
        "id": "NnZeADdpGmba",
        "outputId": "e58d430e-2108-4d33-cd43-b139f4b74771"
      },
      "execution_count": null,
      "outputs": [
        {
          "output_type": "stream",
          "name": "stdout",
          "text": [
            "Dummy Classifier의 정확도 : 0.7877\n"
          ]
        }
      ]
    },
    {
      "cell_type": "markdown",
      "source": [
        "단순한 알고리즘으로 예측을 하더라도 데이터의 구성에 따라 정확도가 약 78.77%로 높은 수치가 나올 수 있기 때문에 신중하게 사용해야 함"
      ],
      "metadata": {
        "id": "BzsJeIVIIh_L"
      }
    },
    {
      "cell_type": "markdown",
      "source": [
        "정확도는 불균형한 레이블 값 분포의 모델의 성능을 판단할 경우 적합한 평가지표가 아님"
      ],
      "metadata": {
        "id": "_rASdCPgIWmA"
      }
    },
    {
      "cell_type": "code",
      "source": [
        "#불균형한 레이블 값의 분포 예제\n",
        "#레이블의 값이 7인 것만 True, 나머지 값은 False\n",
        "#전체 데이터의 10%만 True, 나머지 90%는 False로 변형\n",
        "from sklearn.datasets import load_digits\n",
        "from sklearn.model_selection import train_test_split\n",
        "from sklearn.base import BaseEstimator\n",
        "from sklearn.metrics import accuracy_score\n",
        "import numpy as np\n",
        "import pandas as pd\n",
        "\n",
        "class MyFakeClassifier(BaseEstimator):\n",
        "  def fit(self, X, y):\n",
        "    pass\n",
        "  \n",
        "  #입력값으로 들어오는 X 데이터 세트의 크기만큼 모두 0값으로 만들어서 변환\n",
        "  def predict(self, X):\n",
        "    return np.zeros((len(X),1), dtype=bool)\n",
        "  \n",
        "#사이킷런의 내장 데이터 세트인 load_digits()를 이용해 MNIST 데이터 로딩\n",
        "digits = load_digits()\n",
        "\n",
        "#digits 번호가 7번이면 True이고 이를 astype(int)로 1로 변환, 7번이 아니면 False이고 0으로 변환\n",
        "\n",
        "y = (digits.target == 7).astype(int)\n",
        "X_train, X_test, y_train, y_test = train_test_split(digits.data, y, random_state=11)\n",
        "\n",
        "#불균형한 데이터로 생성한 y_test의 데이터 분포도 확인\n",
        "print(\"레이블 테스트 데이터 크기 : \", y_test.shape)\n",
        "print(\"테스트 세트 레이블 0 과 1의 분포도\")\n",
        "print(pd.Series(y_test).value_counts())\n",
        "\n",
        "#Dummy Classifier로 학습/예측/평가\n",
        "clf = MyFakeClassifier()\n",
        "clf.fit(X_train, y_train)\n",
        "pred = clf.predict(X_test)\n",
        "print(f\"모든 예측을 0으로 하여도 정확도는 : {(accuracy_score(y_test, pred))}\")\n"
      ],
      "metadata": {
        "colab": {
          "base_uri": "https://localhost:8080/"
        },
        "id": "wMDRBGFRIzaR",
        "outputId": "b770ceed-b6e1-4712-a711-3dfb87079760"
      },
      "execution_count": null,
      "outputs": [
        {
          "output_type": "stream",
          "name": "stdout",
          "text": [
            "레이블 테스트 데이터 크기 :  (450,)\n",
            "테스트 세트 레이블 0 과 1의 분포도\n",
            "0    405\n",
            "1     45\n",
            "dtype: int64\n",
            "모든 예측을 0으로 하여도 정확도는 : 0.9\n"
          ]
        }
      ]
    },
    {
      "cell_type": "markdown",
      "source": [
        "**오차행렬(Confusion matrix)**\n",
        "\n",
        "![image.png](data:image/png;base64,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)"
      ],
      "metadata": {
        "id": "tkiSc6OXLogV"
      }
    },
    {
      "cell_type": "markdown",
      "source": [
        "TN : 예측 값은 Negative(0)로 예측 했고, 실제 값 역시 Negative(0)\n",
        "\n",
        "FP : 예측 값은 Positive(1)로 예측 했고, 실제 값은 Negative(0)\n",
        "\n",
        "FN : 예측 값은 Negative(0)로 예측 했고, 실제 값은 Positive(1)\n",
        "\n",
        "TP : 예측 값은 Positive(1)로 예측 했고, 실제 값은 Positive(1)\n"
      ],
      "metadata": {
        "id": "-Ies0LSdPTHi"
      }
    },
    {
      "cell_type": "code",
      "source": [
        "#위에서의 예제를 confusion matrix로 평가\n",
        "from sklearn.metrics import confusion_matrix\n",
        "\n",
        "print(confusion_matrix(y_test, pred))\n",
        "print(np.array([[\"TN\",\"FP\"],\n",
        "       [\"FN\", \"TP\"]]))"
      ],
      "metadata": {
        "colab": {
          "base_uri": "https://localhost:8080/"
        },
        "id": "eL_svBleKniB",
        "outputId": "fe6626c9-bfe2-4bc3-80a7-968c9edccde2"
      },
      "execution_count": null,
      "outputs": [
        {
          "output_type": "stream",
          "name": "stdout",
          "text": [
            "[[405   0]\n",
            " [ 45   0]]\n",
            "[['TN' 'FP']\n",
            " ['FN' 'TP']]\n"
          ]
        }
      ]
    },
    {
      "cell_type": "markdown",
      "source": [
        "confusion_matrix로 정확도, 정밀도, 재현율을 알 수 있음\n",
        "\n",
        "- 정확도 : (TN + TP) / (TN + TP + FN + FP)\n",
        "- 정밀도 : (TP) / (TP + FP)\n",
        "- 재현율 : (TN) / (TN + FP) or (TP) / (FN + TP)\n",
        "  - 민감도(Sensitivity)또는 TPR(True Positive Rate)라고도 불림\n"
      ],
      "metadata": {
        "id": "8TBpHcmMRSm3"
      }
    },
    {
      "cell_type": "markdown",
      "source": [
        "재현율이 상대적으로 더 중요한 지표인 경우\n",
        "  - 실제 Positive 양성인 데이터 예측을 Negative로 잘못 판단하게 되면 업무상 큰 영향이 발생\n",
        "\n",
        "정밀도가 상대적으로 더 중요한 지표인 경우\n",
        "  - 실제 Negative 음성인 데이터 예측은 Positive로 잘못 판단하게 되면 업무상 큰 영향이 발생"
      ],
      "metadata": {
        "id": "joakwvUsHkdf"
      }
    },
    {
      "cell_type": "code",
      "source": [
        "#정밀도 precision_score(), 재현율 recall_score()\n",
        "#4가지 지표를 모두 호출하는 함수를 만듬\n",
        "\n",
        "from sklearn.metrics import precision_score, recall_score, confusion_matrix, accuracy_score\n",
        "\n",
        "def get_clf_eval(y_test, pred):\n",
        "  confusion = confusion_matrix(y_test, pred)\n",
        "  accuracy = accuracy_score(y_test, pred)\n",
        "  precision = precision_score(y_test, pred)\n",
        "  recall = recall_score(y_test, pred)\n",
        "  print(\"오차 행렬\")\n",
        "  print(confusion)\n",
        "  print(f\"정확도 : {round(accuracy, 4)}, 정밀도 : {round(precision, 4)}, 재현율 : {round(recall, 4)}\")"
      ],
      "metadata": {
        "id": "DlsgKUeHDu5X"
      },
      "execution_count": null,
      "outputs": []
    },
    {
      "cell_type": "code",
      "source": [
        "#로지스틱 회귀 기반으로 타이타닉 생존자 예측\n",
        "#평가 수행\n",
        "train_path = \"/content/drive/MyDrive/Colab Notebooks/DataScience/Data/titanic/train.csv\"\n",
        "test_path = \"/content/drive/MyDrive/Colab Notebooks/DataScience/Data/titanic/test.csv\"\n",
        "\n",
        "import pandas as pd\n",
        "from sklearn.model_selection import train_test_split\n",
        "from sklearn.linear_model import LogisticRegression\n",
        "\n",
        "#원본 데이터를 재로딩, 데이터 가공, 학습 데이터/테스트 데이터 분할\n",
        "train = pd.read_csv(train_path)\n",
        "X = train.drop(\"Survived\", axis=1)\n",
        "y = train[\"Survived\"]\n",
        "\n",
        "X = transform_features(X)\n",
        "\n",
        "X_train, X_test, y_train, y_test = train_test_split(X,y, test_size=0.2, random_state=11)\n",
        "\n",
        "clf = LogisticRegression()\n",
        "clf.fit(X_train, y_train)\n",
        "pred = clf.predict(X_test)\n",
        "\n",
        "get_clf_eval(y_test, pred)"
      ],
      "metadata": {
        "colab": {
          "base_uri": "https://localhost:8080/"
        },
        "id": "yNwATwaRI-09",
        "outputId": "999ef829-7ff8-4fff-dcef-9d0607d6d4fc"
      },
      "execution_count": 31,
      "outputs": [
        {
          "output_type": "stream",
          "name": "stdout",
          "text": [
            "오차 행렬\n",
            "[[104  14]\n",
            " [ 13  48]]\n",
            "정확도 : 0.8492, 정밀도 : 0.7742, 재현율 : 0.7869, F1 : 0.7805, ROC AUC : 0.8341\n"
          ]
        },
        {
          "output_type": "stream",
          "name": "stderr",
          "text": [
            "/usr/local/lib/python3.7/dist-packages/sklearn/linear_model/_logistic.py:818: ConvergenceWarning: lbfgs failed to converge (status=1):\n",
            "STOP: TOTAL NO. of ITERATIONS REACHED LIMIT.\n",
            "\n",
            "Increase the number of iterations (max_iter) or scale the data as shown in:\n",
            "    https://scikit-learn.org/stable/modules/preprocessing.html\n",
            "Please also refer to the documentation for alternative solver options:\n",
            "    https://scikit-learn.org/stable/modules/linear_model.html#logistic-regression\n",
            "  extra_warning_msg=_LOGISTIC_SOLVER_CONVERGENCE_MSG,\n"
          ]
        }
      ]
    },
    {
      "cell_type": "markdown",
      "source": [
        "##정밀도/재현율 트레이드오프(Trade-Off)관계\n",
        "\n",
        "###$$정밀도(Precision)$$\n",
        "$$\\frac{TP}{TP + FP}$$\n",
        "\n",
        "###$$재현율(Recall) = 민감도(Sensitivity)$$\n",
        "$$\\frac{TN}{TN+FP}\\;or\\;\\frac{TP}{TP+FN}$$"
      ],
      "metadata": {
        "id": "HZXtbSfXKbtj"
      }
    },
    {
      "cell_type": "code",
      "source": [
        "#predict_proba()\n",
        "\n",
        "pred_proba = clf.predict_proba(X_test)\n",
        "pred = clf.predict(X_test)\n",
        "print(\"pred_proba()결과 Shape : {}\".format(pred_proba.shape))\n",
        "print(\"pred_proba array에서 앞 3개만 샘플로 추출 \\n: \", pred_proba[:3])\n",
        "\n",
        "#예측 확률 array와 예측 결과값 array를 병합(concatenate)해 예측 확률과 결과값 하눈에 확인\n",
        "pred_proba_result = np.concatenate([pred_proba, pred.reshape(-1,1)],axis=1)\n",
        "print(\"두 개의 class 중에서 더 큰 확률을 클래스 값으로 예측 \\n\", pred_proba_result[:3])"
      ],
      "metadata": {
        "id": "b3h1cBVPKIhr"
      },
      "execution_count": null,
      "outputs": []
    },
    {
      "cell_type": "code",
      "source": [
        "#사이킷런 로직을 직접 구현해 가기\n",
        "#Binarizer 클래스 사용\n",
        "#threshold 값을 기준으로 클래스를 분류\n",
        "from sklearn.preprocessing import Binarizer\n",
        "\n",
        "X=[[1,-1, 3],\n",
        "   [2, 0, 0],\n",
        "   [0, 1.1, 1.2]]\n",
        "\n",
        "#X의 개별 원소들이 threshold값 보다 같거나 작으면 0을 크면 1을 반환\n",
        "binarizer  = Binarizer(threshold=1.1)\n",
        "print(binarizer.fit_transform(X))"
      ],
      "metadata": {
        "colab": {
          "base_uri": "https://localhost:8080/"
        },
        "id": "4LrGzJThLlob",
        "outputId": "f9a74170-e8e1-47e0-f1c4-d043d42418a9"
      },
      "execution_count": null,
      "outputs": [
        {
          "output_type": "stream",
          "name": "stdout",
          "text": [
            "[[0. 0. 1.]\n",
            " [1. 0. 0.]\n",
            " [0. 0. 1.]]\n"
          ]
        }
      ]
    },
    {
      "cell_type": "markdown",
      "source": [
        "threshold = 1.1이며 1.1보다 값이 작거나 같으면 0을 크면 1을 반환한 것을 볼 수 있음"
      ],
      "metadata": {
        "id": "Pr4OVSyXNEHM"
      }
    },
    {
      "cell_type": "code",
      "source": [
        "#Binarizer를 이용하여 predict()의 의사코들르 만들기\n",
        "from sklearn.preprocessing import Binarizer\n",
        "\n",
        "#Binarizer의 threshold 설정값, 분류 결정 임곗값임\n",
        "custom_threshold = 0.5\n",
        "\n",
        "#predict_proba() 반환값의 두 번째 칼럼 즉 Positive 클래스 칼럼 하나만 추출해 Binarizer를 적용\n",
        "pred_proba_1 = pred_proba[:,1].reshape(-1,1)\n",
        "\n",
        "binarizer = Binarizer(threshold =custom_threshold).fit(pred_proba_1)\n",
        "custom_predict = binarizer.transform(pred_proba_1)\n",
        "\n",
        "get_clf_eval(y_test, custom_predict)"
      ],
      "metadata": {
        "colab": {
          "base_uri": "https://localhost:8080/"
        },
        "id": "9aqiFEhONCyF",
        "outputId": "c5d2d3c6-b1d8-4db4-a4ed-25a6ab474169"
      },
      "execution_count": null,
      "outputs": [
        {
          "output_type": "stream",
          "name": "stdout",
          "text": [
            "오차 행렬\n",
            "[[104  14]\n",
            " [ 13  48]]\n",
            "정확도 : 0.8492, 정밀도 : 0.7742, 재현율 : 0.7869\n"
          ]
        }
      ]
    },
    {
      "cell_type": "markdown",
      "source": [
        "위에서 구한 지표들과 값이 정확하게 일치하는 것을 볼 수 있다.\n",
        "\n",
        "이는 predict()가 predict_proba에 기반한 것을 보여준다."
      ],
      "metadata": {
        "id": "QePeWnI6OM6c"
      }
    },
    {
      "cell_type": "code",
      "source": [
        "#임계치를 0.4로 낮추기\n",
        "custom_threshold = 0.4\n",
        "pred_proba_1 = pred_proba[:,1].reshape(-1,1)\n",
        "\n",
        "binarizer = Binarizer(threshold =custom_threshold).fit(pred_proba_1)\n",
        "custom_predict = binarizer.transform(pred_proba_1)\n",
        "\n",
        "get_clf_eval(y_test, custom_predict)"
      ],
      "metadata": {
        "colab": {
          "base_uri": "https://localhost:8080/"
        },
        "id": "O7QcLS2DOJIM",
        "outputId": "32dcba51-0476-41c7-a9b5-37e370195508"
      },
      "execution_count": null,
      "outputs": [
        {
          "output_type": "stream",
          "name": "stdout",
          "text": [
            "오차 행렬\n",
            "[[98 20]\n",
            " [10 51]]\n",
            "정확도 : 0.8324, 정밀도 : 0.7183, 재현율 : 0.8361\n"
          ]
        }
      ]
    },
    {
      "cell_type": "markdown",
      "source": [
        "재현율이 올라가고 정밀도가 떨어지는 것을 볼 수 있다.\n",
        "\n"
      ],
      "metadata": {
        "id": "Ymq79xXPOecN"
      }
    },
    {
      "cell_type": "code",
      "source": [
        "#임계치를 0.4에서 0.6까지 0.05씩 증가\n",
        "thresholds = [0.4, 0.45, 0.5,0.55,0.60]\n",
        "\n",
        "def get_eval_by_threshold(y_test, pred_proba_c1, thresholds):\n",
        "  #threshold list 객체 내의 값을 차례로 iteration하면서 평가 수행\n",
        "  for custom_threshold in thresholds:\n",
        "    binarizer = Binarizer(threshold =custom_threshold).fit(pred_proba_c1)\n",
        "    custom_predict = binarizer.transform(pred_proba_c1)\n",
        "    print(\"임계치 : \", custom_threshold)\n",
        "    get_clf_eval(y_test, custom_predict)\n",
        "    print()\n",
        "\n",
        "get_eval_by_threshold(y_test, pred_proba[:,1].reshape(-1,1), thresholds)\n"
      ],
      "metadata": {
        "colab": {
          "base_uri": "https://localhost:8080/"
        },
        "id": "c1hdgAs8OcUp",
        "outputId": "ba1836e7-5b73-4dda-c279-bcd20932362c"
      },
      "execution_count": null,
      "outputs": [
        {
          "output_type": "stream",
          "name": "stdout",
          "text": [
            "임계치 :  0.4\n",
            "오차 행렬\n",
            "[[98 20]\n",
            " [10 51]]\n",
            "정확도 : 0.8324, 정밀도 : 0.7183, 재현율 : 0.8361\n",
            "\n",
            "임계치 :  0.45\n",
            "오차 행렬\n",
            "[[103  15]\n",
            " [ 12  49]]\n",
            "정확도 : 0.8492, 정밀도 : 0.7656, 재현율 : 0.8033\n",
            "\n",
            "임계치 :  0.5\n",
            "오차 행렬\n",
            "[[104  14]\n",
            " [ 13  48]]\n",
            "정확도 : 0.8492, 정밀도 : 0.7742, 재현율 : 0.7869\n",
            "\n",
            "임계치 :  0.55\n",
            "오차 행렬\n",
            "[[109   9]\n",
            " [ 15  46]]\n",
            "정확도 : 0.8659, 정밀도 : 0.8364, 재현율 : 0.7541\n",
            "\n",
            "임계치 :  0.6\n",
            "오차 행렬\n",
            "[[112   6]\n",
            " [ 16  45]]\n",
            "정확도 : 0.8771, 정밀도 : 0.8824, 재현율 : 0.7377\n",
            "\n"
          ]
        }
      ]
    },
    {
      "cell_type": "code",
      "source": [
        "#사이킷런에서는 precision_recall_curve() API를 제공\n",
        "from sklearn.metrics import precision_recall_curve\n",
        "\n",
        "#레이블 값이 1일 때의 예측 확률을 추출\n",
        "pred_proba_class1 = clf.predict_proba(X_test)[:, 1]\n",
        "\n",
        "#실제값 데이터 세트와 레이블 값이 1일 때의 예측 확률을 precision_recall_curve 인자로 입력\n",
        "precisions, recalls, thresholds = precision_recall_curve(y_test, pred_proba_class1)\n",
        "print(\"반환된 분류 결정 임계치 배열의 Shape : \", thresholds.shape)\n",
        "\n",
        "#반환된 임계치 배열 로우가 147건이므로 샘플로 10건만 추출, 임계치를 15 Step으로 추출\n",
        "thr_index = np.arange(0, thresholds.shape[0], 15)\n",
        "print(\"샘플 추출을 위한 임계치 배열의 index 10개 : \", thr_index)\n",
        "print(\"샘플용 10개의 임계치 : \", np.round(thresholds[thr_index], 2))\n",
        "\n",
        "#15 Step 단위로 추출된 임계치에 따른 정밀도와 재현율 값\n",
        "print(\"샘플 임계치별 정밀도 : \", np.round(precisions[thr_index],3))\n",
        "print(\"샘플 임계치별 재현율 : \", np.round(recalls[thr_index],3))"
      ],
      "metadata": {
        "colab": {
          "base_uri": "https://localhost:8080/"
        },
        "id": "uWR19ld6Tryr",
        "outputId": "30667430-5951-4fcd-c8e4-5361cb5b30f3"
      },
      "execution_count": null,
      "outputs": [
        {
          "output_type": "stream",
          "name": "stdout",
          "text": [
            "반환된 분류 결정 임계치 배열의 Shape :  (143,)\n",
            "샘플 추출을 위한 임계치 배열의 index 10개 :  [  0  15  30  45  60  75  90 105 120 135]\n",
            "샘플용 10개의 임계치 :  [0.1  0.12 0.14 0.19 0.28 0.4  0.56 0.67 0.82 0.95]\n",
            "샘플 임계치별 정밀도 :  [0.389 0.44  0.466 0.539 0.647 0.729 0.836 0.949 0.958 1.   ]\n",
            "샘플 임계치별 재현율 :  [1.    0.967 0.902 0.902 0.902 0.836 0.754 0.607 0.377 0.148]\n"
          ]
        }
      ]
    },
    {
      "cell_type": "markdown",
      "source": [
        "위의 결과를 그래프로 그려보기"
      ],
      "metadata": {
        "id": "jw8a2uTKVe36"
      }
    },
    {
      "cell_type": "markdown",
      "source": [
        ""
      ],
      "metadata": {
        "id": "_q3WbqPJN_Sx"
      }
    },
    {
      "cell_type": "code",
      "source": [
        "import matplotlib.pyplot as plt\n",
        "import matplotlib.ticker as ticker\n",
        "\n",
        "def precision_recall_curve_plot(y_test, pred_proba_c1):\n",
        "  #threshold, ndarray와 이 thershold에 따른 정밀도, 재현율 ndarray 추출\n",
        "  precisions, recalls, thresholds, precision_recall_curve(y_test, pred_proba_c1)\n",
        "\n",
        "  #X축을 thershold값으로 Y축은 정밀도, 재현율 값으로 각각 Plot을 수행, 정밀도는 점선으로 표시\n",
        "  plt.figure(figsize=(8,6))\n",
        "  threshold_boundary = thresholds.shape[0]\n",
        "  plt.plot(thresholds, precisions[0:threshold_boundary], linestyle='--', label=\"precision\")\n",
        "  plt.plot(thresholds, recalls[0:threshold_boundary], label='recall')\n",
        "\n",
        "  #thershold값 X축의 Scale을 0.1단위로 변경\n",
        "  start, end = plt.xlim()\n",
        "  plt.xticks(np.round(np.arange(start, end, 0.1),2))\n",
        "\n",
        "  #X축, Y축 label과 legend, 그리고 grid 설정\n",
        "  plt.xlabel(\"Threshold value\")\n",
        "  plt.ylabel(\"Precision and Recall value\")\n",
        "  plt.legend()\n",
        "  plt.grid()\n",
        "  plt.show()\n",
        "\n",
        "precision_recall_curve_plot(y_test, pred_proba_class1)"
      ],
      "metadata": {
        "colab": {
          "base_uri": "https://localhost:8080/",
          "height": 388
        },
        "id": "OCxD2sA4U-Gr",
        "outputId": "7116770f-e463-45b7-cca3-da9c17795a30"
      },
      "execution_count": null,
      "outputs": [
        {
          "output_type": "display_data",
          "data": {
            "image/png": "[encoded data removed]",
            "text/plain": [
              "<Figure size 576x432 with 1 Axes>"
            ]
          },
          "metadata": {
            "needs_background": "light"
          }
        }
      ]
    },
    {
      "cell_type": "markdown",
      "source": [
        "\n",
        "###$$F1 Score$$\n",
        "$$\\frac{2 * precision * recall}{precision + recall}$$\n",
        "\n",
        "$$정밀도와 재현율을 결합한 지표$$\n",
        "\n",
        "\n",
        "\n"
      ],
      "metadata": {
        "id": "6s7zvxgdC2Nm"
      }
    },
    {
      "cell_type": "code",
      "source": [
        "#@title\n",
        "#위에서 했던 작업들을 수행하기 편하게 함수로 정리\n",
        "\n",
        "#Null(결측값)처리\n",
        "def fillna(df):\n",
        "  df[\"Age\"] = df[\"Age\"].fillna(df[\"Age\"].mean())\n",
        "  df[\"Cabin\"] = df['Cabin'].fillna(\"N\")\n",
        "  df[\"Embarked\"] = df[\"Embarked\"].fillna(\"N\")\n",
        "  df[\"Fare\"] = df[\"Fare\"].fillna(0)\n",
        "\n",
        "  return df\n",
        "\n",
        "#불필요한 속성 제거\n",
        "def drop_features(df):\n",
        "  drop_col = [\"PassengerId\", \"Name\", \"Ticket\"]\n",
        "  df.drop(drop_col, axis=1, inplace = True)\n",
        "  return df\n",
        "\n",
        "#LabelEncoding 수행\n",
        "\n",
        "def format_features(df):\n",
        "  from sklearn.preprocessing import LabelEncoder\n",
        "  df[\"Cabin\"] = df[\"Cabin\"].str[:1]\n",
        "  features = [\"Cabin\", \"Sex\",\"Embarked\"]\n",
        "  for feature in features:\n",
        "    encoder = LabelEncoder()\n",
        "    encoder.fit(df[feature])\n",
        "    df[feature] = encoder.transform(df[feature])\n",
        "  return df\n",
        "\n",
        "#위에서 작성한 함수를 실행하는 함수\n",
        "def transform_features(df):\n",
        "  fillna(df)\n",
        "  drop_features(df)\n",
        "  format_features(df)\n",
        "  return df"
      ],
      "metadata": {
        "cellView": "form",
        "id": "zLVqQFEPEhr5"
      },
      "execution_count": 4,
      "outputs": []
    },
    {
      "cell_type": "code",
      "source": [
        "#@title\n",
        "\n",
        "#로지스틱 회귀 기반으로 타이타닉 생존자 예측\n",
        "#평가 수행\n",
        "train_path = \"/content/drive/MyDrive/Colab Notebooks/DataScience/Data/titanic/train.csv\"\n",
        "test_path = \"/content/drive/MyDrive/Colab Notebooks/DataScience/Data/titanic/test.csv\"\n",
        "\n",
        "import pandas as pd\n",
        "from sklearn.model_selection import train_test_split\n",
        "from sklearn.linear_model import LogisticRegression\n",
        "\n",
        "#원본 데이터를 재로딩, 데이터 가공, 학습 데이터/테스트 데이터 분할\n",
        "train = pd.read_csv(train_path)\n",
        "X = train.drop(\"Survived\", axis=1)\n",
        "y = train[\"Survived\"]\n",
        "\n",
        "X = transform_features(X)\n",
        "\n",
        "X_train, X_test, y_train, y_test = train_test_split(X,y, test_size=0.2, random_state=11)\n",
        "\n",
        "clf = LogisticRegression()\n",
        "clf.fit(X_train, y_train)\n",
        "pred = clf.predict(X_test)\n",
        "pred_proba = clf.predict_proba(X_test)"
      ],
      "metadata": {
        "id": "jZvXoT2mEpeR",
        "cellView": "form"
      },
      "execution_count": null,
      "outputs": []
    },
    {
      "cell_type": "code",
      "source": [
        "from sklearn.metrics import f1_score\n",
        "f1 =f1_score(y_test, pred)\n",
        "print(\"F1 스코어 : \", round(f1, 4))\n"
      ],
      "metadata": {
        "id": "3qT7bntdW3ZR",
        "colab": {
          "base_uri": "https://localhost:8080/"
        },
        "outputId": "be70e5b9-991b-4d8f-8864-8a07d3bb6fcc"
      },
      "execution_count": 10,
      "outputs": [
        {
          "output_type": "stream",
          "name": "stdout",
          "text": [
            "F1 스코어 :  0.7805\n"
          ]
        }
      ]
    },
    {
      "cell_type": "code",
      "source": [
        "#정밀도 precision_score(), 재현율 recall_score()\n",
        "#4가지 지표를 모두 호출하는 함수를 만듬\n",
        "#F1 스코어를 추가\n",
        "from sklearn.metrics import precision_score, recall_score, confusion_matrix, accuracy_score, f1_score\n",
        "from sklearn.preprocessing import Binarizer\n",
        "def get_clf_eval(y_test, pred):\n",
        "  confusion = confusion_matrix(y_test, pred)\n",
        "  accuracy = accuracy_score(y_test, pred)\n",
        "  precision = precision_score(y_test, pred)\n",
        "  recall = recall_score(y_test, pred)\n",
        "  f1 = f1_score(y_test, pred)\n",
        "  print(\"오차 행렬\")\n",
        "  print(confusion)\n",
        "  print(f\"정확도 : {round(accuracy, 4)}, 정밀도 : {round(precision, 4)}, 재현율 : {round(recall, 4)}, F1 : {round(f1, 4)}\")\n",
        "\n",
        "def get_eval_by_threshold(y_test, pred_proba_c1, thresholds):\n",
        "  #threshold list 객체 내의 값을 차례로 iteration하면서 평가 수행\n",
        "  for custom_threshold in thresholds:\n",
        "    binarizer = Binarizer(threshold =custom_threshold).fit(pred_proba_c1)\n",
        "    custom_predict = binarizer.transform(pred_proba_c1)\n",
        "    print(\"임계치 : \", custom_threshold)\n",
        "    get_clf_eval(y_test, custom_predict)\n",
        "    print()\n",
        "\n"
      ],
      "metadata": {
        "id": "-7IPeSiEEwdE"
      },
      "execution_count": 13,
      "outputs": []
    },
    {
      "cell_type": "code",
      "source": [
        "#임계치를 0.4에서 0.6까지 0.05씩 증가\n",
        "thresholds = [0.4, 0.45, 0.5,0.55,0.60]\n",
        "\n",
        "\n",
        "get_eval_by_threshold(y_test, pred_proba[:,1].reshape(-1,1), thresholds)"
      ],
      "metadata": {
        "colab": {
          "base_uri": "https://localhost:8080/"
        },
        "id": "A-2i-MGhFQrv",
        "outputId": "db674e34-b61e-4173-9c4f-299a6c427949"
      },
      "execution_count": 14,
      "outputs": [
        {
          "output_type": "stream",
          "name": "stdout",
          "text": [
            "임계치 :  0.4\n",
            "오차 행렬\n",
            "[[98 20]\n",
            " [10 51]]\n",
            "정확도 : 0.8324, 정밀도 : 0.7183, 재현율 : 0.8361, F1 : 0.7727\n",
            "\n",
            "임계치 :  0.45\n",
            "오차 행렬\n",
            "[[103  15]\n",
            " [ 12  49]]\n",
            "정확도 : 0.8492, 정밀도 : 0.7656, 재현율 : 0.8033, F1 : 0.784\n",
            "\n",
            "임계치 :  0.5\n",
            "오차 행렬\n",
            "[[104  14]\n",
            " [ 13  48]]\n",
            "정확도 : 0.8492, 정밀도 : 0.7742, 재현율 : 0.7869, F1 : 0.7805\n",
            "\n",
            "임계치 :  0.55\n",
            "오차 행렬\n",
            "[[109   9]\n",
            " [ 15  46]]\n",
            "정확도 : 0.8659, 정밀도 : 0.8364, 재현율 : 0.7541, F1 : 0.7931\n",
            "\n",
            "임계치 :  0.6\n",
            "오차 행렬\n",
            "[[112   6]\n",
            " [ 16  45]]\n",
            "정확도 : 0.8771, 정밀도 : 0.8824, 재현율 : 0.7377, F1 : 0.8036\n",
            "\n"
          ]
        }
      ]
    },
    {
      "cell_type": "markdown",
      "source": [
        "###ROC CURVE(수신자 판단 곡선) and AUC\n",
        "\n",
        ": FPR(False Positive Rate)가 변할때 TPR(True Positive Rate)가 어떻게 변하는지 나타내는 곡선\n",
        "\n",
        "- FPR : 1 - 특이도(Specificity)(TNR)\n",
        "  - X축에 위치\n",
        "  - $1-TNR\\,:\\,1 - \\frac{TN}{TN+FP}\\quad or \\quad FPR\\,:\\,\\frac{FP}{FP+TN}$   \n",
        "- TPR : 민감도(Sensitivity)\n",
        "  - Y축에 위치\n",
        "  - $TPR\\,:\\,\\frac{TP}{FN+TP}$\n",
        "\n"
      ],
      "metadata": {
        "id": "fptDN_SPGBUW"
      }
    },
    {
      "cell_type": "code",
      "source": [
        "#roc_curve() 사용\n",
        "#주요 파라미터 는 y_true, y_score : predict_proba()반환값 array에서 Positive 칼럼 예측 확률\n",
        "#반환값 : fpr, tpr, thresholds\n",
        "\n",
        "from sklearn.metrics import roc_curve\n",
        "import numpy as np\n",
        "#레이블 값이 1일 때의 예측 확률을 추출\n",
        "pred_proba_class = clf.predict_proba(X_test)[:,1]\n",
        "\n",
        "fprs, tprs, thresholds = roc_curve(y_test, pred_proba_class)\n",
        "#반환된 임계값 배열로우가 47건이므로 샘플로 10건만 추출하고, 임계값 5 Step으로 추출\n",
        "thr_index = np.arange(0, thresholds.shape[0], 5)\n",
        "print(\"샘플 추출을 위한 임계값 배열의 index 10개 : \",thr_index)\n",
        "print(\"샘플용 10개의 임계값 : \", np.round(thresholds[thr_index],2))\n",
        "\n",
        "#5 Step 단위로 추출된 임계값에 따른 FRP, TPR 값\n",
        "print(\"샘플 임계값별 FPR : \", np.round(fprs[thr_index],3))\n",
        "print(\"샘플 임계값별 TPR : \", np.round(tprs[thr_index],3))"
      ],
      "metadata": {
        "colab": {
          "base_uri": "https://localhost:8080/"
        },
        "id": "tb2-2zgeFzbM",
        "outputId": "7cfe3e38-5cbf-418b-b5a7-62a09bd58c79"
      },
      "execution_count": 18,
      "outputs": [
        {
          "output_type": "stream",
          "name": "stdout",
          "text": [
            "샘플 추출을 위한 임계값 배열의 index 10개 :  [ 0  5 10 15 20 25 30 35 40 45 50]\n",
            "샘플용 10개의 임계값 :  [1.97 0.75 0.63 0.59 0.49 0.4  0.35 0.23 0.13 0.12 0.11]\n",
            "샘플 임계값별 FPR :  [0.    0.017 0.034 0.051 0.127 0.161 0.203 0.331 0.585 0.636 0.797]\n",
            "샘플 임계값별 TPR :  [0.    0.475 0.689 0.754 0.787 0.836 0.869 0.902 0.918 0.967 0.967]\n"
          ]
        }
      ]
    },
    {
      "cell_type": "markdown",
      "source": [
        "결과를 확인하니 임계값이 1에서 가까운 값에서 점점 작아지면서 FPR이 점점 커짐\n",
        "\n",
        "FPR이 조금씩 커질때, TPR은 가파르게 커짐"
      ],
      "metadata": {
        "id": "9Te2MjuaKfGr"
      }
    },
    {
      "cell_type": "code",
      "source": [
        "#ROC 커브를 시각화\n",
        "import matplotlib.pyplot as plt\n",
        "\n",
        "def roc_curve_plot(y_test, pred_proba_c1):\n",
        "  #임계값에 따른 FPR, TPR 값 반환받음\n",
        "  fprs, tprs, thresholds = roc_curve(y_test, pred_proba_c1)\n",
        "  #ROC 곡선을 그래프 곡선으로 그림\n",
        "  plt.plot(fprs, tprs, label=\"ROC\")\n",
        "  #가운데 대각선 그림\n",
        "  plt.plot([0,1],[0,1],'k--',label='Random')\n",
        "\n",
        "\n",
        "  #FPR X축의 Scale을 0.1 단위로 변경 X,Y축 명 설정\n",
        "  start, end = plt.xlim()\n",
        "  plt.xticks(np.round(np.arange(start, end, 0.1),2))\n",
        "  plt.xlim(0,1)\n",
        "  plt.ylim(0,1)\n",
        "  plt.xlabel(\"FPR(1-Specificity\")\n",
        "  plt.ylabel(\"TPR(Sensitivity)\")\n",
        "  plt.legend()\n",
        "\n",
        "roc_curve_plot(y_test, pred_proba[:, 1])"
      ],
      "metadata": {
        "colab": {
          "base_uri": "https://localhost:8080/",
          "height": 283
        },
        "id": "jYmJZKQ4JoNB",
        "outputId": "b93704a7-9e8b-4078-d5df-508e25b2b550"
      },
      "execution_count": 23,
      "outputs": [
        {
          "output_type": "display_data",
          "data": {
            "image/png": "[encoded data removed]",
            "text/plain": [
              "<Figure size 432x288 with 1 Axes>"
            ]
          },
          "metadata": {
            "needs_background": "light"
          }
        }
      ]
    },
    {
      "cell_type": "markdown",
      "source": [
        "일반적으로 ROC 곡선 자페는 FRP과 TPR의 변화 값을 보는데 이용하며 분류의 성능 지표로 사용되는 것은 ROC 곡선 면적에 기반한 AUC 값으로 결정\n",
        "\n",
        "AUC 값은 1에 가까우면 좋고 0.5이상이다.\n",
        "- FPR이 작은 상태에서 얼마나 큰 TPR을 얻을 수 있는가"
      ],
      "metadata": {
        "id": "DN3fBM3nL6CV"
      }
    },
    {
      "cell_type": "code",
      "source": [
        "from sklearn.metrics import roc_auc_score\n",
        "\n",
        "pred = clf.predict(X_test)\n",
        "pred_proba = clf.predict_proba(X_test)\n",
        "roc_score = roc_auc_score(y_test, pred)\n",
        "print(\"ROC AUC 값 : \",round(roc_score, 4))"
      ],
      "metadata": {
        "colab": {
          "base_uri": "https://localhost:8080/"
        },
        "id": "0G5jSkVVK8NX",
        "outputId": "483b8482-9402-4f16-97fd-3c129a1d99cf"
      },
      "execution_count": 26,
      "outputs": [
        {
          "output_type": "stream",
          "name": "stdout",
          "text": [
            "ROC AUC 값 :  0.8341\n"
          ]
        }
      ]
    },
    {
      "cell_type": "code",
      "source": [
        "#정밀도 precision_score(), 재현율 recall_score()\n",
        "#4가지 지표를 모두 호출하는 함수를 만듬\n",
        "#F1 스코어를 추가\n",
        "#ROC AUC도 추가\n",
        "\n",
        "from sklearn.metrics import precision_score, recall_score, confusion_matrix, accuracy_score, f1_score, roc_auc_score\n",
        "from sklearn.preprocessing import Binarizer\n",
        "def get_clf_eval(y_test, pred):\n",
        "  confusion = confusion_matrix(y_test, pred)\n",
        "  accuracy = accuracy_score(y_test, pred)\n",
        "  precision = precision_score(y_test, pred)\n",
        "  recall = recall_score(y_test, pred)\n",
        "  f1 = f1_score(y_test, pred)\n",
        "  roc_score = roc_auc_score(y_test, pred)\n",
        "  print(\"오차 행렬\")\n",
        "  print(confusion)\n",
        "  print(f\"정확도 : {round(accuracy, 4)}, 정밀도 : {round(precision, 4)}, 재현율 : {round(recall, 4)}, F1 : {round(f1, 4)}, ROC AUC : {round(roc_score, 4)}\")\n",
        "\n",
        "\n",
        "\n",
        "def get_eval_by_threshold(y_test, pred_proba_c1, thresholds):\n",
        "  #threshold list 객체 내의 값을 차례로 iteration하면서 평가 수행\n",
        "  for custom_threshold in thresholds:\n",
        "    binarizer = Binarizer(threshold =custom_threshold).fit(pred_proba_c1)\n",
        "    custom_predict = binarizer.transform(pred_proba_c1)\n",
        "    print(\"임계치 : \", custom_threshold)\n",
        "    get_clf_eval(y_test, custom_predict)\n",
        "    print()\n",
        "\n"
      ],
      "metadata": {
        "id": "uot5pdYrMdOL"
      },
      "execution_count": 27,
      "outputs": []
    },
    {
      "cell_type": "code",
      "source": [
        "thresholds = [0.4, 0.45, 0.5,0.55,0.60]\n",
        "\n",
        "get_eval_by_threshold(y_test, pred_proba[:,1].reshape(-1,1),thresholds)"
      ],
      "metadata": {
        "colab": {
          "base_uri": "https://localhost:8080/"
        },
        "id": "2mjqdkgsMs5o",
        "outputId": "c9bf75a0-971e-4bdf-a217-d9f65abc5f85"
      },
      "execution_count": 30,
      "outputs": [
        {
          "output_type": "stream",
          "name": "stdout",
          "text": [
            "임계치 :  0.4\n",
            "오차 행렬\n",
            "[[98 20]\n",
            " [10 51]]\n",
            "정확도 : 0.8324, 정밀도 : 0.7183, 재현율 : 0.8361, F1 : 0.7727, ROC AUC : 0.8333\n",
            "\n",
            "임계치 :  0.45\n",
            "오차 행렬\n",
            "[[103  15]\n",
            " [ 12  49]]\n",
            "정확도 : 0.8492, 정밀도 : 0.7656, 재현율 : 0.8033, F1 : 0.784, ROC AUC : 0.8381\n",
            "\n",
            "임계치 :  0.5\n",
            "오차 행렬\n",
            "[[104  14]\n",
            " [ 13  48]]\n",
            "정확도 : 0.8492, 정밀도 : 0.7742, 재현율 : 0.7869, F1 : 0.7805, ROC AUC : 0.8341\n",
            "\n",
            "임계치 :  0.55\n",
            "오차 행렬\n",
            "[[109   9]\n",
            " [ 15  46]]\n",
            "정확도 : 0.8659, 정밀도 : 0.8364, 재현율 : 0.7541, F1 : 0.7931, ROC AUC : 0.8389\n",
            "\n",
            "임계치 :  0.6\n",
            "오차 행렬\n",
            "[[112   6]\n",
            " [ 16  45]]\n",
            "정확도 : 0.8771, 정밀도 : 0.8824, 재현율 : 0.7377, F1 : 0.8036, ROC AUC : 0.8434\n",
            "\n"
          ]
        }
      ]
    }
  ]
}