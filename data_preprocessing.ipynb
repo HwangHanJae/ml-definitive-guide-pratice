{
  "nbformat": 4,
  "nbformat_minor": 0,
  "metadata": {
    "colab": {
      "name": "data_preprocessing.ipynb",
      "provenance": [],
      "collapsed_sections": [],
      "authorship_tag": "ABX9TyPGBO2l9uKQvGPo7ZkOVwFu",
      "include_colab_link": true
    },
    "kernelspec": {
      "name": "python3",
      "display_name": "Python 3"
    },
    "language_info": {
      "name": "python"
    }
  },
  "cells": [
    {
      "cell_type": "markdown",
      "metadata": {
        "id": "view-in-github",
        "colab_type": "text"
      },
      "source": [
        "<a href=\"https://colab.research.google.com/github/HwangHanJae/ml-definitive-guide-pratice/blob/main/data_preprocessing.ipynb\" target=\"_parent\"><img src=\"https://colab.research.google.com/assets/colab-badge.svg\" alt=\"Open In Colab\"/></a>"
      ]
    },
    {
      "cell_type": "markdown",
      "source": [
        "데이터 인코딩\n",
        "- Label encoding\n",
        "  - 카테고리 피처를 코드형 숫자 값으로 변환\n",
        "- One Hot encoding\n",
        "  - 새로운 피처를 추가해 고유값에 해당하는 원래 칼럼에 1을 나머지는 0으로 만듬"
      ],
      "metadata": {
        "id": "-T29teXOLC_D"
      }
    },
    {
      "cell_type": "code",
      "execution_count": 1,
      "metadata": {
        "colab": {
          "base_uri": "https://localhost:8080/"
        },
        "id": "NypISDtXHbSI",
        "outputId": "7ccdb48c-b23e-4c48-ff87-49869aacc43e"
      },
      "outputs": [
        {
          "output_type": "stream",
          "name": "stdout",
          "text": [
            "인코딩 변환값 :  [0 1 4 5 3 3 2 2]\n"
          ]
        }
      ],
      "source": [
        "#Label encoding\n",
        "from sklearn.preprocessing import LabelEncoder\n",
        "\n",
        "items = [\"TV\", \"냉장고\", \"전자레인지\", \"컴퓨터\",\"선풍기\",\"선풍기\",\"믹서\",\"믹서\"]\n",
        "#LabelEncoder 객체를 생성한 후, fit()과 transform()으로 레이블 인코딩 수행\n",
        "\n",
        "encoder = LabelEncoder()\n",
        "encoder.fit(items)\n",
        "labels = encoder.transform(items)\n",
        "print(\"인코딩 변환값 : \", labels)"
      ]
    },
    {
      "cell_type": "markdown",
      "source": [
        "TV는 0, 냉장고는 1, 전자레인지는 4, 컴퓨터는 5, 선풍기는 3, 믹서는 2로 변환"
      ],
      "metadata": {
        "id": "ecrqhIewatiW"
      }
    },
    {
      "cell_type": "code",
      "source": [
        "#문자열 값이 어떤 숫자 값으로 인코딩 되었는지 확인\n",
        "print(\"인코딩 클래스 : \", encoder.classes_)"
      ],
      "metadata": {
        "colab": {
          "base_uri": "https://localhost:8080/"
        },
        "id": "bLdyuP63Lusi",
        "outputId": "af67ac1a-09d8-4ba3-ce08-cdf51ded5745"
      },
      "execution_count": 2,
      "outputs": [
        {
          "output_type": "stream",
          "name": "stdout",
          "text": [
            "인코딩 클래스 :  ['TV' '냉장고' '믹서' '선풍기' '전자레인지' '컴퓨터']\n"
          ]
        }
      ]
    },
    {
      "cell_type": "code",
      "source": [
        "#인코딩된 값을 디코딩\n",
        "print(\"디코딩 원본 값 : \", encoder.inverse_transform([4,5,2,0,1,1,3,3]))"
      ],
      "metadata": {
        "colab": {
          "base_uri": "https://localhost:8080/"
        },
        "id": "7F7-eKQbbZvD",
        "outputId": "5997a8e3-702c-4a44-b4ea-15d3f6aa6582"
      },
      "execution_count": 3,
      "outputs": [
        {
          "output_type": "stream",
          "name": "stdout",
          "text": [
            "디코딩 원본 값 :  ['전자레인지' '컴퓨터' '믹서' 'TV' '냉장고' '냉장고' '선풍기' '선풍기']\n"
          ]
        }
      ]
    },
    {
      "cell_type": "markdown",
      "source": [
        "Label encoding 주의사항\n",
        "- 문자열이 숫자값으로 변환되면서 몇몇 ML알고리즘에서 적용할 경우에 숫자값의 크고 작음에 대한 특성 때문에 예측 성능이 떨어질 수 있음\n",
        "- 숫자 2가 1보다 크기 때문에 가중치가 더 부여될 수 있음\n",
        "- 선형회귀와 같은 ML알고리즘에는 적용하지 않아야 함\n",
        "- 트리계열 ML알고리즘은 숫자의 이러한 특성을 반영하지 않기 때문에 별문제 없음"
      ],
      "metadata": {
        "id": "-yj7rco0bvwU"
      }
    },
    {
      "cell_type": "code",
      "source": [
        "#OneHotEncoding\n",
        "#1.변환전에 모든 문자열 값이 숫자형 값으로 변환되어야 함\n",
        "#2. 입력 값으로 2차원 데이터가 필요함\n",
        "\n",
        "from sklearn.preprocessing import OneHotEncoder, LabelEncoder\n",
        "import numpy as np\n",
        "\n",
        "items = [\"TV\", \"냉장고\", \"전자레인지\", \"컴퓨터\",\"선풍기\",\"선풍기\",\"믹서\",\"믹서\"]\n",
        "\n",
        "#먼저 숫자값으로 변환하기 위해 LabelEncoder를 사용해 변환\n",
        "\n",
        "encoder = LabelEncoder()\n",
        "encoder.fit(items)\n",
        "labels = encoder.transform(items)\n",
        "#2차원 데이터로 변환\n",
        "labels = labels.reshape(-1,1)\n",
        "\n",
        "#One-Hot encoding 적용\n",
        "oh_encoder = OneHotEncoder()\n",
        "oh_encoder.fit(labels)\n",
        "oh_labels = oh_encoder.transform(labels)\n",
        "print(\"원-핫 인코딩 데이터\")\n",
        "print(oh_labels.toarray())\n",
        "print(\"원-핫 인코딩 데이터 차원\")\n",
        "print(oh_labels.shape)"
      ],
      "metadata": {
        "colab": {
          "base_uri": "https://localhost:8080/"
        },
        "id": "jQl5pFBfbpmw",
        "outputId": "1d963699-da21-46ba-a24d-9d7a80fc7941"
      },
      "execution_count": 5,
      "outputs": [
        {
          "output_type": "stream",
          "name": "stdout",
          "text": [
            "원-핫 인코딩 데이터\n",
            "[[1. 0. 0. 0. 0. 0.]\n",
            " [0. 1. 0. 0. 0. 0.]\n",
            " [0. 0. 0. 0. 1. 0.]\n",
            " [0. 0. 0. 0. 0. 1.]\n",
            " [0. 0. 0. 1. 0. 0.]\n",
            " [0. 0. 0. 1. 0. 0.]\n",
            " [0. 0. 1. 0. 0. 0.]\n",
            " [0. 0. 1. 0. 0. 0.]]\n",
            "원-핫 인코딩 데이터 차원\n",
            "(8, 6)\n"
          ]
        }
      ]
    },
    {
      "cell_type": "markdown",
      "source": [
        "TV, 냉장고, 믹서, 선풍기, 전자레인지, 컴퓨터 순서"
      ],
      "metadata": {
        "id": "nsjJcQxvd96r"
      }
    },
    {
      "cell_type": "code",
      "source": [
        "#pandas에서 one-hot-encoding 하기\n",
        "#get_dummies()\n",
        "\n",
        "#문자열을 숫자형으로 변환하지 않아도 됨\n",
        "\n",
        "import pandas as pd\n",
        "\n",
        "df = pd.DataFrame({\"items\" : [\"TV\", \"냉장고\", \"전자레인지\", \"컴퓨터\",\"선풍기\",\"선풍기\",\"믹서\",\"믹서\"]})\n",
        "pd.get_dummies(df)"
      ],
      "metadata": {
        "colab": {
          "base_uri": "https://localhost:8080/",
          "height": 300
        },
        "id": "e6ZNjL-DdJx8",
        "outputId": "539c1794-ae23-46fc-a4be-fff0e7ca4d55"
      },
      "execution_count": 6,
      "outputs": [
        {
          "output_type": "execute_result",
          "data": {
            "text/html": [
              "\n",
              "  <div id=\"df-b55a0a86-6c2f-4fb9-80bd-b370009fcf22\">\n",
              "    <div class=\"colab-df-container\">\n",
              "      <div>\n",
              "<style scoped>\n",
              "    .dataframe tbody tr th:only-of-type {\n",
              "        vertical-align: middle;\n",
              "    }\n",
              "\n",
              "    .dataframe tbody tr th {\n",
              "        vertical-align: top;\n",
              "    }\n",
              "\n",
              "    .dataframe thead th {\n",
              "        text-align: right;\n",
              "    }\n",
              "</style>\n",
              "<table border=\"1\" class=\"dataframe\">\n",
              "  <thead>\n",
              "    <tr style=\"text-align: right;\">\n",
              "      <th></th>\n",
              "      <th>items_TV</th>\n",
              "      <th>items_냉장고</th>\n",
              "      <th>items_믹서</th>\n",
              "      <th>items_선풍기</th>\n",
              "      <th>items_전자레인지</th>\n",
              "      <th>items_컴퓨터</th>\n",
              "    </tr>\n",
              "  </thead>\n",
              "  <tbody>\n",
              "    <tr>\n",
              "      <th>0</th>\n",
              "      <td>1</td>\n",
              "      <td>0</td>\n",
              "      <td>0</td>\n",
              "      <td>0</td>\n",
              "      <td>0</td>\n",
              "      <td>0</td>\n",
              "    </tr>\n",
              "    <tr>\n",
              "      <th>1</th>\n",
              "      <td>0</td>\n",
              "      <td>1</td>\n",
              "      <td>0</td>\n",
              "      <td>0</td>\n",
              "      <td>0</td>\n",
              "      <td>0</td>\n",
              "    </tr>\n",
              "    <tr>\n",
              "      <th>2</th>\n",
              "      <td>0</td>\n",
              "      <td>0</td>\n",
              "      <td>0</td>\n",
              "      <td>0</td>\n",
              "      <td>1</td>\n",
              "      <td>0</td>\n",
              "    </tr>\n",
              "    <tr>\n",
              "      <th>3</th>\n",
              "      <td>0</td>\n",
              "      <td>0</td>\n",
              "      <td>0</td>\n",
              "      <td>0</td>\n",
              "      <td>0</td>\n",
              "      <td>1</td>\n",
              "    </tr>\n",
              "    <tr>\n",
              "      <th>4</th>\n",
              "      <td>0</td>\n",
              "      <td>0</td>\n",
              "      <td>0</td>\n",
              "      <td>1</td>\n",
              "      <td>0</td>\n",
              "      <td>0</td>\n",
              "    </tr>\n",
              "    <tr>\n",
              "      <th>5</th>\n",
              "      <td>0</td>\n",
              "      <td>0</td>\n",
              "      <td>0</td>\n",
              "      <td>1</td>\n",
              "      <td>0</td>\n",
              "      <td>0</td>\n",
              "    </tr>\n",
              "    <tr>\n",
              "      <th>6</th>\n",
              "      <td>0</td>\n",
              "      <td>0</td>\n",
              "      <td>1</td>\n",
              "      <td>0</td>\n",
              "      <td>0</td>\n",
              "      <td>0</td>\n",
              "    </tr>\n",
              "    <tr>\n",
              "      <th>7</th>\n",
              "      <td>0</td>\n",
              "      <td>0</td>\n",
              "      <td>1</td>\n",
              "      <td>0</td>\n",
              "      <td>0</td>\n",
              "      <td>0</td>\n",
              "    </tr>\n",
              "  </tbody>\n",
              "</table>\n",
              "</div>\n",
              "      <button class=\"colab-df-convert\" onclick=\"convertToInteractive('df-b55a0a86-6c2f-4fb9-80bd-b370009fcf22')\"\n",
              "              title=\"Convert this dataframe to an interactive table.\"\n",
              "              style=\"display:none;\">\n",
              "        \n",
              "  <svg xmlns=\"http://www.w3.org/2000/svg\" height=\"24px\"viewBox=\"0 0 24 24\"\n",
              "       width=\"24px\">\n",
              "    <path d=\"M0 0h24v24H0V0z\" fill=\"none\"/>\n",
              "    <path d=\"M18.56 5.44l.94 2.06.94-2.06 2.06-.94-2.06-.94-.94-2.06-.94 2.06-2.06.94zm-11 1L8.5 8.5l.94-2.06 2.06-.94-2.06-.94L8.5 2.5l-.94 2.06-2.06.94zm10 10l.94 2.06.94-2.06 2.06-.94-2.06-.94-.94-2.06-.94 2.06-2.06.94z\"/><path d=\"M17.41 7.96l-1.37-1.37c-.4-.4-.92-.59-1.43-.59-.52 0-1.04.2-1.43.59L10.3 9.45l-7.72 7.72c-.78.78-.78 2.05 0 2.83L4 21.41c.39.39.9.59 1.41.59.51 0 1.02-.2 1.41-.59l7.78-7.78 2.81-2.81c.8-.78.8-2.07 0-2.86zM5.41 20L4 18.59l7.72-7.72 1.47 1.35L5.41 20z\"/>\n",
              "  </svg>\n",
              "      </button>\n",
              "      \n",
              "  <style>\n",
              "    .colab-df-container {\n",
              "      display:flex;\n",
              "      flex-wrap:wrap;\n",
              "      gap: 12px;\n",
              "    }\n",
              "\n",
              "    .colab-df-convert {\n",
              "      background-color: #E8F0FE;\n",
              "      border: none;\n",
              "      border-radius: 50%;\n",
              "      cursor: pointer;\n",
              "      display: none;\n",
              "      fill: #1967D2;\n",
              "      height: 32px;\n",
              "      padding: 0 0 0 0;\n",
              "      width: 32px;\n",
              "    }\n",
              "\n",
              "    .colab-df-convert:hover {\n",
              "      background-color: #E2EBFA;\n",
              "      box-shadow: 0px 1px 2px rgba(60, 64, 67, 0.3), 0px 1px 3px 1px rgba(60, 64, 67, 0.15);\n",
              "      fill: #174EA6;\n",
              "    }\n",
              "\n",
              "    [theme=dark] .colab-df-convert {\n",
              "      background-color: #3B4455;\n",
              "      fill: #D2E3FC;\n",
              "    }\n",
              "\n",
              "    [theme=dark] .colab-df-convert:hover {\n",
              "      background-color: #434B5C;\n",
              "      box-shadow: 0px 1px 3px 1px rgba(0, 0, 0, 0.15);\n",
              "      filter: drop-shadow(0px 1px 2px rgba(0, 0, 0, 0.3));\n",
              "      fill: #FFFFFF;\n",
              "    }\n",
              "  </style>\n",
              "\n",
              "      <script>\n",
              "        const buttonEl =\n",
              "          document.querySelector('#df-b55a0a86-6c2f-4fb9-80bd-b370009fcf22 button.colab-df-convert');\n",
              "        buttonEl.style.display =\n",
              "          google.colab.kernel.accessAllowed ? 'block' : 'none';\n",
              "\n",
              "        async function convertToInteractive(key) {\n",
              "          const element = document.querySelector('#df-b55a0a86-6c2f-4fb9-80bd-b370009fcf22');\n",
              "          const dataTable =\n",
              "            await google.colab.kernel.invokeFunction('convertToInteractive',\n",
              "                                                     [key], {});\n",
              "          if (!dataTable) return;\n",
              "\n",
              "          const docLinkHtml = 'Like what you see? Visit the ' +\n",
              "            '<a target=\"_blank\" href=https://colab.research.google.com/notebooks/data_table.ipynb>data table notebook</a>'\n",
              "            + ' to learn more about interactive tables.';\n",
              "          element.innerHTML = '';\n",
              "          dataTable['output_type'] = 'display_data';\n",
              "          await google.colab.output.renderOutput(dataTable, element);\n",
              "          const docLink = document.createElement('div');\n",
              "          docLink.innerHTML = docLinkHtml;\n",
              "          element.appendChild(docLink);\n",
              "        }\n",
              "      </script>\n",
              "    </div>\n",
              "  </div>\n",
              "  "
            ],
            "text/plain": [
              "   items_TV  items_냉장고  items_믹서  items_선풍기  items_전자레인지  items_컴퓨터\n",
              "0         1          0         0          0            0          0\n",
              "1         0          1         0          0            0          0\n",
              "2         0          0         0          0            1          0\n",
              "3         0          0         0          0            0          1\n",
              "4         0          0         0          1            0          0\n",
              "5         0          0         0          1            0          0\n",
              "6         0          0         1          0            0          0\n",
              "7         0          0         1          0            0          0"
            ]
          },
          "metadata": {},
          "execution_count": 6
        }
      ]
    },
    {
      "cell_type": "markdown",
      "source": [
        "피처 스케일링과 정규화\n",
        "\n",
        ": 서로 다른 변수의 값 범위를 일정한 수준으로 맞추는 작업\n",
        "- 표준화(Standardization)\n",
        "  - 평균 = 0, 분산이 1인 가우시안 정규분포를 가진 값으로 변환\n",
        "  - z점수 = X - mean / std\n",
        "  - SVM, 선형회귀, 로지스틱 회귀는 데이터가 정규분포를 가지고 있다고 가정했기에 해당 모델에 적용할때 예측 성능 향상에 기여할 수 있음\n",
        "- 정규화(Normalizaion)\n",
        "  - 일반적으로 서로 다른 피처의 크기를 통일하기 위해 크기를 변환해주는 개념\n",
        "  - 대표적으로 MinMaxScaling\n",
        "    - 데이터의 값을 0과 1사이로 변환\n",
        "      - 음수값이 있다면 -1에서 1로 변환\n",
        "      -데이터의 분포가 가우시안 분포가 아닐경우 적용해 볼 수 있음\n",
        "  - 사이킷런의 Normalizer 모듈은 선형대수에서의 정규화 개념이 적용\n",
        "    - 개별 벡터의 크기를 맞추기 위해 변환\n",
        "\n",
        "- 표준화와 정규화를 피처 스케일링으로 지칭\n",
        "- 선형대수 개념의 정규화를 벡터 정규화로 지칭\n"
      ],
      "metadata": {
        "id": "loqGr4queeWP"
      }
    },
    {
      "cell_type": "code",
      "source": [
        "#표준화를 하기전 데이터\n",
        "from sklearn.datasets import load_iris\n",
        "import pandas as pd\n",
        "\n",
        "iris = load_iris()\n",
        "iris_data = iris.data\n",
        "iris_df = pd.DataFrame(data=iris_data, columns = iris.feature_names)\n",
        "print(\"###표준화 적용 전####\")\n",
        "print(\"feature들의 평균값\")\n",
        "print(iris_df.mean())\n",
        "print(\"\\nfeature등의 분산값\")\n",
        "print(iris_df.var())\n",
        "\n",
        "#StandardScaler 표준화를 지원하는 클래스\n",
        "from sklearn.preprocessing import StandardScaler\n",
        "\n",
        "scaler = StandardScaler()\n",
        "scaler.fit(iris_df)\n",
        "iris_scaled = scaler.transform(iris_df)\n",
        "\n",
        "iris_df_scaled = pd.DataFrame(iris_scaled, columns = iris.feature_names)\n",
        "print(\"\\n###표준화 적용 후####\")\n",
        "print(\"feature들의 평균값\")\n",
        "print(iris_df_scaled.mean())\n",
        "print(\"\\nfeature들의 분산값\")\n",
        "print(iris_df_scaled.var())"
      ],
      "metadata": {
        "colab": {
          "base_uri": "https://localhost:8080/"
        },
        "id": "RSuFj-z9fhbT",
        "outputId": "af0a670d-addf-4c21-9d45-829116be4265"
      },
      "execution_count": 12,
      "outputs": [
        {
          "output_type": "stream",
          "name": "stdout",
          "text": [
            "###표준화 적용 전####\n",
            "feature들의 평균값\n",
            "sepal length (cm)    5.843333\n",
            "sepal width (cm)     3.057333\n",
            "petal length (cm)    3.758000\n",
            "petal width (cm)     1.199333\n",
            "dtype: float64\n",
            "\n",
            "feature등의 분산값\n",
            "sepal length (cm)    0.685694\n",
            "sepal width (cm)     0.189979\n",
            "petal length (cm)    3.116278\n",
            "petal width (cm)     0.581006\n",
            "dtype: float64\n",
            "\n",
            "###표준화 적용 후####\n",
            "feature들의 평균값\n",
            "sepal length (cm)   -1.690315e-15\n",
            "sepal width (cm)    -1.842970e-15\n",
            "petal length (cm)   -1.698641e-15\n",
            "petal width (cm)    -1.409243e-15\n",
            "dtype: float64\n",
            "\n",
            "feature등의 분산값\n",
            "sepal length (cm)    1.006711\n",
            "sepal width (cm)     1.006711\n",
            "petal length (cm)    1.006711\n",
            "petal width (cm)     1.006711\n",
            "dtype: float64\n"
          ]
        }
      ]
    },
    {
      "cell_type": "markdown",
      "source": [
        "표준화 적용 후를 보면 평균이 0에 가깝고, 분산이 1에 가깝게 변환된 것을 볼 수 있음\n"
      ],
      "metadata": {
        "id": "pklp8MvJhfME"
      }
    },
    {
      "cell_type": "code",
      "source": [
        "#최소최대정규화 적용 전\n",
        "from sklearn.preprocessing import MinMaxScaler\n",
        "from sklearn.datasets import load_iris\n",
        "\n",
        "iris = load_iris()\n",
        "iris_df = pd.DataFrame(iris.data, columns = iris.feature_names)\n",
        "print(\"###최소최대정규화 적용 전###\")\n",
        "print(\"feature들의 최소값 : \")\n",
        "print(iris_df.min())\n",
        "print(\"\\nfeature들의 최대값 : \")\n",
        "print(iris_df.max())\n",
        "\n",
        "#최소최대정규화 적용 후\n",
        "scaler = MinMaxScaler()\n",
        "scaler.fit(iris_df)\n",
        "iris_scaled = scaler.transform(iris_df)\n",
        "iris_df_scaled = pd.DataFrame(iris_scaled, columns = iris.feature_names)\n",
        "print(\"\\n###최소최대정규화 적용 전###\")\n",
        "print(\"feature들의 최소값 : \")\n",
        "print(iris_df_scaled.min())\n",
        "print(\"\\nfeature들의 최대값 : \")\n",
        "print(iris_df_scaled.max())"
      ],
      "metadata": {
        "colab": {
          "base_uri": "https://localhost:8080/"
        },
        "id": "bGqaSEdrhPoS",
        "outputId": "ff9bb955-abde-45fd-9a0e-0aa1938cc56e"
      },
      "execution_count": 18,
      "outputs": [
        {
          "output_type": "stream",
          "name": "stdout",
          "text": [
            "###최소최대정규화 적용 전###\n",
            "feature들의 최소값 : \n",
            "sepal length (cm)    4.3\n",
            "sepal width (cm)     2.0\n",
            "petal length (cm)    1.0\n",
            "petal width (cm)     0.1\n",
            "dtype: float64\n",
            "\n",
            "feature들의 최대값 : \n",
            "sepal length (cm)    7.9\n",
            "sepal width (cm)     4.4\n",
            "petal length (cm)    6.9\n",
            "petal width (cm)     2.5\n",
            "dtype: float64\n",
            "\n",
            "###최소최대정규화 적용 전###\n",
            "feature들의 최소값 : \n",
            "sepal length (cm)    0.0\n",
            "sepal width (cm)     0.0\n",
            "petal length (cm)    0.0\n",
            "petal width (cm)     0.0\n",
            "dtype: float64\n",
            "\n",
            "feature들의 최대값 : \n",
            "sepal length (cm)    1.0\n",
            "sepal width (cm)     1.0\n",
            "petal length (cm)    1.0\n",
            "petal width (cm)     1.0\n",
            "dtype: float64\n"
          ]
        }
      ]
    },
    {
      "cell_type": "code",
      "source": [
        ""
      ],
      "metadata": {
        "id": "6I5SUr4qiUlF"
      },
      "execution_count": null,
      "outputs": []
    }
  ]
}