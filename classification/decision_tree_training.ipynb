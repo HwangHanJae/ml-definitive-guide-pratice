{
  "nbformat": 4,
  "nbformat_minor": 0,
  "metadata": {
    "colab": {
      "name": "decision_tree_training.ipynb",
      "provenance": [],
      "collapsed_sections": [],
      "mount_file_id": "1Tg8AnMuvuSv7GKPZGFc5Bc0_Qw8T9AD9",
      "authorship_tag": "ABX9TyP666SIkXZe9omoi3+5ZZHX",
      "include_colab_link": true
    },
    "kernelspec": {
      "name": "python3",
      "display_name": "Python 3"
    },
    "language_info": {
      "name": "python"
    }
  },
  "cells": [
    {
      "cell_type": "markdown",
      "metadata": {
        "id": "view-in-github",
        "colab_type": "text"
      },
      "source": [
        "<a href=\"https://colab.research.google.com/github/HwangHanJae/ml-definitive-guide-pratice/blob/main/classification/decision_tree_training.ipynb\" target=\"_parent\"><img src=\"https://colab.research.google.com/assets/colab-badge.svg\" alt=\"Open In Colab\"/></a>"
      ]
    },
    {
      "cell_type": "markdown",
      "source": [
        "#결정 트리 실습 - 사용자 행동 인식 데이터 세트\n",
        "##### [UCI 머신러닝 리포지토리(Machine Learning Repository)에서 제공하는 사용자 인식(Humal Acticity Recognition)](https://archive.ics.uci.edu/ml/datasets/Human+Activity+Recognition+Using+Smartphones) 데이터 세트의 예측 분류"
      ],
      "metadata": {
        "id": "TYj3fZ-DfrwO"
      }
    },
    {
      "cell_type": "markdown",
      "source": [
        "전체 데이터를 확인하기 전에 간단히 피처명만 확인"
      ],
      "metadata": {
        "id": "-H4UvjAdi2iT"
      }
    },
    {
      "cell_type": "code",
      "execution_count": 2,
      "metadata": {
        "colab": {
          "base_uri": "https://localhost:8080/"
        },
        "id": "gdHygu0dfbGN",
        "outputId": "5863a17b-810d-432d-c88d-02f791502960"
      },
      "outputs": [
        {
          "output_type": "stream",
          "name": "stdout",
          "text": [
            "전체 피처명에서 10개만 추출 ['tBodyAcc-mean()-X', 'tBodyAcc-mean()-Y', 'tBodyAcc-mean()-Z', 'tBodyAcc-std()-X', 'tBodyAcc-std()-Y', 'tBodyAcc-std()-Z', 'tBodyAcc-mad()-X', 'tBodyAcc-mad()-Y', 'tBodyAcc-mad()-Z', 'tBodyAcc-max()-X']\n"
          ]
        }
      ],
      "source": [
        "import pandas as pd\n",
        "\n",
        "file_path = \"/content/drive/MyDrive/Colab Notebooks/DataScience/Data/uci_humal_activity/features.txt\"\n",
        "#features.txt 파일에는 피처 이름 index와 피처명이 공백으로 분리 되어 있음.\n",
        "#이를 DataFrame으로 로드\n",
        "feature_name_df = pd.read_csv(file_path, sep='\\s+', header=None, names=[\"column_index\", \"column_name\"])\n",
        "\n",
        "#피처명 index를 제거하고, 피처명만 리스트 객체로 생성한뒤 샘플로 10개만 추출\n",
        "feture_name = feature_name_df.iloc[:, 1].values.tolist()\n",
        "print(\"전체 피처명에서 10개만 추출\", feture_name[:10])"
      ]
    },
    {
      "cell_type": "markdown",
      "source": [
        "피처명을 확인해보면 인체의 움직임과 관련된 속성의 평균/표준편차가  \n",
        "X, Y ,Z축 값으로 되어있음을 알 수 있다.\n",
        "\n"
      ],
      "metadata": {
        "id": "GD30YGxsjjg7"
      }
    },
    {
      "cell_type": "markdown",
      "source": [
        "학습/테스트 데이터를 로드하고, 레이블의 칼럼은 'action'으로 변경  \n",
        "해당 데이터 세트를 DataFrame으로 생성하는 함수를 작성"
      ],
      "metadata": {
        "id": "87_v1s1okDk0"
      }
    },
    {
      "cell_type": "markdown",
      "source": [
        "중복 feature명에 대하여 원본 feature 명에 '_1(또는 _2)'를 추가로 부여하는 함수생성"
      ],
      "metadata": {
        "id": "MYo8vNiRnXiY"
      }
    },
    {
      "cell_type": "code",
      "source": [
        "import pandas as pd\n",
        "### features.txt 파일에 있는 컬럼명을 입력 받아서 중복된 컬럼명은 원본 컬럼명+_1, _2와 같이 중복된 차수를 원본 컬럼명에 더해서 컬럼명을 update 하는 함수임. . \n",
        "def get_new_feature_name_df(old_feature_name_df):\n",
        "    #column_name으로 중복된 컬럼명에 대해서는 중복 차수 부여, col1, col1과 같이 2개의 중복 컬럼이 있을 경우 1, 2 \n",
        "    feature_dup_df = pd.DataFrame(data=old_feature_name_df.groupby('column_name').cumcount(), columns=['dup_cnt'])\n",
        "    # feature_dup_df의 index인 column_name을 reset_index()를 이용하여 컬럼으로 변환. \n",
        "    feature_dup_df = feature_dup_df.reset_index()\n",
        "    # 인자로 받은 features_txt의 컬럼명 DataFrame과 feature_dup_df를 조인. \n",
        "    new_feature_name_df = pd.merge(old_feature_name_df.reset_index(), feature_dup_df, how='outer')\n",
        "    # 새로운 컬럼명은 앞에 중복 차수를 접미어로 결합. \n",
        "    new_feature_name_df['column_name'] = new_feature_name_df[['column_name', 'dup_cnt']].apply(lambda x : x[0]+'_'+str(x[1]) \n",
        "                                                                                           if x[1] >0 else x[0] ,  axis=1)\n",
        "    new_feature_name_df = new_feature_name_df.drop(['index'], axis=1)\n",
        "    return new_feature_name_df"
      ],
      "metadata": {
        "id": "WaBMuSbjnvTk"
      },
      "execution_count": 3,
      "outputs": []
    },
    {
      "cell_type": "code",
      "source": [
        "def get_human_dataset():\n",
        " \n",
        "  file_path = \"/content/drive/MyDrive/Colab Notebooks/DataScience/Data/uci_humal_activity/features.txt\"\n",
        "  #각 데이터 파일들은 공백으로 구분되어 있으므로 read_csv에서 공백 문자를 sep으로 할당\n",
        "  feature_name_df = pd.read_csv(file_path, sep='\\s+', header=None, names=[\"column_index\", \"column_name\"])\n",
        "  \n",
        "\n",
        " #중복된 feature명을 새롭게 수정하는 get_new_feature_name_df()를 이용하여 새로운 feature명 DataFrame생성. \n",
        "  new_feature_name_df = get_new_feature_name_df(feature_name_df)\n",
        "  #DataFrame에 피처명을 칼럼으로 부여하기 위해 리스트 객체로 다시 반환\n",
        "  feature_name = new_feature_name_df.iloc[:, 1].values.tolist()\n",
        "\n",
        "  #학습 피처 데이터 세트(X_train) / 테스트 피처 데이터 세트(X_test)를 DataFrame으로 로딩\n",
        "  #칼럼명은 feature_name을 사용\n",
        "  X_train_path = \"/content/drive/MyDrive/Colab Notebooks/DataScience/Data/uci_humal_activity/train/X_train.txt\"\n",
        "  X_test_path = \"/content/drive/MyDrive/Colab Notebooks/DataScience/Data/uci_humal_activity/test/X_test.txt\"\n",
        "  X_train = pd.read_csv(X_train_path, sep='\\s+',names = feature_name)\n",
        "  X_test = pd.read_csv(X_test_path, sep='\\s+',names = feature_name)\n",
        "\n",
        "  #학습 레이블 데이터(y_train) / 테스트 레이블 데이트(y_test)를 DataFrame으로 로딩\n",
        "  #칼럼명은 action으로 사용\n",
        "  y_train_path = \"/content/drive/MyDrive/Colab Notebooks/DataScience/Data/uci_humal_activity/train/y_train.txt\"\n",
        "  y_test_path = \"/content/drive/MyDrive/Colab Notebooks/DataScience/Data/uci_humal_activity/test/y_test.txt\"\n",
        "  y_train = pd.read_csv(y_train_path, sep='\\s+', header = None, names=[\"action\"])\n",
        "  y_test = pd.read_csv(y_test_path, sep='\\s+', header = None, names=[\"action\"])\n",
        "\n",
        "  #로드된 학습/테스트용 DataFrame 모두 반환\n",
        "  return X_train, X_test, y_train, y_test"
      ],
      "metadata": {
        "id": "crvqj7Dfj3SG"
      },
      "execution_count": 4,
      "outputs": []
    },
    {
      "cell_type": "code",
      "source": [
        "X_train, X_test, y_train, y_test = get_human_dataset()"
      ],
      "metadata": {
        "id": "jYzpnqUjmO3m"
      },
      "execution_count": 5,
      "outputs": []
    },
    {
      "cell_type": "code",
      "source": [
        "print(\"## 학습 피처 데이터 세트 info()\")\n",
        "print(X_train.info())"
      ],
      "metadata": {
        "colab": {
          "base_uri": "https://localhost:8080/"
        },
        "id": "rH8YXJS2pQ09",
        "outputId": "1c924fc3-0945-49c3-bbbb-1e948ba2d42f"
      },
      "execution_count": 6,
      "outputs": [
        {
          "output_type": "stream",
          "name": "stdout",
          "text": [
            "## 학습 피처 데이터 세트 info()\n",
            "<class 'pandas.core.frame.DataFrame'>\n",
            "RangeIndex: 7352 entries, 0 to 7351\n",
            "Columns: 561 entries, tBodyAcc-mean()-X to angle(Z,gravityMean)\n",
            "dtypes: float64(561)\n",
            "memory usage: 31.5 MB\n",
            "None\n"
          ]
        }
      ]
    },
    {
      "cell_type": "markdown",
      "source": [
        "학습 데이터 세트는 7532개의 레코드로 561개의 피처를 가지고 있음  \n",
        "피처는 전부 float64 숫자 형으로 별도의 카테고리 인코딩을 수행할 필요는 없음"
      ],
      "metadata": {
        "id": "eoCQVw_epfCG"
      }
    },
    {
      "cell_type": "code",
      "source": [
        "print(\"레이블 값의 분포 : \")\n",
        "print(y_train.value_counts())"
      ],
      "metadata": {
        "colab": {
          "base_uri": "https://localhost:8080/"
        },
        "id": "AUDMsbr8po3g",
        "outputId": "71f68fdc-09c7-41c0-b8db-d65df601a19e"
      },
      "execution_count": 8,
      "outputs": [
        {
          "output_type": "stream",
          "name": "stdout",
          "text": [
            "레이블 값의 분포 : \n",
            "action\n",
            "6         1407\n",
            "5         1374\n",
            "4         1286\n",
            "1         1226\n",
            "2         1073\n",
            "3          986\n",
            "dtype: int64\n"
          ]
        }
      ]
    },
    {
      "cell_type": "markdown",
      "source": [
        "레이블 값은 1,2,3,4,5,6으로 비교적 고르게 분포되어 있음"
      ],
      "metadata": {
        "id": "8GreuRSlp7Yk"
      }
    },
    {
      "cell_type": "code",
      "source": [
        "#DecisionTreeClassifier를 이용해 동작 예측 분류 수행\n",
        "#하이퍼 파라미터는 모두 default로\n",
        "\n",
        "from sklearn.tree import DecisionTreeClassifier\n",
        "from sklearn.metrics import accuracy_score\n",
        "import numpy as np\n",
        "dt_clf = DecisionTreeClassifier(random_state= 156)\n",
        "dt_clf.fit(X_train, y_train)\n",
        "pred = dt_clf.predict(X_test)\n",
        "accuracy = accuracy_score(y_test, pred)\n",
        "print(f\"결정 트리의 예측 정확도 : {np.round(accuracy, 4)}\")"
      ],
      "metadata": {
        "colab": {
          "base_uri": "https://localhost:8080/"
        },
        "id": "eEbDveIKqC6_",
        "outputId": "7493771f-900c-4080-c4c9-86d7fdf82cf1"
      },
      "execution_count": 9,
      "outputs": [
        {
          "output_type": "stream",
          "name": "stdout",
          "text": [
            "결정 트리의 예측 정확도 : 0.8548\n"
          ]
        }
      ]
    },
    {
      "cell_type": "code",
      "source": [
        "#DecisionTreeClassifier의 기본 하이퍼 마라피터 추출\n",
        "print(f\"{dt_clf.__class__.__name__}의 기본 하이퍼 파라미터 :\\n{dt_clf.get_params()}\")"
      ],
      "metadata": {
        "colab": {
          "base_uri": "https://localhost:8080/"
        },
        "id": "qDsbTBWwqmpO",
        "outputId": "75c38a06-c352-49c6-a786-18c26168c2b2"
      },
      "execution_count": 10,
      "outputs": [
        {
          "output_type": "stream",
          "name": "stdout",
          "text": [
            "DecisionTreeClassifier의 기본 하이퍼 파라미터 :\n",
            "{'ccp_alpha': 0.0, 'class_weight': None, 'criterion': 'gini', 'max_depth': None, 'max_features': None, 'max_leaf_nodes': None, 'min_impurity_decrease': 0.0, 'min_samples_leaf': 1, 'min_samples_split': 2, 'min_weight_fraction_leaf': 0.0, 'random_state': 156, 'splitter': 'best'}\n"
          ]
        }
      ]
    },
    {
      "cell_type": "markdown",
      "source": [
        "모델은 약 85%의 정확도를 나타내고 있음.  \n",
        "결정 트리의 트리 깊이(max_depth)가 예측 정확도에 주는 영향을 살피겠음"
      ],
      "metadata": {
        "id": "mpEhCNa8q5NF"
      }
    },
    {
      "cell_type": "code",
      "source": [
        "#GridSearchCV를 사용 cv=5, max_depth는 6부터 올리도록 함\n",
        "from sklearn.model_selection import GridSearchCV\n",
        "\n",
        "params = {\"max_depth\" : [6, 8, 10, 12, 16, 20, 24]}\n",
        "\n",
        "grid_cv = GridSearchCV(dt_clf, param_grid=params, cv=5, scoring='accuracy', verbose= 1,return_train_score=True)\n",
        "grid_cv.fit(X_train, y_train)\n",
        "\n",
        "print(f\"GridSearchCV 최고 평균 정확도 수치 : {np.round(grid_cv.best_score_, 4)}\")\n",
        "print(f\"GridSearchCV 최적 하이퍼 파라미터 : {grid_cv.best_params_}\")\n"
      ],
      "metadata": {
        "colab": {
          "base_uri": "https://localhost:8080/"
        },
        "id": "BybFrkNurLVE",
        "outputId": "0f0da0b8-51bc-46e6-bbfb-57d8f3e1ad4c"
      },
      "execution_count": 16,
      "outputs": [
        {
          "output_type": "stream",
          "name": "stdout",
          "text": [
            "Fitting 5 folds for each of 7 candidates, totalling 35 fits\n",
            "GridSearchCV 최고 평균 정확도 수치 : 0.8513\n",
            "GridSearchCV 최적 하이퍼 파라미터 : {'max_depth': 16}\n"
          ]
        }
      ]
    },
    {
      "cell_type": "markdown",
      "source": [
        "max_depth가 16일때 85%정도로 최고 평균 정확도가 도출"
      ],
      "metadata": {
        "id": "cc0JO6j_scpq"
      }
    },
    {
      "cell_type": "markdown",
      "source": [
        "max_depth의 증가에 따라 예측 성능이 어떻게 변했는지 확인  \n",
        "cv_results_ 속성에 성능 수치를 가지고 있음\n",
        "- max_depth\n",
        "- 평가 데이터 세트의 평균 정확도 수치('mean_test_score')\n",
        "- 학습 데이터 세트의 평균 정확도 수치('mean_train_score')\n",
        "\n",
        "위의 항목을 확인"
      ],
      "metadata": {
        "id": "VF2x4NOwsIEZ"
      }
    },
    {
      "cell_type": "code",
      "source": [
        "#GridSearchCV 객체의 cv_results_ 속성을 DataFrame으로 생성\n",
        "cv_results_df = pd.DataFrame(grid_cv.cv_results_)\n",
        "\n",
        "#항목 확인\n",
        "cv_results_df[[\"param_max_depth\",\"mean_test_score\",\"mean_train_score\"]]"
      ],
      "metadata": {
        "colab": {
          "base_uri": "https://localhost:8080/",
          "height": 269
        },
        "id": "1CP9CuoSs_cp",
        "outputId": "dc08e831-5138-4b0f-e125-a83b89ec6e1e"
      },
      "execution_count": 18,
      "outputs": [
        {
          "output_type": "execute_result",
          "data": {
            "text/html": [
              "\n",
              "  <div id=\"df-63bdd35b-c121-4398-8b11-f850867a19d6\">\n",
              "    <div class=\"colab-df-container\">\n",
              "      <div>\n",
              "<style scoped>\n",
              "    .dataframe tbody tr th:only-of-type {\n",
              "        vertical-align: middle;\n",
              "    }\n",
              "\n",
              "    .dataframe tbody tr th {\n",
              "        vertical-align: top;\n",
              "    }\n",
              "\n",
              "    .dataframe thead th {\n",
              "        text-align: right;\n",
              "    }\n",
              "</style>\n",
              "<table border=\"1\" class=\"dataframe\">\n",
              "  <thead>\n",
              "    <tr style=\"text-align: right;\">\n",
              "      <th></th>\n",
              "      <th>param_max_depth</th>\n",
              "      <th>mean_test_score</th>\n",
              "      <th>mean_train_score</th>\n",
              "    </tr>\n",
              "  </thead>\n",
              "  <tbody>\n",
              "    <tr>\n",
              "      <th>0</th>\n",
              "      <td>6</td>\n",
              "      <td>0.850791</td>\n",
              "      <td>0.944879</td>\n",
              "    </tr>\n",
              "    <tr>\n",
              "      <th>1</th>\n",
              "      <td>8</td>\n",
              "      <td>0.851069</td>\n",
              "      <td>0.982692</td>\n",
              "    </tr>\n",
              "    <tr>\n",
              "      <th>2</th>\n",
              "      <td>10</td>\n",
              "      <td>0.851209</td>\n",
              "      <td>0.993403</td>\n",
              "    </tr>\n",
              "    <tr>\n",
              "      <th>3</th>\n",
              "      <td>12</td>\n",
              "      <td>0.844135</td>\n",
              "      <td>0.997212</td>\n",
              "    </tr>\n",
              "    <tr>\n",
              "      <th>4</th>\n",
              "      <td>16</td>\n",
              "      <td>0.851344</td>\n",
              "      <td>0.999660</td>\n",
              "    </tr>\n",
              "    <tr>\n",
              "      <th>5</th>\n",
              "      <td>20</td>\n",
              "      <td>0.850800</td>\n",
              "      <td>0.999966</td>\n",
              "    </tr>\n",
              "    <tr>\n",
              "      <th>6</th>\n",
              "      <td>24</td>\n",
              "      <td>0.849440</td>\n",
              "      <td>1.000000</td>\n",
              "    </tr>\n",
              "  </tbody>\n",
              "</table>\n",
              "</div>\n",
              "      <button class=\"colab-df-convert\" onclick=\"convertToInteractive('df-63bdd35b-c121-4398-8b11-f850867a19d6')\"\n",
              "              title=\"Convert this dataframe to an interactive table.\"\n",
              "              style=\"display:none;\">\n",
              "        \n",
              "  <svg xmlns=\"http://www.w3.org/2000/svg\" height=\"24px\"viewBox=\"0 0 24 24\"\n",
              "       width=\"24px\">\n",
              "    <path d=\"M0 0h24v24H0V0z\" fill=\"none\"/>\n",
              "    <path d=\"M18.56 5.44l.94 2.06.94-2.06 2.06-.94-2.06-.94-.94-2.06-.94 2.06-2.06.94zm-11 1L8.5 8.5l.94-2.06 2.06-.94-2.06-.94L8.5 2.5l-.94 2.06-2.06.94zm10 10l.94 2.06.94-2.06 2.06-.94-2.06-.94-.94-2.06-.94 2.06-2.06.94z\"/><path d=\"M17.41 7.96l-1.37-1.37c-.4-.4-.92-.59-1.43-.59-.52 0-1.04.2-1.43.59L10.3 9.45l-7.72 7.72c-.78.78-.78 2.05 0 2.83L4 21.41c.39.39.9.59 1.41.59.51 0 1.02-.2 1.41-.59l7.78-7.78 2.81-2.81c.8-.78.8-2.07 0-2.86zM5.41 20L4 18.59l7.72-7.72 1.47 1.35L5.41 20z\"/>\n",
              "  </svg>\n",
              "      </button>\n",
              "      \n",
              "  <style>\n",
              "    .colab-df-container {\n",
              "      display:flex;\n",
              "      flex-wrap:wrap;\n",
              "      gap: 12px;\n",
              "    }\n",
              "\n",
              "    .colab-df-convert {\n",
              "      background-color: #E8F0FE;\n",
              "      border: none;\n",
              "      border-radius: 50%;\n",
              "      cursor: pointer;\n",
              "      display: none;\n",
              "      fill: #1967D2;\n",
              "      height: 32px;\n",
              "      padding: 0 0 0 0;\n",
              "      width: 32px;\n",
              "    }\n",
              "\n",
              "    .colab-df-convert:hover {\n",
              "      background-color: #E2EBFA;\n",
              "      box-shadow: 0px 1px 2px rgba(60, 64, 67, 0.3), 0px 1px 3px 1px rgba(60, 64, 67, 0.15);\n",
              "      fill: #174EA6;\n",
              "    }\n",
              "\n",
              "    [theme=dark] .colab-df-convert {\n",
              "      background-color: #3B4455;\n",
              "      fill: #D2E3FC;\n",
              "    }\n",
              "\n",
              "    [theme=dark] .colab-df-convert:hover {\n",
              "      background-color: #434B5C;\n",
              "      box-shadow: 0px 1px 3px 1px rgba(0, 0, 0, 0.15);\n",
              "      filter: drop-shadow(0px 1px 2px rgba(0, 0, 0, 0.3));\n",
              "      fill: #FFFFFF;\n",
              "    }\n",
              "  </style>\n",
              "\n",
              "      <script>\n",
              "        const buttonEl =\n",
              "          document.querySelector('#df-63bdd35b-c121-4398-8b11-f850867a19d6 button.colab-df-convert');\n",
              "        buttonEl.style.display =\n",
              "          google.colab.kernel.accessAllowed ? 'block' : 'none';\n",
              "\n",
              "        async function convertToInteractive(key) {\n",
              "          const element = document.querySelector('#df-63bdd35b-c121-4398-8b11-f850867a19d6');\n",
              "          const dataTable =\n",
              "            await google.colab.kernel.invokeFunction('convertToInteractive',\n",
              "                                                     [key], {});\n",
              "          if (!dataTable) return;\n",
              "\n",
              "          const docLinkHtml = 'Like what you see? Visit the ' +\n",
              "            '<a target=\"_blank\" href=https://colab.research.google.com/notebooks/data_table.ipynb>data table notebook</a>'\n",
              "            + ' to learn more about interactive tables.';\n",
              "          element.innerHTML = '';\n",
              "          dataTable['output_type'] = 'display_data';\n",
              "          await google.colab.output.renderOutput(dataTable, element);\n",
              "          const docLink = document.createElement('div');\n",
              "          docLink.innerHTML = docLinkHtml;\n",
              "          element.appendChild(docLink);\n",
              "        }\n",
              "      </script>\n",
              "    </div>\n",
              "  </div>\n",
              "  "
            ],
            "text/plain": [
              "  param_max_depth  mean_test_score  mean_train_score\n",
              "0               6         0.850791          0.944879\n",
              "1               8         0.851069          0.982692\n",
              "2              10         0.851209          0.993403\n",
              "3              12         0.844135          0.997212\n",
              "4              16         0.851344          0.999660\n",
              "5              20         0.850800          0.999966\n",
              "6              24         0.849440          1.000000"
            ]
          },
          "metadata": {},
          "execution_count": 18
        }
      ]
    },
    {
      "cell_type": "markdown",
      "source": [
        "max_depth가 높아질수록 학습 데이터 세트의 정확도 수치가 100%에 이르지만  \n",
        "평가 데이트 세트의 정확도 수치는 max_depth = 16에서 최대, 그 이후로는 낮아지고 있다.\n",
        "\n",
        "과적합의 모습을 보이고 있음"
      ],
      "metadata": {
        "id": "ixi2LgzsuPZV"
      }
    },
    {
      "cell_type": "markdown",
      "source": [
        "테스트 데이터 세트에서 max_depth의 변화를 확인"
      ],
      "metadata": {
        "id": "kp6GoRZ8uxcd"
      }
    },
    {
      "cell_type": "code",
      "source": [
        "max_depths = [6,8,10,12,16,20,24]\n",
        "for max_depth in max_depths:\n",
        "  dt_clf = DecisionTreeClassifier(max_depth= max_depth, random_state=156)\n",
        "  dt_clf.fit(X_train, y_train)\n",
        "  pred = dt_clf.predict(X_test)\n",
        "  accuracy = accuracy_score(y_test, pred)\n",
        "  print(f\"max_depth = {max_depth} 정확도 : {np.round(accuracy, 4)}\")"
      ],
      "metadata": {
        "colab": {
          "base_uri": "https://localhost:8080/"
        },
        "id": "BTS1OdRguvUk",
        "outputId": "d892f8f2-55bf-4e2e-931d-9b322066b300"
      },
      "execution_count": 19,
      "outputs": [
        {
          "output_type": "stream",
          "name": "stdout",
          "text": [
            "max_depth = 6 정확도 : 0.8558\n",
            "max_depth = 8 정확도 : 0.8707\n",
            "max_depth = 10 정확도 : 0.8673\n",
            "max_depth = 12 정확도 : 0.8646\n",
            "max_depth = 16 정확도 : 0.8575\n",
            "max_depth = 20 정확도 : 0.8548\n",
            "max_depth = 24 정확도 : 0.8548\n"
          ]
        }
      ]
    },
    {
      "cell_type": "markdown",
      "source": [
        "max_depth가 8일때 87%정도로 가장 높았고, max_depth가 8을 넘어가면서 정확도가 낮아지는 것을 볼 수 있음\n",
        "\n",
        "max_depth는 과적합의 영향력이 커지므로 하이퍼 파라미터를 이용해 깊이를 제어해야 함"
      ],
      "metadata": {
        "id": "H_AuZjtYvbfS"
      }
    },
    {
      "cell_type": "markdown",
      "source": [
        "max_depth와 min_samples_split을 같이 변경하면서 튜닝"
      ],
      "metadata": {
        "id": "EJihkTdLu27W"
      }
    },
    {
      "cell_type": "code",
      "source": [
        "params = {\"max_depth\": [8, 12, 16, 20, 24],\n",
        "          \"min_samples_split\" : [16, 24]}\n",
        "\n",
        "grid_cv =GridSearchCV(dt_clf, param_grid=params, cv=5, scoring=\"accuracy\",verbose=1)\n",
        "grid_cv.fit(X_train, y_train)\n",
        "print(f\"GridSearchCV 최고 평균 정확도 수치 : {np.round(grid_cv.best_score_,4)}\")\n",
        "print(f\"GridSearchCV 최적 하이퍼 파라미터 : {grid_cv.best_params_}\")"
      ],
      "metadata": {
        "colab": {
          "base_uri": "https://localhost:8080/"
        },
        "id": "-BU8rADDu2HA",
        "outputId": "45601ec7-864a-40a6-ea96-99c1871330b0"
      },
      "execution_count": 20,
      "outputs": [
        {
          "output_type": "stream",
          "name": "stdout",
          "text": [
            "Fitting 5 folds for each of 10 candidates, totalling 50 fits\n",
            "GridSearchCV 최고 평균 정확도 수치 : 0.8549\n",
            "GridSearchCV 최적 하이퍼 파라미터 : {'max_depth': 8, 'min_samples_split': 16}\n"
          ]
        }
      ]
    },
    {
      "cell_type": "markdown",
      "source": [
        "max_depth = 8 , min_samples_split = 16 일때 최고 평균 정확도 85% 정도로 나타남."
      ],
      "metadata": {
        "id": "6nj37JWQxopm"
      }
    },
    {
      "cell_type": "markdown",
      "source": [
        "bese_estimator_로 테스트 데이터 세트를 예측"
      ],
      "metadata": {
        "id": "r4XlfDpVx54n"
      }
    },
    {
      "cell_type": "code",
      "source": [
        "best_df_clf = grid_cv.best_estimator_\n",
        "pred = best_df_clf.predict(X_test)\n",
        "accuracy = accuracy_score(y_test, pred)\n",
        "print(f\"결정 트리 예측 정확도 : {np.round(accuracy, 4)}\")"
      ],
      "metadata": {
        "colab": {
          "base_uri": "https://localhost:8080/"
        },
        "id": "-24ExHDryg4A",
        "outputId": "448d143c-2dfd-4150-fa10-02c8c8d56625"
      },
      "execution_count": 21,
      "outputs": [
        {
          "output_type": "stream",
          "name": "stdout",
          "text": [
            "결정 트리 예측 정확도 : 0.8717\n"
          ]
        }
      ]
    },
    {
      "cell_type": "markdown",
      "source": [
        "max_depth = 8 , min_samples_split = 16 일때 결정 트리 예측 정확도가 87% 정도로 나타남."
      ],
      "metadata": {
        "id": "_eU1RvQxzIJF"
      }
    },
    {
      "cell_type": "markdown",
      "source": [
        "중요도가 높은 순으로 Top 20 피처의 중요도 확인"
      ],
      "metadata": {
        "id": "9tb0ffn6zOZ4"
      }
    },
    {
      "cell_type": "code",
      "source": [
        "import seaborn as sns\n",
        "import matplotlib.pyplot as plt\n",
        "feature_importance = best_df_clf.feature_importances_\n",
        "\n",
        "#Top 중요도로 정렬을 쉽게하고, seaborn 막대그래프로 쉽게 표현하기 위해 Series로 변환\n",
        "feature_importance = pd.Series(feature_importance, index=X_train.columns)\n",
        "\n",
        "#중요도 값순으로 Sereis를 정렬\n",
        "top20 = feature_importance.sort_values(ascending=False)[:20]\n",
        "plt.figure(figsize=(10,8))\n",
        "plt.title(\"Feature Importance Top 20\")\n",
        "sns.barplot(x=top20, y=top20.index)\n",
        "plt.show()"
      ],
      "metadata": {
        "colab": {
          "base_uri": "https://localhost:8080/",
          "height": 499
        },
        "id": "bCKqS1bEzUbY",
        "outputId": "de3be8c9-d1ff-4024-9c32-09f02bee7972"
      },
      "execution_count": 23,
      "outputs": [
        {
          "output_type": "display_data",
          "data": {
            "image/png": "[encoded data removed]",
            "text/plain": [
              "<Figure size 720x576 with 1 Axes>"
            ]
          },
          "metadata": {
            "needs_background": "light"
          }
        }
      ]
    },
    {
      "cell_type": "markdown",
      "source": [
        "막대 그래프의 Top 5 피처가 결정 트리 규칙생성에 중요한 영향을 미치고 있음."
      ],
      "metadata": {
        "id": "W-mV5vFd0Ky6"
      }
    }
  ]
}